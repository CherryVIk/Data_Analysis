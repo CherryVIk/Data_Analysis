{
 "cells": [
  {
   "cell_type": "markdown",
   "metadata": {
    "id": "-rwyz50ThVSE"
   },
   "source": [
    "Lesson_1. Введення і виведення даних.\n"
   ]
  },
  {
   "cell_type": "code",
   "execution_count": 14,
   "metadata": {
    "executionInfo": {
     "elapsed": 735,
     "status": "ok",
     "timestamp": 1610187735128,
     "user": {
      "displayName": "Nataly Shchestyuk",
      "photoUrl": "https://lh3.googleusercontent.com/a-/AOh14GiGmm2Y--BlVwfBp_CuWxsigZApSqWhzi1zdDp9Pw=s64",
      "userId": "01922572432703813034"
     },
     "user_tz": -120
    },
    "id": "zpQDeK-hc1pP"
   },
   "outputs": [],
   "source": [
    "\n",
    "#Завантажити Pandas\n",
    "\n",
    "import pandas as pd\n",
    "\n"
   ]
  },
  {
   "cell_type": "markdown",
   "metadata": {
    "id": "azy_KQzRPdqB"
   },
   "source": [
    "Пакет Pandas має дві структури даних Series та DataFrame.\n"
   ]
  },
  {
   "cell_type": "code",
   "execution_count": null,
   "metadata": {
    "colab": {
     "base_uri": "https://localhost:8080/"
    },
    "executionInfo": {
     "elapsed": 958,
     "status": "ok",
     "timestamp": 1609857505231,
     "user": {
      "displayName": "Nataly Shchestyuk",
      "photoUrl": "https://lh3.googleusercontent.com/a-/AOh14GiGmm2Y--BlVwfBp_CuWxsigZApSqWhzi1zdDp9Pw=s64",
      "userId": "01922572432703813034"
     },
     "user_tz": -120
    },
    "id": "sqxB-SfuaSwT",
    "outputId": "e20a5197-1007-4592-d547-cdc919eb5370"
   },
   "outputs": [
    {
     "name": "stdout",
     "output_type": "stream",
     "text": [
      "Hello World\n"
     ]
    }
   ],
   "source": [
    "print (\"Hello World\")"
   ]
  },
  {
   "cell_type": "code",
   "execution_count": null,
   "metadata": {
    "colab": {
     "base_uri": "https://localhost:8080/"
    },
    "executionInfo": {
     "elapsed": 676,
     "status": "ok",
     "timestamp": 1609857583802,
     "user": {
      "displayName": "Nataly Shchestyuk",
      "photoUrl": "https://lh3.googleusercontent.com/a-/AOh14GiGmm2Y--BlVwfBp_CuWxsigZApSqWhzi1zdDp9Pw=s64",
      "userId": "01922572432703813034"
     },
     "user_tz": -120
    },
    "id": "-_zhpHL7_K3p",
    "outputId": "f2debc9c-84e4-4cad-a4f1-fed2a9bf6d77"
   },
   "outputs": [
    {
     "data": {
      "text/plain": [
       "255"
      ]
     },
     "execution_count": 4,
     "metadata": {
      "tags": []
     },
     "output_type": "execute_result"
    }
   ],
   "source": [
    "a=17*15\n",
    "a"
   ]
  },
  {
   "cell_type": "code",
   "execution_count": null,
   "metadata": {
    "colab": {
     "base_uri": "https://localhost:8080/"
    },
    "executionInfo": {
     "elapsed": 757,
     "status": "ok",
     "timestamp": 1609857625424,
     "user": {
      "displayName": "Nataly Shchestyuk",
      "photoUrl": "https://lh3.googleusercontent.com/a-/AOh14GiGmm2Y--BlVwfBp_CuWxsigZApSqWhzi1zdDp9Pw=s64",
      "userId": "01922572432703813034"
     },
     "user_tz": -120
    },
    "id": "TnGCJ5Xr_XUP",
    "outputId": "c185b82d-0e56-43fa-9bbf-f90a1abc32b5"
   },
   "outputs": [
    {
     "data": {
      "text/plain": [
       "21.25"
      ]
     },
     "execution_count": 5,
     "metadata": {
      "tags": []
     },
     "output_type": "execute_result"
    }
   ],
   "source": [
    "b=a/12\n",
    "b"
   ]
  },
  {
   "cell_type": "code",
   "execution_count": null,
   "metadata": {
    "id": "uxkd7xCk-I_o"
   },
   "outputs": [],
   "source": [
    "#Завантажити дані вручну\n",
    "Nata=[11,23,11,34,45,56,67,78,89,90]\n"
   ]
  },
  {
   "cell_type": "code",
   "execution_count": null,
   "metadata": {
    "colab": {
     "base_uri": "https://localhost:8080/",
     "height": 208
    },
    "executionInfo": {
     "elapsed": 1267,
     "status": "ok",
     "timestamp": 1593001578680,
     "user": {
      "displayName": "Nataly Shchestyuk",
      "photoUrl": "https://lh3.googleusercontent.com/a-/AOh14GiGmm2Y--BlVwfBp_CuWxsigZApSqWhzi1zdDp9Pw=s64",
      "userId": "01922572432703813034"
     },
     "user_tz": -180
    },
    "id": "8HT3TJ08-adc",
    "outputId": "2f4cc3c4-6af6-4cd3-9b26-afbc63475813"
   },
   "outputs": [
    {
     "data": {
      "text/plain": [
       "0    11\n",
       "1    23\n",
       "2    11\n",
       "3    34\n",
       "4    45\n",
       "5    56\n",
       "6    67\n",
       "7    78\n",
       "8    89\n",
       "9    90\n",
       "dtype: int64"
      ]
     },
     "execution_count": 3,
     "metadata": {
      "tags": []
     },
     "output_type": "execute_result"
    }
   ],
   "source": [
    "#Сформувати із цих даних стовпчик-таблицю\n",
    "pd.Series(data=Nata)\n"
   ]
  },
  {
   "cell_type": "code",
   "execution_count": null,
   "metadata": {
    "colab": {
     "base_uri": "https://localhost:8080/"
    },
    "executionInfo": {
     "elapsed": 733,
     "status": "ok",
     "timestamp": 1609862643396,
     "user": {
      "displayName": "Nataly Shchestyuk",
      "photoUrl": "https://lh3.googleusercontent.com/a-/AOh14GiGmm2Y--BlVwfBp_CuWxsigZApSqWhzi1zdDp9Pw=s64",
      "userId": "01922572432703813034"
     },
     "user_tz": -120
    },
    "id": "rP2IJF17RSRQ",
    "outputId": "d2f70113-7f39-4c0d-ae0f-b2e2a5fad98c"
   },
   "outputs": [
    {
     "name": "stdout",
     "output_type": "stream",
     "text": [
      "0    11\n",
      "1    23\n",
      "2    11\n",
      "3    34\n",
      "4    45\n",
      "5    56\n",
      "6    67\n",
      "7    78\n",
      "8    89\n",
      "9    90\n",
      "dtype: int64\n"
     ]
    }
   ],
   "source": [
    "Nata=pd.Series([11,23,11,34,45,56,67,78,89,90])\n",
    "print(Nata)"
   ]
  },
  {
   "cell_type": "code",
   "execution_count": null,
   "metadata": {
    "id": "wrPLXQ4N-6G2"
   },
   "outputs": [],
   "source": [
    "# Дамо позначення (якщо потрібно)\n",
    "labels=['a','b','c','d','вага','e','no','yes','r','or']"
   ]
  },
  {
   "cell_type": "code",
   "execution_count": null,
   "metadata": {
    "id": "8CvLls37_Vp6"
   },
   "outputs": [],
   "source": [
    "# назвемо дані proba\n",
    "proba=pd.Series(data=Nata, index=labels)"
   ]
  },
  {
   "cell_type": "code",
   "execution_count": null,
   "metadata": {
    "colab": {
     "base_uri": "https://localhost:8080/"
    },
    "executionInfo": {
     "elapsed": 914,
     "status": "ok",
     "timestamp": 1609857766040,
     "user": {
      "displayName": "Nataly Shchestyuk",
      "photoUrl": "https://lh3.googleusercontent.com/a-/AOh14GiGmm2Y--BlVwfBp_CuWxsigZApSqWhzi1zdDp9Pw=s64",
      "userId": "01922572432703813034"
     },
     "user_tz": -120
    },
    "id": "EemjtuoC_nFL",
    "outputId": "049c4330-e64b-4fbd-93b2-50fabc514bd3"
   },
   "outputs": [
    {
     "data": {
      "text/plain": [
       "a       11\n",
       "b       23\n",
       "c       11\n",
       "d       34\n",
       "вага    45\n",
       "e       56\n",
       "no      67\n",
       "yes     78\n",
       "r       89\n",
       "or      90\n",
       "dtype: int64"
      ]
     },
     "execution_count": 9,
     "metadata": {
      "tags": []
     },
     "output_type": "execute_result"
    }
   ],
   "source": [
    "# роздрукуємо\n",
    "proba"
   ]
  },
  {
   "cell_type": "code",
   "execution_count": null,
   "metadata": {
    "colab": {
     "base_uri": "https://localhost:8080/"
    },
    "executionInfo": {
     "elapsed": 836,
     "status": "ok",
     "timestamp": 1609863060896,
     "user": {
      "displayName": "Nataly Shchestyuk",
      "photoUrl": "https://lh3.googleusercontent.com/a-/AOh14GiGmm2Y--BlVwfBp_CuWxsigZApSqWhzi1zdDp9Pw=s64",
      "userId": "01922572432703813034"
     },
     "user_tz": -120
    },
    "id": "b1oC5tHRTLRL",
    "outputId": "60d7bc63-a89a-470c-a214-f0f68f846a0c"
   },
   "outputs": [
    {
     "data": {
      "text/plain": [
       "a       10\n",
       "b       23\n",
       "c       11\n",
       "d       34\n",
       "вага    45\n",
       "e       56\n",
       "no      67\n",
       "yes     78\n",
       "r       89\n",
       "or      90\n",
       "dtype: int64"
      ]
     },
     "execution_count": 21,
     "metadata": {
      "tags": []
     },
     "output_type": "execute_result"
    }
   ],
   "source": [
    "# можна зразу ввести і дані, і позначення для них\n",
    "proba=pd.Series([10,23,11,34,45,56,67,78,89,90], ['a','b','c','d','вага','e','no','yes','r','or'])\n",
    "proba"
   ]
  },
  {
   "cell_type": "code",
   "execution_count": null,
   "metadata": {
    "colab": {
     "base_uri": "https://localhost:8080/"
    },
    "executionInfo": {
     "elapsed": 922,
     "status": "ok",
     "timestamp": 1609866426502,
     "user": {
      "displayName": "Nataly Shchestyuk",
      "photoUrl": "https://lh3.googleusercontent.com/a-/AOh14GiGmm2Y--BlVwfBp_CuWxsigZApSqWhzi1zdDp9Pw=s64",
      "userId": "01922572432703813034"
     },
     "user_tz": -120
    },
    "id": "OTXsgCzsdqoH",
    "outputId": "6ea33fc6-f98a-4c6e-ff30-662634415528"
   },
   "outputs": [
    {
     "name": "stdout",
     "output_type": "stream",
     "text": [
      "    price  count\n",
      "v1     10     10\n",
      "v2     20     12\n",
      "v3     30      7\n"
     ]
    }
   ],
   "source": [
    "# Dataframe для побудови таблиці\n",
    "d_new = {\"price\":pd.Series([10, 20, 30], index=['v1', 'v2', 'v3']),\n",
    "   \"count\": pd.Series([10, 12, 7], index=['v1', 'v2', 'v3'])}\n",
    "table = pd.DataFrame(d_new)\n",
    "print(table)"
   ]
  },
  {
   "cell_type": "markdown",
   "metadata": {
    "id": "zpXR2M9b0ZYg"
   },
   "source": [
    "Далі варто розглянути, як працювати з файлами. А саме, як зберегти нашу таблицю у вигляді файлу, як считати файл .excel, .csv.\n"
   ]
  },
  {
   "cell_type": "code",
   "execution_count": null,
   "metadata": {
    "colab": {
     "base_uri": "https://localhost:8080/",
     "height": 97,
     "resources": {
      "http://localhost:8080/nbextensions/google.colab/files.js": {
       "data": "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",
       "headers": [
        [
         "content-type",
         "application/javascript"
        ]
       ],
       "ok": true,
       "status": 200,
       "status_text": "OK"
      }
     }
    },
    "executionInfo": {
     "elapsed": 17096,
     "status": "ok",
     "timestamp": 1610184956095,
     "user": {
      "displayName": "Nataly Shchestyuk",
      "photoUrl": "https://lh3.googleusercontent.com/a-/AOh14GiGmm2Y--BlVwfBp_CuWxsigZApSqWhzi1zdDp9Pw=s64",
      "userId": "01922572432703813034"
     },
     "user_tz": -120
    },
    "id": "Ggx89Mx_5Jzn",
    "outputId": "8dadd79a-4f41-46c5-adc6-71f2d902ee03"
   },
   "outputs": [
    {
     "data": {
      "text/html": [
       "\n",
       "     <input type=\"file\" id=\"files-f6123c02-250c-4f36-9995-9af605a495db\" name=\"files[]\" multiple disabled\n",
       "        style=\"border:none\" />\n",
       "     <output id=\"result-f6123c02-250c-4f36-9995-9af605a495db\">\n",
       "      Upload widget is only available when the cell has been executed in the\n",
       "      current browser session. Please rerun this cell to enable.\n",
       "      </output>\n",
       "      <script src=\"/nbextensions/google.colab/files.js\"></script> "
      ],
      "text/plain": [
       "<IPython.core.display.HTML object>"
      ]
     },
     "metadata": {
      "tags": []
     },
     "output_type": "display_data"
    },
    {
     "name": "stdout",
     "output_type": "stream",
     "text": [
      "Saving titanic.csv to titanic (1).csv\n",
      "titanic.csv titanic.csv\n"
     ]
    }
   ],
   "source": [
    "from google.colab import files\n",
    "uploaded = files.upload()\n",
    "\n",
    "for name, data in uploaded.items():\n",
    "  with open(name, 'wb') as f:\n",
    "    f.write(data)\n",
    "    print ('titanic.csv', name)"
   ]
  },
  {
   "cell_type": "code",
   "execution_count": null,
   "metadata": {
    "colab": {
     "base_uri": "https://localhost:8080/"
    },
    "executionInfo": {
     "elapsed": 2065,
     "status": "ok",
     "timestamp": 1610184977145,
     "user": {
      "displayName": "Nataly Shchestyuk",
      "photoUrl": "https://lh3.googleusercontent.com/a-/AOh14GiGmm2Y--BlVwfBp_CuWxsigZApSqWhzi1zdDp9Pw=s64",
      "userId": "01922572432703813034"
     },
     "user_tz": -120
    },
    "id": "EjQ86Fd01EOE",
    "outputId": "e54555f8-fed6-41e8-c6b2-4504c1255a89"
   },
   "outputs": [
    {
     "name": "stdout",
     "output_type": "stream",
     "text": [
      "   PassengerId  Survived  Pclass  ...     Fare Cabin  Embarked\n",
      "0            1         0       3  ...   7.2500   NaN         S\n",
      "1            2         1       1  ...  71.2833   C85         C\n",
      "2            3         1       3  ...   7.9250   NaN         S\n",
      "3            4         1       1  ...  53.1000  C123         S\n",
      "4            5         0       3  ...   8.0500   NaN         S\n",
      "\n",
      "[5 rows x 12 columns]\n"
     ]
    }
   ],
   "source": [
    "titanic_df = pd.read_csv('titanic.csv')\n",
    "print(titanic_df.head())\n"
   ]
  },
  {
   "cell_type": "markdown",
   "metadata": {
    "id": "0WaRMpGNfIw2"
   },
   "source": [
    "Угруповання даних один з найбільш часто використовуваних методів при аналізі даних. У pandas за угруповання відповідає метод .groupby.\n",
    "Необхідно підрахувати, скільки жінок і чоловіків вижило, а скільки ні. У цьому нам допоможе метод .groupby.\n"
   ]
  },
  {
   "cell_type": "code",
   "execution_count": null,
   "metadata": {
    "colab": {
     "base_uri": "https://localhost:8080/"
    },
    "executionInfo": {
     "elapsed": 1701,
     "status": "ok",
     "timestamp": 1610185852140,
     "user": {
      "displayName": "Nataly Shchestyuk",
      "photoUrl": "https://lh3.googleusercontent.com/a-/AOh14GiGmm2Y--BlVwfBp_CuWxsigZApSqWhzi1zdDp9Pw=s64",
      "userId": "01922572432703813034"
     },
     "user_tz": -120
    },
    "id": "48TSLXtHfQ3s",
    "outputId": "53d2d9a6-a04e-462c-8a45-ef00debd8b70"
   },
   "outputs": [
    {
     "name": "stdout",
     "output_type": "stream",
     "text": [
      "Sex     Survived\n",
      "female  0            81\n",
      "        1           233\n",
      "male    0           468\n",
      "        1           109\n",
      "Name: PassengerId, dtype: int64\n"
     ]
    }
   ],
   "source": [
    "print(titanic_df.groupby(['Sex','Survived'])[\"PassengerId\"].count())"
   ]
  },
  {
   "cell_type": "code",
   "execution_count": null,
   "metadata": {
    "colab": {
     "base_uri": "https://localhost:8080/"
    },
    "executionInfo": {
     "elapsed": 971,
     "status": "ok",
     "timestamp": 1610186943929,
     "user": {
      "displayName": "Nataly Shchestyuk",
      "photoUrl": "https://lh3.googleusercontent.com/a-/AOh14GiGmm2Y--BlVwfBp_CuWxsigZApSqWhzi1zdDp9Pw=s64",
      "userId": "01922572432703813034"
     },
     "user_tz": -120
    },
    "id": "J90rgjX0nfcv",
    "outputId": "f97a328c-7c1c-458c-9afa-8a28a56d2049"
   },
   "outputs": [
    {
     "name": "stdout",
     "output_type": "stream",
     "text": [
      "Pclass  Survived\n",
      "1       0            80\n",
      "        1           136\n",
      "2       0            97\n",
      "        1            87\n",
      "3       0           372\n",
      "        1           119\n",
      "Name: PassengerId, dtype: int64\n"
     ]
    }
   ],
   "source": [
    "print(titanic_df.groupby(['Pclass','Survived'])[\"PassengerId\"].count())"
   ]
  },
  {
   "cell_type": "markdown",
   "metadata": {
    "id": "FIO09qVrrFNy"
   },
   "source": [
    "У наступному уроці буде розглянуто числові характеристики даних і методи візуалізації. До зустрічі!\n"
   ]
  }
 ],
 "metadata": {
  "colab": {
   "collapsed_sections": [],
   "name": "2020_Lesson_1.ipynb",
   "provenance": []
  },
  "kernelspec": {
   "display_name": "Python 3",
   "language": "python",
   "name": "python3"
  },
  "language_info": {
   "codemirror_mode": {
    "name": "ipython",
    "version": 3
   },
   "file_extension": ".py",
   "mimetype": "text/x-python",
   "name": "python",
   "nbconvert_exporter": "python",
   "pygments_lexer": "ipython3",
   "version": "3.8.8"
  }
 },
 "nbformat": 4,
 "nbformat_minor": 1
}
