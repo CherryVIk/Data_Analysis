{
 "cells": [
  {
   "cell_type": "markdown",
   "id": "c4748dea",
   "metadata": {},
   "source": [
    "# Індивідуальне завдання №2 \n",
    "\n",
    "Бойченко Вікторія\n",
    "\n",
    "## Перетворення даних з усіма варіантами на електронну таблицю. Завантаження цієї таблиці через Pandas. Вибір даних свого варіанту. Сформування варіаційного ряду. Виведення перших й останніх пяти значень.(1)\n"
   ]
  },
  {
   "cell_type": "markdown",
   "id": "c864cbe4",
   "metadata": {},
   "source": [
    "### Завантаження необхідних бібліотек\n",
    "\n",
    "\n",
    "**pandas** - для роботи з даними з таблиці \n",
    "\n",
    "**numpy** - для математичних обчислень \n",
    "\n",
    "**seaborn** - для кращого вигляду графіків \n",
    "\n",
    "**matplotlib.pyplot** - для роботи з графіками "
   ]
  },
  {
   "cell_type": "code",
   "execution_count": 51,
   "id": "0cdbb139",
   "metadata": {},
   "outputs": [],
   "source": [
    "#Завантаження необхідних бібліотек\n",
    "\n",
    "import pandas as pd\n",
    "import numpy as np\n",
    "import seaborn as sns\n",
    "sns.set() # для кращого вигляду графіків\n",
    "\n",
    "#завантажимо додаткові бібліотеки для гістограми і коробки з вусами\n",
    "import matplotlib.pyplot as plt\n",
    "\n",
    "import scipy.stats as st "
   ]
  },
  {
   "cell_type": "markdown",
   "id": "f7895bdd",
   "metadata": {},
   "source": [
    "### Завантаження таблиці через Pandas\n",
    "\n",
    "Вибираємо дані варіанту №1 (usecols=\"A\"). Оскільки файл не містив заголовків, тому було обрано *header=None* та дано назву першій колонці *Var1*"
   ]
  },
  {
   "cell_type": "code",
   "execution_count": 52,
   "id": "a9289361",
   "metadata": {},
   "outputs": [],
   "source": [
    "# Завантаження таблиці-excel через Pandas, вибираючи дані варіанту №1\n",
    "df = pd.read_excel(\"Data1.xlsx\", header=None, usecols=\"A\", names=[\"Var1\"])\n",
    "data = df[\"Var1\"]"
   ]
  },
  {
   "cell_type": "code",
   "execution_count": 53,
   "id": "474d3dbb",
   "metadata": {},
   "outputs": [
    {
     "data": {
      "text/plain": [
       "0      0.175\n",
       "1      0.609\n",
       "2      0.330\n",
       "3      0.275\n",
       "4      0.441\n",
       "       ...  \n",
       "105    0.315\n",
       "106    0.529\n",
       "107    0.210\n",
       "108    0.420\n",
       "109    0.157\n",
       "Name: Var1, Length: 110, dtype: float64"
      ]
     },
     "execution_count": 53,
     "metadata": {},
     "output_type": "execute_result"
    }
   ],
   "source": [
    "data"
   ]
  },
  {
   "cell_type": "markdown",
   "id": "d2d4f12a",
   "metadata": {},
   "source": [
    "*data.describe()* дає нам короткий опис характеристик даних. \n",
    "\n",
    "Зокрема значення середнього, середньоквадратичного відхилення, мінімального та максимального значень, квартилі $ \\frac{1}{4}, \\frac{2}{4}, \\frac{3}{4}$\n",
    "\n"
   ]
  },
  {
   "cell_type": "code",
   "execution_count": 54,
   "id": "6827b1fb",
   "metadata": {},
   "outputs": [
    {
     "data": {
      "text/plain": [
       "count    110.000000\n",
       "mean       0.423018\n",
       "std        0.187772\n",
       "min        0.081000\n",
       "25%        0.279000\n",
       "50%        0.397500\n",
       "75%        0.575750\n",
       "max        0.843000\n",
       "Name: Var1, dtype: float64"
      ]
     },
     "execution_count": 54,
     "metadata": {},
     "output_type": "execute_result"
    }
   ],
   "source": [
    "data.describe()"
   ]
  },
  {
   "cell_type": "markdown",
   "id": "db10864d",
   "metadata": {},
   "source": [
    "За допомогою *.sort_values()* отримали відсортований за зростанням ряд - варіаційний ряд.\n",
    "\n"
   ]
  },
  {
   "cell_type": "code",
   "execution_count": 55,
   "id": "e822a0dd",
   "metadata": {},
   "outputs": [],
   "source": [
    "data_sorted = df.sort_values(by=['Var1'])"
   ]
  },
  {
   "cell_type": "markdown",
   "id": "06b42174",
   "metadata": {},
   "source": [
    "*.head()* - виведення перших п'яти значень варіаційного ряду\n"
   ]
  },
  {
   "cell_type": "code",
   "execution_count": 56,
   "id": "e9a47d89",
   "metadata": {},
   "outputs": [
    {
     "data": {
      "text/html": [
       "<div>\n",
       "<style scoped>\n",
       "    .dataframe tbody tr th:only-of-type {\n",
       "        vertical-align: middle;\n",
       "    }\n",
       "\n",
       "    .dataframe tbody tr th {\n",
       "        vertical-align: top;\n",
       "    }\n",
       "\n",
       "    .dataframe thead th {\n",
       "        text-align: right;\n",
       "    }\n",
       "</style>\n",
       "<table border=\"1\" class=\"dataframe\">\n",
       "  <thead>\n",
       "    <tr style=\"text-align: right;\">\n",
       "      <th></th>\n",
       "      <th>Var1</th>\n",
       "    </tr>\n",
       "  </thead>\n",
       "  <tbody>\n",
       "    <tr>\n",
       "      <th>27</th>\n",
       "      <td>0.081</td>\n",
       "    </tr>\n",
       "    <tr>\n",
       "      <th>103</th>\n",
       "      <td>0.121</td>\n",
       "    </tr>\n",
       "    <tr>\n",
       "      <th>52</th>\n",
       "      <td>0.125</td>\n",
       "    </tr>\n",
       "    <tr>\n",
       "      <th>86</th>\n",
       "      <td>0.142</td>\n",
       "    </tr>\n",
       "    <tr>\n",
       "      <th>44</th>\n",
       "      <td>0.143</td>\n",
       "    </tr>\n",
       "  </tbody>\n",
       "</table>\n",
       "</div>"
      ],
      "text/plain": [
       "      Var1\n",
       "27   0.081\n",
       "103  0.121\n",
       "52   0.125\n",
       "86   0.142\n",
       "44   0.143"
      ]
     },
     "execution_count": 56,
     "metadata": {},
     "output_type": "execute_result"
    }
   ],
   "source": [
    "data_sorted.head()"
   ]
  },
  {
   "cell_type": "markdown",
   "id": "8c05b998",
   "metadata": {},
   "source": [
    "*.tail()* - виведення останніх п'яти значень варіаційного ряду"
   ]
  },
  {
   "cell_type": "code",
   "execution_count": 57,
   "id": "1c937b14",
   "metadata": {},
   "outputs": [
    {
     "data": {
      "text/html": [
       "<div>\n",
       "<style scoped>\n",
       "    .dataframe tbody tr th:only-of-type {\n",
       "        vertical-align: middle;\n",
       "    }\n",
       "\n",
       "    .dataframe tbody tr th {\n",
       "        vertical-align: top;\n",
       "    }\n",
       "\n",
       "    .dataframe thead th {\n",
       "        text-align: right;\n",
       "    }\n",
       "</style>\n",
       "<table border=\"1\" class=\"dataframe\">\n",
       "  <thead>\n",
       "    <tr style=\"text-align: right;\">\n",
       "      <th></th>\n",
       "      <th>Var1</th>\n",
       "    </tr>\n",
       "  </thead>\n",
       "  <tbody>\n",
       "    <tr>\n",
       "      <th>79</th>\n",
       "      <td>0.751</td>\n",
       "    </tr>\n",
       "    <tr>\n",
       "      <th>23</th>\n",
       "      <td>0.776</td>\n",
       "    </tr>\n",
       "    <tr>\n",
       "      <th>99</th>\n",
       "      <td>0.827</td>\n",
       "    </tr>\n",
       "    <tr>\n",
       "      <th>65</th>\n",
       "      <td>0.842</td>\n",
       "    </tr>\n",
       "    <tr>\n",
       "      <th>70</th>\n",
       "      <td>0.843</td>\n",
       "    </tr>\n",
       "  </tbody>\n",
       "</table>\n",
       "</div>"
      ],
      "text/plain": [
       "     Var1\n",
       "79  0.751\n",
       "23  0.776\n",
       "99  0.827\n",
       "65  0.842\n",
       "70  0.843"
      ]
     },
     "execution_count": 57,
     "metadata": {},
     "output_type": "execute_result"
    }
   ],
   "source": [
    "data_sorted.tail()"
   ]
  },
  {
   "cell_type": "markdown",
   "id": "25bc4b64",
   "metadata": {},
   "source": [
    "## Обрахування числових характеристик середньої тенденції та розкиду, коефіцієтів асиметрії та ексцесу, квартилі."
   ]
  },
  {
   "cell_type": "markdown",
   "id": "5e59d109",
   "metadata": {},
   "source": [
    "Обрахування моди вибірки"
   ]
  },
  {
   "cell_type": "code",
   "execution_count": 58,
   "id": "990ecc3f",
   "metadata": {
    "scrolled": true
   },
   "outputs": [
    {
     "data": {
      "text/plain": [
       "0    0.319\n",
       "dtype: float64"
      ]
     },
     "execution_count": 58,
     "metadata": {},
     "output_type": "execute_result"
    }
   ],
   "source": [
    "data.mode()"
   ]
  },
  {
   "cell_type": "markdown",
   "id": "422ff142",
   "metadata": {},
   "source": [
    "Обрахування медіани вибірки"
   ]
  },
  {
   "cell_type": "code",
   "execution_count": 59,
   "id": "f8e9dfb9",
   "metadata": {},
   "outputs": [
    {
     "data": {
      "text/plain": [
       "0.3975"
      ]
     },
     "execution_count": 59,
     "metadata": {},
     "output_type": "execute_result"
    }
   ],
   "source": [
    "data.median()"
   ]
  },
  {
   "cell_type": "markdown",
   "id": "a3216637",
   "metadata": {},
   "source": [
    "Обрахування середнього вибірки"
   ]
  },
  {
   "cell_type": "code",
   "execution_count": 60,
   "id": "5da70bd6",
   "metadata": {},
   "outputs": [
    {
     "data": {
      "text/plain": [
       "0.42301818181818196"
      ]
     },
     "execution_count": 60,
     "metadata": {},
     "output_type": "execute_result"
    }
   ],
   "source": [
    "data.mean()"
   ]
  },
  {
   "cell_type": "markdown",
   "id": "d8eb48a0",
   "metadata": {},
   "source": [
    "Обрахування коефіцієнту асиметрії вибірки\n",
    "\n",
    "Значення 0.204 > 0 , що вказує на правий хвіст. "
   ]
  },
  {
   "cell_type": "code",
   "execution_count": 61,
   "id": "bcebb1a0",
   "metadata": {},
   "outputs": [
    {
     "data": {
      "text/plain": [
       "0.20391002485580428"
      ]
     },
     "execution_count": 61,
     "metadata": {},
     "output_type": "execute_result"
    }
   ],
   "source": [
    "data.skew()\n"
   ]
  },
  {
   "cell_type": "markdown",
   "id": "4daa7b98",
   "metadata": {},
   "source": [
    "Обрахування ексцесу\n",
    "\n",
    "-0.854 < 3, що вказує на плосковершинний розподіл"
   ]
  },
  {
   "cell_type": "code",
   "execution_count": 62,
   "id": "abaf2052",
   "metadata": {},
   "outputs": [
    {
     "data": {
      "text/plain": [
       "-0.8541135297432514"
      ]
     },
     "execution_count": 62,
     "metadata": {},
     "output_type": "execute_result"
    }
   ],
   "source": [
    "data.kurtosis()"
   ]
  },
  {
   "cell_type": "markdown",
   "id": "b42704a3",
   "metadata": {},
   "source": [
    "Обрахування розмаху вибірки \n",
    "\n",
    "$R = x_{max} - x_{min}$"
   ]
  },
  {
   "cell_type": "code",
   "execution_count": 63,
   "id": "a64e4c55",
   "metadata": {},
   "outputs": [
    {
     "name": "stdout",
     "output_type": "stream",
     "text": [
      "Розмах вибірки = 0.762\n"
     ]
    }
   ],
   "source": [
    "# розмах вибірки\n",
    "data_range = data.max() - data.min()\n",
    "print(f\"Розмах вибірки = {data_range}\")"
   ]
  },
  {
   "cell_type": "markdown",
   "id": "e3f1c1f0",
   "metadata": {},
   "source": [
    "Обрахування розмаху міжквартильного розмаху\n",
    "\n",
    "$IQR = x_{0.75} - x_{0.25}$ = 0.297"
   ]
  },
  {
   "cell_type": "code",
   "execution_count": 64,
   "id": "55f78ac5",
   "metadata": {},
   "outputs": [
    {
     "name": "stdout",
     "output_type": "stream",
     "text": [
      "IQR = 0.29674999999999996\n"
     ]
    }
   ],
   "source": [
    "# міжквартильний розмах \n",
    "Q3 = np.quantile(data, 0.75)\n",
    "Q1 = np.quantile(data, 0.25)\n",
    "IQR = Q3 - Q1\n",
    "\n",
    "print(f'IQR = {IQR}')"
   ]
  },
  {
   "cell_type": "markdown",
   "id": "b2e19b5e",
   "metadata": {},
   "source": [
    "## Обчислення довірчої ймовірності та розміру вибірки для оцінювання середнього (1)\n",
    "\n",
    "m: середнє вибірки (sample mean) \n",
    "\n",
    "t: t-значення, що відповідає довірчій йомовірності (t-value that corresponds to the confidence level)\n",
    "\n",
    "t = 1,96 -- квантиль нормального розподілу порядку P = 0.95\n",
    "\n",
    "s: стандартна похибка середнього (sample standard deviation)\n",
    "\n",
    "n: розмір вибірки (sample size)"
   ]
  },
  {
   "cell_type": "code",
   "execution_count": 65,
   "id": "9e7bdf81",
   "metadata": {},
   "outputs": [],
   "source": [
    "m = data.mean()\n",
    "s = data.std()\n",
    "\n",
    "confidence = 0.95\n",
    "t = 1.96\n",
    "\n",
    "\n",
    "\n",
    "dof = len(data)-1 # ступені свободи"
   ]
  },
  {
   "cell_type": "code",
   "execution_count": 66,
   "id": "2fd42069",
   "metadata": {},
   "outputs": [
    {
     "data": {
      "text/plain": [
       "0.1877717715699001"
      ]
     },
     "execution_count": 66,
     "metadata": {},
     "output_type": "execute_result"
    }
   ],
   "source": [
    "s"
   ]
  },
  {
   "cell_type": "code",
   "execution_count": 67,
   "id": "c2f70c6f",
   "metadata": {},
   "outputs": [
    {
     "data": {
      "text/plain": [
       "1.981967489688474"
      ]
     },
     "execution_count": 67,
     "metadata": {},
     "output_type": "execute_result"
    }
   ],
   "source": [
    "t_crit = np.abs(st.t.ppf((1-confidence)/2,dof))\n",
    "t_crit"
   ]
  },
  {
   "cell_type": "markdown",
   "id": "4473938a",
   "metadata": {},
   "source": [
    "Пошук **n** при заданих $\\Delta$, t та ймовірності 0.95\n",
    "\n",
    "$ n = (\\frac{t\\cdot s}{\\Delta})^2 $\n",
    "\n",
    "Найближче значення n = 153.89 та n_t = 150.5 до реального n = 110 при похибці $\\Delta = 0.0351 $, тобто "
   ]
  },
  {
   "cell_type": "code",
   "execution_count": 68,
   "id": "c7b4495f",
   "metadata": {
    "scrolled": true
   },
   "outputs": [
    {
     "name": "stdout",
     "output_type": "stream",
     "text": [
      "n = 1385.01 \t n_t = 1354.48 \t delta_i = 0.01\n",
      "n = 346.25 \t n_t = 338.62 \t delta_i = 0.02\n",
      "n = 153.89 \t n_t = 150.5 \t delta_i = 0.03\n",
      "n = 86.56 \t n_t = 84.66 \t delta_i = 0.04\n",
      "n = 55.4 \t n_t = 54.18 \t delta_i = 0.05\n",
      "n = 38.47 \t n_t = 37.62 \t delta_i = 0.06\n",
      "n = 28.27 \t n_t = 27.64 \t delta_i = 0.07\n",
      "n = 21.64 \t n_t = 21.16 \t delta_i = 0.08\n",
      "n = 17.1 \t n_t = 16.72 \t delta_i = 0.09\n",
      "n = 13.85 \t n_t = 13.54 \t delta_i = 0.1\n",
      "len = 110\n"
     ]
    }
   ],
   "source": [
    "delta = 0.01\n",
    "for i in range(1,11):\n",
    "    delta_i = delta * i\n",
    "    n = (t_crit * s /delta_i )**2\n",
    "    n_t = (t * s /delta_i )**2\n",
    "    \n",
    "    print(f\"n = {round(n,2)} \\t n_t = {round(n_t,2)} \\t delta_i = {delta_i}\")\n",
    "print(f'len = {len(data)}')"
   ]
  },
  {
   "cell_type": "markdown",
   "id": "51bfa159",
   "metadata": {},
   "source": [
    "Пошук **$\\Delta$** при заданих даними n, середньо квадратичного та ймовірності 0.95\n",
    "\n",
    "\n",
    "$ \\Delta = \\frac{t\\cdot s}{\\sqrt{n}} $"
   ]
  },
  {
   "cell_type": "code",
   "execution_count": 69,
   "id": "52cf9968",
   "metadata": {},
   "outputs": [
    {
     "name": "stdout",
     "output_type": "stream",
     "text": [
      "delta_t = 0.035091 \n",
      "delta = 0.035484\n"
     ]
    }
   ],
   "source": [
    "delta_t = t * s / np.sqrt(len(data))\n",
    "delta = t_crit * s / np.sqrt(len(data))\n",
    "print (f'delta_t = {round(delta_t, 6)} \\ndelta = {round(delta, 6)}')"
   ]
  },
  {
   "cell_type": "markdown",
   "id": "6ce872c8",
   "metadata": {},
   "source": [
    "обрахування довірчих інтервалів"
   ]
  },
  {
   "cell_type": "code",
   "execution_count": 70,
   "id": "b1a75042",
   "metadata": {},
   "outputs": [
    {
     "data": {
      "text/plain": [
       "(0.3875343520066722, 0.45850201162969173)"
      ]
     },
     "execution_count": 70,
     "metadata": {},
     "output_type": "execute_result"
    }
   ],
   "source": [
    "# обрахування вручну довірчих інтервалів 0,95\n",
    "(m-s*t_crit/np.sqrt(len(data)), m+s*t_crit/np.sqrt(len(data)))"
   ]
  },
  {
   "cell_type": "code",
   "execution_count": 71,
   "id": "3af0f55c",
   "metadata": {},
   "outputs": [
    {
     "data": {
      "text/plain": [
       "(0.3879282881514401, 0.4581080754849238)"
      ]
     },
     "execution_count": 71,
     "metadata": {},
     "output_type": "execute_result"
    }
   ],
   "source": [
    "# обрахування через функції довірчих інтервалів 0,95\n",
    "st.norm.interval(alpha=0.95, loc=np.mean(data), scale=st.sem(data))"
   ]
  },
  {
   "cell_type": "code",
   "execution_count": 72,
   "id": "fe42ab79",
   "metadata": {},
   "outputs": [
    {
     "data": {
      "text/plain": [
       "(0.37690224444476156, 0.46913411919160236)"
      ]
     },
     "execution_count": 72,
     "metadata": {},
     "output_type": "execute_result"
    }
   ],
   "source": [
    "# обрахування через функції довірчих інтервалів 0,99\n",
    "st.norm.interval(alpha=0.99, loc=np.mean(data), scale=st.sem(data))"
   ]
  },
  {
   "cell_type": "markdown",
   "id": "f3d624e8",
   "metadata": {},
   "source": [
    "Є впевненість у 95%, що довірчий інтервал (0.387, 0.458) містить справжнє середнє генеральної вибірки.\n",
    "\n",
    "Є впевненість у 99%, що довірчий інтервал (0.376, 0.469) містить справжнє середнє генеральної вибірки."
   ]
  },
  {
   "cell_type": "markdown",
   "id": "270960f0",
   "metadata": {},
   "source": [
    "## Побудова коробки з вусами"
   ]
  },
  {
   "cell_type": "code",
   "execution_count": 73,
   "id": "dc709856",
   "metadata": {},
   "outputs": [
    {
     "data": {
      "image/png": "[encoded data removed]",
      "text/plain": [
       "<Figure size 432x288 with 1 Axes>"
      ]
     },
     "metadata": {},
     "output_type": "display_data"
    }
   ],
   "source": [
    "# будуємо і виводимо коробку з вусами\n",
    "plt.boxplot(data)\n",
    "plt.show()"
   ]
  },
  {
   "cell_type": "markdown",
   "id": "a611820a",
   "metadata": {},
   "source": [
    "## Графічна візуалізація даних різними методами"
   ]
  },
  {
   "cell_type": "code",
   "execution_count": 74,
   "id": "7bb89acd",
   "metadata": {},
   "outputs": [
    {
     "name": "stdout",
     "output_type": "stream",
     "text": [
      "Requirement already satisfied: bokeh in /Users/victoriaboichenko/opt/anaconda3/lib/python3.8/site-packages (2.3.2)\r\n",
      "Requirement already satisfied: packaging>=16.8 in /Users/victoriaboichenko/opt/anaconda3/lib/python3.8/site-packages (from bokeh) (20.9)\r\n",
      "Requirement already satisfied: PyYAML>=3.10 in /Users/victoriaboichenko/opt/anaconda3/lib/python3.8/site-packages (from bokeh) (5.4.1)\r\n",
      "Requirement already satisfied: pillow>=7.1.0 in /Users/victoriaboichenko/opt/anaconda3/lib/python3.8/site-packages (from bokeh) (8.2.0)\r\n",
      "Requirement already satisfied: typing-extensions>=3.7.4 in /Users/victoriaboichenko/opt/anaconda3/lib/python3.8/site-packages (from bokeh) (3.7.4.3)\r\n",
      "Requirement already satisfied: numpy>=1.11.3 in /Users/victoriaboichenko/opt/anaconda3/lib/python3.8/site-packages (from bokeh) (1.20.1)\r\n",
      "Requirement already satisfied: python-dateutil>=2.1 in /Users/victoriaboichenko/opt/anaconda3/lib/python3.8/site-packages (from bokeh) (2.8.1)\r\n",
      "Requirement already satisfied: tornado>=5.1 in /Users/victoriaboichenko/opt/anaconda3/lib/python3.8/site-packages (from bokeh) (6.1)\r\n",
      "Requirement already satisfied: Jinja2>=2.9 in /Users/victoriaboichenko/opt/anaconda3/lib/python3.8/site-packages (from bokeh) (2.11.3)\r\n",
      "Requirement already satisfied: MarkupSafe>=0.23 in /Users/victoriaboichenko/opt/anaconda3/lib/python3.8/site-packages (from Jinja2>=2.9->bokeh) (1.1.1)\r\n",
      "Requirement already satisfied: pyparsing>=2.0.2 in /Users/victoriaboichenko/opt/anaconda3/lib/python3.8/site-packages (from packaging>=16.8->bokeh) (2.4.7)\r\n",
      "Requirement already satisfied: six>=1.5 in /Users/victoriaboichenko/opt/anaconda3/lib/python3.8/site-packages (from python-dateutil>=2.1->bokeh) (1.15.0)\r\n"
     ]
    }
   ],
   "source": [
    "!pip install bokeh"
   ]
  },
  {
   "cell_type": "code",
   "execution_count": 75,
   "id": "04a550e9",
   "metadata": {},
   "outputs": [
    {
     "data": {
      "text/html": [
       "\n",
       "    <div class=\"bk-root\">\n",
       "        <a href=\"https://bokeh.org\" target=\"_blank\" class=\"bk-logo bk-logo-small bk-logo-notebook\"></a>\n",
       "        <span id=\"1101\">Loading BokehJS ...</span>\n",
       "    </div>"
      ]
     },
     "metadata": {},
     "output_type": "display_data"
    },
    {
     "data": {
      "application/javascript": [
       "\n",
       "(function(root) {\n",
       "  function now() {\n",
       "    return new Date();\n",
       "  }\n",
       "\n",
       "  var force = true;\n",
       "\n",
       "  if (typeof root._bokeh_onload_callbacks === \"undefined\" || force === true) {\n",
       "    root._bokeh_onload_callbacks = [];\n",
       "    root._bokeh_is_loading = undefined;\n",
       "  }\n",
       "\n",
       "  var JS_MIME_TYPE = 'application/javascript';\n",
       "  var HTML_MIME_TYPE = 'text/html';\n",
       "  var EXEC_MIME_TYPE = 'application/vnd.bokehjs_exec.v0+json';\n",
       "  var CLASS_NAME = 'output_bokeh rendered_html';\n",
       "\n",
       "  /**\n",
       "   * Render data to the DOM node\n",
       "   */\n",
       "  function render(props, node) {\n",
       "    var script = document.createElement(\"script\");\n",
       "    node.appendChild(script);\n",
       "  }\n",
       "\n",
       "  /**\n",
       "   * Handle when an output is cleared or removed\n",
       "   */\n",
       "  function handleClearOutput(event, handle) {\n",
       "    var cell = handle.cell;\n",
       "\n",
       "    var id = cell.output_area._bokeh_element_id;\n",
       "    var server_id = cell.output_area._bokeh_server_id;\n",
       "    // Clean up Bokeh references\n",
       "    if (id != null && id in Bokeh.index) {\n",
       "      Bokeh.index[id].model.document.clear();\n",
       "      delete Bokeh.index[id];\n",
       "    }\n",
       "\n",
       "    if (server_id !== undefined) {\n",
       "      // Clean up Bokeh references\n",
       "      var cmd = \"from bokeh.io.state import curstate; print(curstate().uuid_to_server['\" + server_id + \"'].get_sessions()[0].document.roots[0]._id)\";\n",
       "      cell.notebook.kernel.execute(cmd, {\n",
       "        iopub: {\n",
       "          output: function(msg) {\n",
       "            var id = msg.content.text.trim();\n",
       "            if (id in Bokeh.index) {\n",
       "              Bokeh.index[id].model.document.clear();\n",
       "              delete Bokeh.index[id];\n",
       "            }\n",
       "          }\n",
       "        }\n",
       "      });\n",
       "      // Destroy server and session\n",
       "      var cmd = \"import bokeh.io.notebook as ion; ion.destroy_server('\" + server_id + \"')\";\n",
       "      cell.notebook.kernel.execute(cmd);\n",
       "    }\n",
       "  }\n",
       "\n",
       "  /**\n",
       "   * Handle when a new output is added\n",
       "   */\n",
       "  function handleAddOutput(event, handle) {\n",
       "    var output_area = handle.output_area;\n",
       "    var output = handle.output;\n",
       "\n",
       "    // limit handleAddOutput to display_data with EXEC_MIME_TYPE content only\n",
       "    if ((output.output_type != \"display_data\") || (!Object.prototype.hasOwnProperty.call(output.data, EXEC_MIME_TYPE))) {\n",
       "      return\n",
       "    }\n",
       "\n",
       "    var toinsert = output_area.element.find(\".\" + CLASS_NAME.split(' ')[0]);\n",
       "\n",
       "    if (output.metadata[EXEC_MIME_TYPE][\"id\"] !== undefined) {\n",
       "      toinsert[toinsert.length - 1].firstChild.textContent = output.data[JS_MIME_TYPE];\n",
       "      // store reference to embed id on output_area\n",
       "      output_area._bokeh_element_id = output.metadata[EXEC_MIME_TYPE][\"id\"];\n",
       "    }\n",
       "    if (output.metadata[EXEC_MIME_TYPE][\"server_id\"] !== undefined) {\n",
       "      var bk_div = document.createElement(\"div\");\n",
       "      bk_div.innerHTML = output.data[HTML_MIME_TYPE];\n",
       "      var script_attrs = bk_div.children[0].attributes;\n",
       "      for (var i = 0; i < script_attrs.length; i++) {\n",
       "        toinsert[toinsert.length - 1].firstChild.setAttribute(script_attrs[i].name, script_attrs[i].value);\n",
       "        toinsert[toinsert.length - 1].firstChild.textContent = bk_div.children[0].textContent\n",
       "      }\n",
       "      // store reference to server id on output_area\n",
       "      output_area._bokeh_server_id = output.metadata[EXEC_MIME_TYPE][\"server_id\"];\n",
       "    }\n",
       "  }\n",
       "\n",
       "  function register_renderer(events, OutputArea) {\n",
       "\n",
       "    function append_mime(data, metadata, element) {\n",
       "      // create a DOM node to render to\n",
       "      var toinsert = this.create_output_subarea(\n",
       "        metadata,\n",
       "        CLASS_NAME,\n",
       "        EXEC_MIME_TYPE\n",
       "      );\n",
       "      this.keyboard_manager.register_events(toinsert);\n",
       "      // Render to node\n",
       "      var props = {data: data, metadata: metadata[EXEC_MIME_TYPE]};\n",
       "      render(props, toinsert[toinsert.length - 1]);\n",
       "      element.append(toinsert);\n",
       "      return toinsert\n",
       "    }\n",
       "\n",
       "    /* Handle when an output is cleared or removed */\n",
       "    events.on('clear_output.CodeCell', handleClearOutput);\n",
       "    events.on('delete.Cell', handleClearOutput);\n",
       "\n",
       "    /* Handle when a new output is added */\n",
       "    events.on('output_added.OutputArea', handleAddOutput);\n",
       "\n",
       "    /**\n",
       "     * Register the mime type and append_mime function with output_area\n",
       "     */\n",
       "    OutputArea.prototype.register_mime_type(EXEC_MIME_TYPE, append_mime, {\n",
       "      /* Is output safe? */\n",
       "      safe: true,\n",
       "      /* Index of renderer in `output_area.display_order` */\n",
       "      index: 0\n",
       "    });\n",
       "  }\n",
       "\n",
       "  // register the mime type if in Jupyter Notebook environment and previously unregistered\n",
       "  if (root.Jupyter !== undefined) {\n",
       "    var events = require('base/js/events');\n",
       "    var OutputArea = require('notebook/js/outputarea').OutputArea;\n",
       "\n",
       "    if (OutputArea.prototype.mime_types().indexOf(EXEC_MIME_TYPE) == -1) {\n",
       "      register_renderer(events, OutputArea);\n",
       "    }\n",
       "  }\n",
       "\n",
       "  \n",
       "  if (typeof (root._bokeh_timeout) === \"undefined\" || force === true) {\n",
       "    root._bokeh_timeout = Date.now() + 5000;\n",
       "    root._bokeh_failed_load = false;\n",
       "  }\n",
       "\n",
       "  var NB_LOAD_WARNING = {'data': {'text/html':\n",
       "     \"<div style='background-color: #fdd'>\\n\"+\n",
       "     \"<p>\\n\"+\n",
       "     \"BokehJS does not appear to have successfully loaded. If loading BokehJS from CDN, this \\n\"+\n",
       "     \"may be due to a slow or bad network connection. Possible fixes:\\n\"+\n",
       "     \"</p>\\n\"+\n",
       "     \"<ul>\\n\"+\n",
       "     \"<li>re-rerun `output_notebook()` to attempt to load from CDN again, or</li>\\n\"+\n",
       "     \"<li>use INLINE resources instead, as so:</li>\\n\"+\n",
       "     \"</ul>\\n\"+\n",
       "     \"<code>\\n\"+\n",
       "     \"from bokeh.resources import INLINE\\n\"+\n",
       "     \"output_notebook(resources=INLINE)\\n\"+\n",
       "     \"</code>\\n\"+\n",
       "     \"</div>\"}};\n",
       "\n",
       "  function display_loaded() {\n",
       "    var el = document.getElementById(\"1101\");\n",
       "    if (el != null) {\n",
       "      el.textContent = \"BokehJS is loading...\";\n",
       "    }\n",
       "    if (root.Bokeh !== undefined) {\n",
       "      if (el != null) {\n",
       "        el.textContent = \"BokehJS \" + root.Bokeh.version + \" successfully loaded.\";\n",
       "      }\n",
       "    } else if (Date.now() < root._bokeh_timeout) {\n",
       "      setTimeout(display_loaded, 100)\n",
       "    }\n",
       "  }\n",
       "\n",
       "\n",
       "  function run_callbacks() {\n",
       "    try {\n",
       "      root._bokeh_onload_callbacks.forEach(function(callback) {\n",
       "        if (callback != null)\n",
       "          callback();\n",
       "      });\n",
       "    } finally {\n",
       "      delete root._bokeh_onload_callbacks\n",
       "    }\n",
       "    console.debug(\"Bokeh: all callbacks have finished\");\n",
       "  }\n",
       "\n",
       "  function load_libs(css_urls, js_urls, callback) {\n",
       "    if (css_urls == null) css_urls = [];\n",
       "    if (js_urls == null) js_urls = [];\n",
       "\n",
       "    root._bokeh_onload_callbacks.push(callback);\n",
       "    if (root._bokeh_is_loading > 0) {\n",
       "      console.debug(\"Bokeh: BokehJS is being loaded, scheduling callback at\", now());\n",
       "      return null;\n",
       "    }\n",
       "    if (js_urls == null || js_urls.length === 0) {\n",
       "      run_callbacks();\n",
       "      return null;\n",
       "    }\n",
       "    console.debug(\"Bokeh: BokehJS not loaded, scheduling load and callback at\", now());\n",
       "    root._bokeh_is_loading = css_urls.length + js_urls.length;\n",
       "\n",
       "    function on_load() {\n",
       "      root._bokeh_is_loading--;\n",
       "      if (root._bokeh_is_loading === 0) {\n",
       "        console.debug(\"Bokeh: all BokehJS libraries/stylesheets loaded\");\n",
       "        run_callbacks()\n",
       "      }\n",
       "    }\n",
       "\n",
       "    function on_error(url) {\n",
       "      console.error(\"failed to load \" + url);\n",
       "    }\n",
       "\n",
       "    for (let i = 0; i < css_urls.length; i++) {\n",
       "      const url = css_urls[i];\n",
       "      const element = document.createElement(\"link\");\n",
       "      element.onload = on_load;\n",
       "      element.onerror = on_error.bind(null, url);\n",
       "      element.rel = \"stylesheet\";\n",
       "      element.type = \"text/css\";\n",
       "      element.href = url;\n",
       "      console.debug(\"Bokeh: injecting link tag for BokehJS stylesheet: \", url);\n",
       "      document.body.appendChild(element);\n",
       "    }\n",
       "\n",
       "    const hashes = {\"https://cdn.bokeh.org/bokeh/release/bokeh-2.3.2.min.js\": \"XypntL49z55iwGVUW4qsEu83zKL3XEcz0MjuGOQ9SlaaQ68X/g+k1FcioZi7oQAc\", \"https://cdn.bokeh.org/bokeh/release/bokeh-tables-2.3.2.min.js\": \"bEsM86IHGDTLCS0Zod8a8WM6Y4+lafAL/eSiyQcuPzinmWNgNO2/olUF0Z2Dkn5i\", \"https://cdn.bokeh.org/bokeh/release/bokeh-widgets-2.3.2.min.js\": \"TX0gSQTdXTTeScqxj6PVQxTiRW8DOoGVwinyi1D3kxv7wuxQ02XkOxv0xwiypcAH\"};\n",
       "\n",
       "    for (let i = 0; i < js_urls.length; i++) {\n",
       "      const url = js_urls[i];\n",
       "      const element = document.createElement('script');\n",
       "      element.onload = on_load;\n",
       "      element.onerror = on_error.bind(null, url);\n",
       "      element.async = false;\n",
       "      element.src = url;\n",
       "      if (url in hashes) {\n",
       "        element.crossOrigin = \"anonymous\";\n",
       "        element.integrity = \"sha384-\" + hashes[url];\n",
       "      }\n",
       "      console.debug(\"Bokeh: injecting script tag for BokehJS library: \", url);\n",
       "      document.head.appendChild(element);\n",
       "    }\n",
       "  };\n",
       "\n",
       "  function inject_raw_css(css) {\n",
       "    const element = document.createElement(\"style\");\n",
       "    element.appendChild(document.createTextNode(css));\n",
       "    document.body.appendChild(element);\n",
       "  }\n",
       "\n",
       "  \n",
       "  var js_urls = [\"https://cdn.bokeh.org/bokeh/release/bokeh-2.3.2.min.js\", \"https://cdn.bokeh.org/bokeh/release/bokeh-widgets-2.3.2.min.js\", \"https://cdn.bokeh.org/bokeh/release/bokeh-tables-2.3.2.min.js\"];\n",
       "  var css_urls = [];\n",
       "  \n",
       "\n",
       "  var inline_js = [\n",
       "    function(Bokeh) {\n",
       "      Bokeh.set_log_level(\"info\");\n",
       "    },\n",
       "    function(Bokeh) {\n",
       "    \n",
       "    \n",
       "    }\n",
       "  ];\n",
       "\n",
       "  function run_inline_js() {\n",
       "    \n",
       "    if (root.Bokeh !== undefined || force === true) {\n",
       "      \n",
       "    for (var i = 0; i < inline_js.length; i++) {\n",
       "      inline_js[i].call(root, root.Bokeh);\n",
       "    }\n",
       "    if (force === true) {\n",
       "        display_loaded();\n",
       "      }} else if (Date.now() < root._bokeh_timeout) {\n",
       "      setTimeout(run_inline_js, 100);\n",
       "    } else if (!root._bokeh_failed_load) {\n",
       "      console.log(\"Bokeh: BokehJS failed to load within specified timeout.\");\n",
       "      root._bokeh_failed_load = true;\n",
       "    } else if (force !== true) {\n",
       "      var cell = $(document.getElementById(\"1101\")).parents('.cell').data().cell;\n",
       "      cell.output_area.append_execute_result(NB_LOAD_WARNING)\n",
       "    }\n",
       "\n",
       "  }\n",
       "\n",
       "  if (root._bokeh_is_loading === 0) {\n",
       "    console.debug(\"Bokeh: BokehJS loaded, going straight to plotting\");\n",
       "    run_inline_js();\n",
       "  } else {\n",
       "    load_libs(css_urls, js_urls, function() {\n",
       "      console.debug(\"Bokeh: BokehJS plotting callback run at\", now());\n",
       "      run_inline_js();\n",
       "    });\n",
       "  }\n",
       "}(window));"
      ],
      "application/vnd.bokehjs_load.v0+json": "\n(function(root) {\n  function now() {\n    return new Date();\n  }\n\n  var force = true;\n\n  if (typeof root._bokeh_onload_callbacks === \"undefined\" || force === true) {\n    root._bokeh_onload_callbacks = [];\n    root._bokeh_is_loading = undefined;\n  }\n\n  \n\n  \n  if (typeof (root._bokeh_timeout) === \"undefined\" || force === true) {\n    root._bokeh_timeout = Date.now() + 5000;\n    root._bokeh_failed_load = false;\n  }\n\n  var NB_LOAD_WARNING = {'data': {'text/html':\n     \"<div style='background-color: #fdd'>\\n\"+\n     \"<p>\\n\"+\n     \"BokehJS does not appear to have successfully loaded. If loading BokehJS from CDN, this \\n\"+\n     \"may be due to a slow or bad network connection. Possible fixes:\\n\"+\n     \"</p>\\n\"+\n     \"<ul>\\n\"+\n     \"<li>re-rerun `output_notebook()` to attempt to load from CDN again, or</li>\\n\"+\n     \"<li>use INLINE resources instead, as so:</li>\\n\"+\n     \"</ul>\\n\"+\n     \"<code>\\n\"+\n     \"from bokeh.resources import INLINE\\n\"+\n     \"output_notebook(resources=INLINE)\\n\"+\n     \"</code>\\n\"+\n     \"</div>\"}};\n\n  function display_loaded() {\n    var el = document.getElementById(\"1101\");\n    if (el != null) {\n      el.textContent = \"BokehJS is loading...\";\n    }\n    if (root.Bokeh !== undefined) {\n      if (el != null) {\n        el.textContent = \"BokehJS \" + root.Bokeh.version + \" successfully loaded.\";\n      }\n    } else if (Date.now() < root._bokeh_timeout) {\n      setTimeout(display_loaded, 100)\n    }\n  }\n\n\n  function run_callbacks() {\n    try {\n      root._bokeh_onload_callbacks.forEach(function(callback) {\n        if (callback != null)\n          callback();\n      });\n    } finally {\n      delete root._bokeh_onload_callbacks\n    }\n    console.debug(\"Bokeh: all callbacks have finished\");\n  }\n\n  function load_libs(css_urls, js_urls, callback) {\n    if (css_urls == null) css_urls = [];\n    if (js_urls == null) js_urls = [];\n\n    root._bokeh_onload_callbacks.push(callback);\n    if (root._bokeh_is_loading > 0) {\n      console.debug(\"Bokeh: BokehJS is being loaded, scheduling callback at\", now());\n      return null;\n    }\n    if (js_urls == null || js_urls.length === 0) {\n      run_callbacks();\n      return null;\n    }\n    console.debug(\"Bokeh: BokehJS not loaded, scheduling load and callback at\", now());\n    root._bokeh_is_loading = css_urls.length + js_urls.length;\n\n    function on_load() {\n      root._bokeh_is_loading--;\n      if (root._bokeh_is_loading === 0) {\n        console.debug(\"Bokeh: all BokehJS libraries/stylesheets loaded\");\n        run_callbacks()\n      }\n    }\n\n    function on_error(url) {\n      console.error(\"failed to load \" + url);\n    }\n\n    for (let i = 0; i < css_urls.length; i++) {\n      const url = css_urls[i];\n      const element = document.createElement(\"link\");\n      element.onload = on_load;\n      element.onerror = on_error.bind(null, url);\n      element.rel = \"stylesheet\";\n      element.type = \"text/css\";\n      element.href = url;\n      console.debug(\"Bokeh: injecting link tag for BokehJS stylesheet: \", url);\n      document.body.appendChild(element);\n    }\n\n    const hashes = {\"https://cdn.bokeh.org/bokeh/release/bokeh-2.3.2.min.js\": \"XypntL49z55iwGVUW4qsEu83zKL3XEcz0MjuGOQ9SlaaQ68X/g+k1FcioZi7oQAc\", \"https://cdn.bokeh.org/bokeh/release/bokeh-tables-2.3.2.min.js\": \"bEsM86IHGDTLCS0Zod8a8WM6Y4+lafAL/eSiyQcuPzinmWNgNO2/olUF0Z2Dkn5i\", \"https://cdn.bokeh.org/bokeh/release/bokeh-widgets-2.3.2.min.js\": \"TX0gSQTdXTTeScqxj6PVQxTiRW8DOoGVwinyi1D3kxv7wuxQ02XkOxv0xwiypcAH\"};\n\n    for (let i = 0; i < js_urls.length; i++) {\n      const url = js_urls[i];\n      const element = document.createElement('script');\n      element.onload = on_load;\n      element.onerror = on_error.bind(null, url);\n      element.async = false;\n      element.src = url;\n      if (url in hashes) {\n        element.crossOrigin = \"anonymous\";\n        element.integrity = \"sha384-\" + hashes[url];\n      }\n      console.debug(\"Bokeh: injecting script tag for BokehJS library: \", url);\n      document.head.appendChild(element);\n    }\n  };\n\n  function inject_raw_css(css) {\n    const element = document.createElement(\"style\");\n    element.appendChild(document.createTextNode(css));\n    document.body.appendChild(element);\n  }\n\n  \n  var js_urls = [\"https://cdn.bokeh.org/bokeh/release/bokeh-2.3.2.min.js\", \"https://cdn.bokeh.org/bokeh/release/bokeh-widgets-2.3.2.min.js\", \"https://cdn.bokeh.org/bokeh/release/bokeh-tables-2.3.2.min.js\"];\n  var css_urls = [];\n  \n\n  var inline_js = [\n    function(Bokeh) {\n      Bokeh.set_log_level(\"info\");\n    },\n    function(Bokeh) {\n    \n    \n    }\n  ];\n\n  function run_inline_js() {\n    \n    if (root.Bokeh !== undefined || force === true) {\n      \n    for (var i = 0; i < inline_js.length; i++) {\n      inline_js[i].call(root, root.Bokeh);\n    }\n    if (force === true) {\n        display_loaded();\n      }} else if (Date.now() < root._bokeh_timeout) {\n      setTimeout(run_inline_js, 100);\n    } else if (!root._bokeh_failed_load) {\n      console.log(\"Bokeh: BokehJS failed to load within specified timeout.\");\n      root._bokeh_failed_load = true;\n    } else if (force !== true) {\n      var cell = $(document.getElementById(\"1101\")).parents('.cell').data().cell;\n      cell.output_area.append_execute_result(NB_LOAD_WARNING)\n    }\n\n  }\n\n  if (root._bokeh_is_loading === 0) {\n    console.debug(\"Bokeh: BokehJS loaded, going straight to plotting\");\n    run_inline_js();\n  } else {\n    load_libs(css_urls, js_urls, function() {\n      console.debug(\"Bokeh: BokehJS plotting callback run at\", now());\n      run_inline_js();\n    });\n  }\n}(window));"
     },
     "metadata": {},
     "output_type": "display_data"
    }
   ],
   "source": [
    "# importing the modules\n",
    "from bokeh.plotting import figure, output_file, show\n",
    "from bokeh.palettes import magma\n",
    "from bokeh.io import output_notebook\n",
    "output_notebook() "
   ]
  },
  {
   "cell_type": "markdown",
   "id": "9cc1a99d",
   "metadata": {},
   "source": [
    "Наступна візуалізація відкриває scatter-plot. Попередження, що виникають, не заважають виконанню графічного зображення.\n",
    "\n",
    "Якщо інтерпретувати вісь-х як час, то ніякої залежності між даними візуально не спостережується. Виглядає, як розпорошена хмара"
   ]
  },
  {
   "cell_type": "code",
   "execution_count": 87,
   "id": "f6bd3bd2",
   "metadata": {},
   "outputs": [
    {
     "data": {
      "text/html": [
       "\n",
       "\n",
       "\n",
       "\n",
       "\n",
       "\n",
       "  <div class=\"bk-root\" id=\"6a5c0cb7-8b4d-4757-8560-16f56643db32\" data-root-id=\"1456\"></div>\n"
      ]
     },
     "metadata": {},
     "output_type": "display_data"
    },
    {
     "data": {
      "application/javascript": [
       "(function(root) {\n",
       "  function embed_document(root) {\n",
       "    \n",
       "  var docs_json = {\"449c5293-09a5-484e-8198-bb1d97dc4149\":{\"defs\":[],\"roots\":{\"references\":[{\"attributes\":{\"below\":[{\"id\":\"1467\"}],\"center\":[{\"id\":\"1470\"},{\"id\":\"1474\"}],\"left\":[{\"id\":\"1471\"}],\"renderers\":[{\"id\":\"1492\"}],\"title\":{\"id\":\"1457\"},\"toolbar\":{\"id\":\"1482\"},\"x_range\":{\"id\":\"1459\"},\"x_scale\":{\"id\":\"1463\"},\"y_range\":{\"id\":\"1461\"},\"y_scale\":{\"id\":\"1465\"}},\"id\":\"1456\",\"subtype\":\"Figure\",\"type\":\"Plot\"},{\"attributes\":{},\"id\":\"1539\",\"type\":\"AllLabels\"},{\"attributes\":{},\"id\":\"1538\",\"type\":\"BasicTickFormatter\"},{\"attributes\":{\"data\":{\"fill_color\":[\"#000003\",\"#000006\",\"#010109\",\"#02020F\",\"#040313\",\"#050417\",\"#08061D\",\"#0A0722\",\"#0C0926\",\"#0F0B2C\",\"#110C31\",\"#140D35\",\"#170F3C\",\"#1A1041\",\"#1C1046\",\"#20114D\",\"#231152\",\"#261157\",\"#2B115E\",\"#2F1062\",\"#321067\",\"#370F6C\",\"#3B0F6F\",\"#3E0F72\",\"#430F75\",\"#470F77\",\"#4A1079\",\"#4F117B\",\"#52127C\",\"#55137D\",\"#5A157E\",\"#5D177E\",\"#60187F\",\"#651A80\",\"#681B80\",\"#6B1C80\",\"#6F1E81\",\"#731F81\",\"#762181\",\"#7A2281\",\"#7E2481\",\"#812581\",\"#852681\",\"#892881\",\"#8C2980\",\"#912A80\",\"#942B80\",\"#972C7F\",\"#9C2E7F\",\"#9F2F7E\",\"#A3307E\",\"#A7317D\",\"#AB337C\",\"#AE347B\",\"#B3357A\",\"#B63679\",\"#BB3877\",\"#BE3976\",\"#C23A75\",\"#C63C73\",\"#CA3E72\",\"#CD3F70\",\"#D1426E\",\"#D4436D\",\"#D7456B\",\"#DC4869\",\"#DE4A67\",\"#E14C66\",\"#E55063\",\"#E75262\",\"#EA5560\",\"#ED595F\",\"#EE5D5D\",\"#F0605D\",\"#F3655C\",\"#F4685B\",\"#F56C5B\",\"#F7715B\",\"#F8755C\",\"#F9795C\",\"#FA7F5E\",\"#FA825F\",\"#FB8660\",\"#FC8C63\",\"#FC9064\",\"#FC9366\",\"#FD9969\",\"#FD9D6B\",\"#FDA16E\",\"#FEA671\",\"#FEAA74\",\"#FEAE76\",\"#FEB37B\",\"#FEB77D\",\"#FEBB80\",\"#FEC085\",\"#FEC488\",\"#FEC78B\",\"#FDCD90\",\"#FDD193\",\"#FDD497\",\"#FDDA9C\",\"#FDDD9F\",\"#FDE1A3\",\"#FCE6A8\",\"#FCEAAC\",\"#FCEEB0\",\"#FCF3B5\",\"#FBF7B9\",\"#FBFCBF\"],\"line_color\":[\"#000003\",\"#000006\",\"#010109\",\"#02020F\",\"#040313\",\"#050417\",\"#08061D\",\"#0A0722\",\"#0C0926\",\"#0F0B2C\",\"#110C31\",\"#140D35\",\"#170F3C\",\"#1A1041\",\"#1C1046\",\"#20114D\",\"#231152\",\"#261157\",\"#2B115E\",\"#2F1062\",\"#321067\",\"#370F6C\",\"#3B0F6F\",\"#3E0F72\",\"#430F75\",\"#470F77\",\"#4A1079\",\"#4F117B\",\"#52127C\",\"#55137D\",\"#5A157E\",\"#5D177E\",\"#60187F\",\"#651A80\",\"#681B80\",\"#6B1C80\",\"#6F1E81\",\"#731F81\",\"#762181\",\"#7A2281\",\"#7E2481\",\"#812581\",\"#852681\",\"#892881\",\"#8C2980\",\"#912A80\",\"#942B80\",\"#972C7F\",\"#9C2E7F\",\"#9F2F7E\",\"#A3307E\",\"#A7317D\",\"#AB337C\",\"#AE347B\",\"#B3357A\",\"#B63679\",\"#BB3877\",\"#BE3976\",\"#C23A75\",\"#C63C73\",\"#CA3E72\",\"#CD3F70\",\"#D1426E\",\"#D4436D\",\"#D7456B\",\"#DC4869\",\"#DE4A67\",\"#E14C66\",\"#E55063\",\"#E75262\",\"#EA5560\",\"#ED595F\",\"#EE5D5D\",\"#F0605D\",\"#F3655C\",\"#F4685B\",\"#F56C5B\",\"#F7715B\",\"#F8755C\",\"#F9795C\",\"#FA7F5E\",\"#FA825F\",\"#FB8660\",\"#FC8C63\",\"#FC9064\",\"#FC9366\",\"#FD9969\",\"#FD9D6B\",\"#FDA16E\",\"#FEA671\",\"#FEAA74\",\"#FEAE76\",\"#FEB37B\",\"#FEB77D\",\"#FEBB80\",\"#FEC085\",\"#FEC488\",\"#FEC78B\",\"#FDCD90\",\"#FDD193\",\"#FDD497\",\"#FDDA9C\",\"#FDDD9F\",\"#FDE1A3\",\"#FCE6A8\",\"#FCEAAC\",\"#FCEEB0\",\"#FCF3B5\",\"#FBF7B9\",\"#FBFCBF\"],\"x\":[0,1,2,3,4,5,6,7,8,9,10,11,12,13,14,15,16,17,18,19,20,21,22,23,24,25,26,27,28,29,30,31,32,33,34,35,36,37,38,39,40,41,42,43,44,45,46,47,48,49,50,51,52,53,54,55,56,57,58,59,60,61,62,63,64,65,66,67,68,69,70,71,72,73,74,75,76,77,78,79,80,81,82,83,84,85,86,87,88,89,90,91,92,93,94,95,96,97,98,99,100,101,102,103,104,105,106,107,108,109],\"y\":{\"__ndarray__\":\"ZmZmZmZmxj+wcmiR7XzjPx+F61G4HtU/mpmZmZmZ0T/TTWIQWDncP1g5tMh2vs8/uB6F61G4zj+mm8QgsHLkP23n+6nx0uE/fT81XrpJ1D8pXI/C9SjgP+Olm8QgsMI/HVpkO99PzT/ZzvdT46XnP7ByaJHtfNc/9ihcj8L1yD8730+Nl27mPxBYObTIduI/8tJNYhBY0T/dJAaBlUPLP9NNYhBYOdQ/0SLb+X5q1D9t5/up8dLhP6JFtvP91Og/TmIQWDm02D8MAiuHFtneP3WTGARWDuU/I9v5fmq8tD/wp8ZLN4nlP9NNYhBYOcQ/SOF6FK5H2T/6fmq8dJPYP2ZmZmZmZtY/iUFg5dAi0z99PzVeuknkPzm0yHa+n9I/WDm0yHa+4z91kxgEVg7dP90kBoGVQ8s/0SLb+X5q1D/Xo3A9CtfjPxSuR+F6FNY/bef7qfHS3T9cj8L1KFzjP+f7qfHSTcI/aJHtfD814j8UrkfhehTiP4/C9Shcj+I/Gy/dJAaB4T+JQWDl0CLTPwIrhxbZzt8/9ihcj8L12D8AAAAAAADAPy2yne+nxts/mpmZmZmZ2T/TTWIQWDnUP3Noke18P90/uB6F61G43j+4HoXrUbjiP6JFtvP91Ng/SgwCK4cWyT+PwvUoXI/CP1yPwvUoXOM/x0s3iUFg1T/HSzeJQWDdP4ts5/up8eo/5dAi2/l+yj956SYxCKzMP4PAyqFFtsM/xSCwcmiR1T9g5dAi2/nqP2iR7Xw/Nd4/5dAi2/l+4j8IrBxaZDvjP+f7qfHSTdo/sp3vp8ZLxz/fT42XbhLnPxKDwMqhReI/SgwCK4cW0T/VeOkmMQjoP8/3U+Olm9Q/LbKd76fGyz/8qfHSTWLgPylcj8L1KOA/lkOLbOf74T8nMQisHFrkP5MYBFYOLcI/46WbxCCwwj9g5dAi2/niP6RwPQrXo+Q/qMZLN4lB0D9mZmZmZmbWPzEIrBxaZNs/exSuR+F61D/Xo3A9CtfTP7ByaJHtfNc/JzEIrBxa5D91kxgEVg7lP5qZmZmZmeU/EFg5tMh26j/RItv5fmrUP5huEoPAyuE//Knx0k1i2D9g5dAi2/m+P+f7qfHSTeI/KVyPwvUo1D8hsHJoke3gP+F6FK5H4co/4XoUrkfh2j9/arx0kxjEPw==\",\"dtype\":\"float64\",\"order\":\"little\",\"shape\":[110]}},\"selected\":{\"id\":\"1541\"},\"selection_policy\":{\"id\":\"1542\"}},\"id\":\"1489\",\"type\":\"ColumnDataSource\"},{\"attributes\":{\"fill_alpha\":{\"value\":0.1},\"fill_color\":{\"field\":\"fill_color\"},\"line_alpha\":{\"value\":0.1},\"line_color\":{\"field\":\"line_color\"},\"x\":{\"field\":\"x\"},\"y\":{\"field\":\"y\"}},\"id\":\"1491\",\"type\":\"Scatter\"},{\"attributes\":{},\"id\":\"1541\",\"type\":\"Selection\"},{\"attributes\":{},\"id\":\"1542\",\"type\":\"UnionRenderers\"},{\"attributes\":{\"source\":{\"id\":\"1489\"}},\"id\":\"1493\",\"type\":\"CDSView\"},{\"attributes\":{\"bottom_units\":\"screen\",\"fill_alpha\":0.5,\"fill_color\":\"lightgrey\",\"left_units\":\"screen\",\"level\":\"overlay\",\"line_alpha\":1.0,\"line_color\":\"black\",\"line_dash\":[4,4],\"line_width\":2,\"right_units\":\"screen\",\"syncable\":false,\"top_units\":\"screen\"},\"id\":\"1481\",\"type\":\"BoxAnnotation\"},{\"attributes\":{\"overlay\":{\"id\":\"1481\"}},\"id\":\"1477\",\"type\":\"BoxZoomTool\"},{\"attributes\":{},\"id\":\"1480\",\"type\":\"HelpTool\"},{\"attributes\":{},\"id\":\"1535\",\"type\":\"BasicTickFormatter\"},{\"attributes\":{},\"id\":\"1479\",\"type\":\"ResetTool\"},{\"attributes\":{\"text\":\"Bokeh Scatter Graph\"},\"id\":\"1457\",\"type\":\"Title\"},{\"attributes\":{},\"id\":\"1459\",\"type\":\"DataRange1d\"},{\"attributes\":{},\"id\":\"1536\",\"type\":\"AllLabels\"},{\"attributes\":{},\"id\":\"1463\",\"type\":\"LinearScale\"},{\"attributes\":{\"active_multi\":null,\"tools\":[{\"id\":\"1475\"},{\"id\":\"1476\"},{\"id\":\"1477\"},{\"id\":\"1478\"},{\"id\":\"1479\"},{\"id\":\"1480\"}]},\"id\":\"1482\",\"type\":\"Toolbar\"},{\"attributes\":{\"fill_color\":{\"field\":\"fill_color\"},\"line_color\":{\"field\":\"line_color\"},\"x\":{\"field\":\"x\"},\"y\":{\"field\":\"y\"}},\"id\":\"1490\",\"type\":\"Scatter\"},{\"attributes\":{},\"id\":\"1475\",\"type\":\"PanTool\"},{\"attributes\":{},\"id\":\"1461\",\"type\":\"DataRange1d\"},{\"attributes\":{\"formatter\":{\"id\":\"1535\"},\"major_label_policy\":{\"id\":\"1536\"},\"ticker\":{\"id\":\"1472\"}},\"id\":\"1471\",\"type\":\"LinearAxis\"},{\"attributes\":{},\"id\":\"1465\",\"type\":\"LinearScale\"},{\"attributes\":{\"formatter\":{\"id\":\"1538\"},\"major_label_policy\":{\"id\":\"1539\"},\"ticker\":{\"id\":\"1468\"}},\"id\":\"1467\",\"type\":\"LinearAxis\"},{\"attributes\":{},\"id\":\"1468\",\"type\":\"BasicTicker\"},{\"attributes\":{\"axis\":{\"id\":\"1467\"},\"ticker\":null},\"id\":\"1470\",\"type\":\"Grid\"},{\"attributes\":{},\"id\":\"1478\",\"type\":\"SaveTool\"},{\"attributes\":{\"data_source\":{\"id\":\"1489\"},\"glyph\":{\"id\":\"1490\"},\"hover_glyph\":null,\"muted_glyph\":null,\"nonselection_glyph\":{\"id\":\"1491\"},\"view\":{\"id\":\"1493\"}},\"id\":\"1492\",\"type\":\"GlyphRenderer\"},{\"attributes\":{\"axis\":{\"id\":\"1471\"},\"dimension\":1,\"ticker\":null},\"id\":\"1474\",\"type\":\"Grid\"},{\"attributes\":{},\"id\":\"1472\",\"type\":\"BasicTicker\"},{\"attributes\":{},\"id\":\"1476\",\"type\":\"WheelZoomTool\"}],\"root_ids\":[\"1456\"]},\"title\":\"Bokeh Application\",\"version\":\"2.3.2\"}};\n",
       "  var render_items = [{\"docid\":\"449c5293-09a5-484e-8198-bb1d97dc4149\",\"root_ids\":[\"1456\"],\"roots\":{\"1456\":\"6a5c0cb7-8b4d-4757-8560-16f56643db32\"}}];\n",
       "  root.Bokeh.embed.embed_items_notebook(docs_json, render_items);\n",
       "\n",
       "  }\n",
       "  if (root.Bokeh !== undefined) {\n",
       "    embed_document(root);\n",
       "  } else {\n",
       "    var attempts = 0;\n",
       "    var timer = setInterval(function(root) {\n",
       "      if (root.Bokeh !== undefined) {\n",
       "        clearInterval(timer);\n",
       "        embed_document(root);\n",
       "      } else {\n",
       "        attempts++;\n",
       "        if (attempts > 100) {\n",
       "          clearInterval(timer);\n",
       "          console.log(\"Bokeh: ERROR: Unable to run BokehJS code because BokehJS library is missing\");\n",
       "        }\n",
       "      }\n",
       "    }, 10, root)\n",
       "  }\n",
       "})(window);"
      ],
      "application/vnd.bokehjs_exec.v0+json": ""
     },
     "metadata": {
      "application/vnd.bokehjs_exec.v0+json": {
       "id": "1456"
      }
     },
     "output_type": "display_data"
    }
   ],
   "source": [
    "# instantiating the figure object\n",
    "graph = figure(title = \"Bokeh Scatter Graph\")\n",
    "n = len(data)  \n",
    "color = magma(n)\n",
    "  \n",
    "# plotting the graph\n",
    "graph.scatter(np.arange(n), data, color=color)\n",
    "\n",
    "show(graph)"
   ]
  },
  {
   "cell_type": "markdown",
   "id": "988fa554",
   "metadata": {},
   "source": [
    "Наступний варіант показує граф зі стовпчиків висотою відповідного до кожного значення з даних"
   ]
  },
  {
   "cell_type": "code",
   "execution_count": 77,
   "id": "9f296f39",
   "metadata": {},
   "outputs": [
    {
     "data": {
      "image/png": "[encoded data removed]",
      "text/plain": [
       "<Figure size 432x288 with 1 Axes>"
      ]
     },
     "metadata": {},
     "output_type": "display_data"
    }
   ],
   "source": [
    "# Bar chart with day against tip\n",
    "plt.bar(np.arange(len(data)), data)\n",
    "  \n",
    "plt.title(\"Bar Chart\")\n",
    "  \n",
    "# Setting the X and Y labels\n",
    "plt.xlabel('')\n",
    "plt.ylabel('Data')\n",
    "  \n",
    "# Adding the legends\n",
    "plt.show()"
   ]
  },
  {
   "cell_type": "markdown",
   "id": "d22d605b",
   "metadata": {},
   "source": [
    "## Побудова гістограм та емпіричних функцій розподілу для різної кількості інтервалів (три випадки). (1)"
   ]
  },
  {
   "cell_type": "code",
   "execution_count": 78,
   "id": "0c99859f",
   "metadata": {},
   "outputs": [
    {
     "data": {
      "image/png": "[encoded data removed]",
      "text/plain": [
       "<Figure size 432x288 with 1 Axes>"
      ]
     },
     "metadata": {},
     "output_type": "display_data"
    }
   ],
   "source": [
    "#будуємо кумулятивну криву емпіричної функцію розподілу\n",
    "N = len(data)\n",
    "X = data_sorted\n",
    "F = np.arange(N)/ N\n",
    "\n",
    "\n",
    "plt.plot(X, F)\n",
    "plt.show()"
   ]
  },
  {
   "cell_type": "code",
   "execution_count": 79,
   "id": "6713ee24",
   "metadata": {},
   "outputs": [
    {
     "data": {
      "image/png": "[encoded data removed]",
      "text/plain": [
       "<Figure size 432x288 with 1 Axes>"
      ]
     },
     "metadata": {},
     "output_type": "display_data"
    }
   ],
   "source": [
    "# будуємо гістограму\n",
    "plt.hist(data, bins=12, density = True, cumulative=False,fc=(0, 1, 0, 0.5))\n",
    "plt.show()"
   ]
  },
  {
   "cell_type": "code",
   "execution_count": 80,
   "id": "5ea39d74",
   "metadata": {
    "scrolled": true
   },
   "outputs": [
    {
     "data": {
      "image/png": "[encoded data removed]",
      "text/plain": [
       "<Figure size 432x288 with 1 Axes>"
      ]
     },
     "metadata": {},
     "output_type": "display_data"
    }
   ],
   "source": [
    "# fc = (R, G, B, A) changes opacity and color of bars\n",
    "plt.hist(data, bins=12, density = True, cumulative=True,fc=(0, 1, 0, 0.5))\n",
    "plt.show()"
   ]
  },
  {
   "cell_type": "code",
   "execution_count": 81,
   "id": "1f74653d",
   "metadata": {},
   "outputs": [
    {
     "data": {
      "image/png": "[encoded data removed]",
      "text/plain": [
       "<Figure size 432x288 with 1 Axes>"
      ]
     },
     "metadata": {},
     "output_type": "display_data"
    }
   ],
   "source": [
    "plt.hist(data, bins=8, density = True, cumulative=False,fc=(0.3, 0.2,0.1,0.5))\n",
    "plt.show()"
   ]
  },
  {
   "cell_type": "code",
   "execution_count": 82,
   "id": "21ceaecf",
   "metadata": {},
   "outputs": [
    {
     "data": {
      "image/png": "[encoded data removed]",
      "text/plain": [
       "<Figure size 432x288 with 1 Axes>"
      ]
     },
     "metadata": {},
     "output_type": "display_data"
    }
   ],
   "source": [
    "plt.hist(data, bins=8, density = True, cumulative=True,fc=(0.3, 0.2,0.1,0.5))\n",
    "plt.show()"
   ]
  },
  {
   "cell_type": "code",
   "execution_count": 83,
   "id": "7263daad",
   "metadata": {},
   "outputs": [
    {
     "data": {
      "image/png": "[encoded data removed]",
      "text/plain": [
       "<Figure size 432x288 with 1 Axes>"
      ]
     },
     "metadata": {},
     "output_type": "display_data"
    }
   ],
   "source": [
    "plt.hist(data, bins=6, density = True, cumulative=False,fc=(0.214,0.125,0.62,0.5))\n",
    "plt.show()"
   ]
  },
  {
   "cell_type": "code",
   "execution_count": 84,
   "id": "612cf783",
   "metadata": {},
   "outputs": [
    {
     "data": {
      "image/png": "[encoded data removed]",
      "text/plain": [
       "<Figure size 432x288 with 1 Axes>"
      ]
     },
     "metadata": {},
     "output_type": "display_data"
    }
   ],
   "source": [
    "plt.hist(data, bins=6, density = True, cumulative=True,fc=(0.214,0.125,0.62,0.5))\n",
    "plt.show()"
   ]
  },
  {
   "cell_type": "markdown",
   "id": "a643349e",
   "metadata": {},
   "source": [
    "## Висновок предметної областi\n",
    "\n",
    "В отриманому прикладi розглядалось 110 значень нарахувань премiї до заробiтньої платнi.\n",
    "\n",
    "Мiнiмальне нарахування = 0.081, тобто 8.1%\n",
    "\n",
    "Максимальне нарахування = 0.843, тобто 84,3%\n",
    "\n",
    "Вибiркове середнє нарахування = 0.423, тобто 42.3%, що вказує в середньому працівники отримали 42.3% нарахування премії до зарплати.\n",
    "\n",
    "Медiана = 0.3975, тобто 39,75%, що може вказувати на правий хвiст у розподiлi (оскільки середнє > медіани, медіана > моди)\n",
    "\n",
    "Мода вибірки 0.319, тобто 31.9% - найчастiше нарахування премії до заробiтньої платнi, що зустрічається серед працівників.\n",
    "\n",
    "Середнє квадратичне вiдхилення вiд середнього значення нарахування до 0.188, тобто 18.8%\n",
    "\n",
    "Значення ексцесу -0.854 < 3 характеризує плосковершинний розподiл.\n",
    "\n",
    "Коефiцiєнт асиметрiї 0.204 > 0 є додатнiм, тому це вказує на те, що розподiл має правий хвiст.\n",
    "\n",
    "За припущенням тодi вибiркове середнє має бути бiльше за медiану. середнє = 0.423 > 0.3975 = медіана, тому це твердження виконується. Це можна iнтерпретувати як бiльшiсть нарахувань помiрнi з невеликою\n",
    "кiлькiстю дуже вигiдних для працiвникiв. \n",
    "\n",
    "Мiжквартильний розмах = 0.575 - 0.279 = 0.296 показує нарахування премiї для людей, що потрапили в середнi 50% вибiрки.\n",
    "\n",
    "Те, що робили в Excel, збіглося з тим, що робили в Python.\n",
    "\n"
   ]
  }
 ],
 "metadata": {
  "kernelspec": {
   "display_name": "Python 3",
   "language": "python",
   "name": "python3"
  },
  "language_info": {
   "codemirror_mode": {
    "name": "ipython",
    "version": 3
   },
   "file_extension": ".py",
   "mimetype": "text/x-python",
   "name": "python",
   "nbconvert_exporter": "python",
   "pygments_lexer": "ipython3",
   "version": "3.8.8"
  }
 },
 "nbformat": 4,
 "nbformat_minor": 5
}
