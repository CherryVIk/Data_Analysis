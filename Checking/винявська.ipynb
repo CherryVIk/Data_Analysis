{
  "nbformat": 4,
  "nbformat_minor": 0,
  "metadata": {
    "colab": {
      "name": "Індивідуальне завдання 3 Винявська.ipynb",
      "provenance": [],
      "collapsed_sections": []
    },
    "kernelspec": {
      "name": "python3",
      "display_name": "Python 3"
    },
    "language_info": {
      "name": "python"
    }
  },
  "cells": [
    {
      "cell_type": "code",
      "execution_count": 71,
      "metadata": {
        "id": "RsA6eSjC8DTy"
      },
      "outputs": [],
      "source": [
        "import pandas as pd\n",
        "import numpy as np\n",
        "import math\n",
        "import matplotlib.pyplot as plt\n",
        "import seaborn as sns\n",
        "import scipy.stats\n",
        "from scipy import stats"
      ]
    },
    {
      "cell_type": "markdown",
      "source": [
        "Задача 1"
      ],
      "metadata": {
        "id": "CzA_itu1eAYg"
      }
    },
    {
      "cell_type": "code",
      "source": [
        "# Завантажити таблицю і вибрати дані свого варіанту (№2)\n",
        "dt = pd.read_excel(\"таблица.xlsx\", usecols=\"B\")\n",
        "# Варіаційний ряд\n",
        "data_sort = np.sort(dt, axis=None)\n",
        "dt = pd.Series(data_sort)\n",
        "dt"
      ],
      "metadata": {
        "colab": {
          "base_uri": "https://localhost:8080/",
          "height": 0
        },
        "id": "eTD00SzKeCOW",
        "outputId": "01e9cfb5-e532-458e-c027-4650cd3f9030"
      },
      "execution_count": 63,
      "outputs": [
        {
          "output_type": "execute_result",
          "data": {
            "text/plain": [
              "0      0.206\n",
              "1      0.210\n",
              "2      0.245\n",
              "3      0.277\n",
              "4      0.296\n",
              "       ...  \n",
              "105    0.880\n",
              "106    0.881\n",
              "107    0.889\n",
              "108    0.917\n",
              "109    0.936\n",
              "Length: 110, dtype: float64"
            ]
          },
          "metadata": {},
          "execution_count": 63
        }
      ]
    },
    {
      "cell_type": "code",
      "source": [
        "# Гістограма\n",
        "plt.hist(dt, density=True)"
      ],
      "metadata": {
        "colab": {
          "base_uri": "https://localhost:8080/",
          "height": 352
        },
        "id": "83qKyGdB9nLC",
        "outputId": "dfb8418c-4936-406f-8335-e7cef43c7cc2"
      },
      "execution_count": 11,
      "outputs": [
        {
          "output_type": "execute_result",
          "data": {
            "text/plain": [
              "(array([0.498132  , 0.62266501, 1.61892902, 1.24533001, 1.74346202,\n",
              "        2.36612702, 2.36612702, 1.12079701, 1.12079701, 0.99626401]),\n",
              " array([0.206, 0.279, 0.352, 0.425, 0.498, 0.571, 0.644, 0.717, 0.79 ,\n",
              "        0.863, 0.936]),\n",
              " <a list of 10 Patch objects>)"
            ]
          },
          "metadata": {},
          "execution_count": 11
        },
        {
          "output_type": "display_data",
          "data": {
            "image/png": "[encoded data removed]",
            "text/plain": [
              "<Figure size 432x288 with 1 Axes>"
            ]
          },
          "metadata": {
            "needs_background": "light"
          }
        }
      ]
    },
    {
      "cell_type": "code",
      "source": [
        "# Графік реалізації емпіричної функції розподілу\n",
        "plt.hist(dt, density=True, cumulative=True)\n",
        "sns.kdeplot(dt, cumulative=True)"
      ],
      "metadata": {
        "colab": {
          "base_uri": "https://localhost:8080/",
          "height": 282
        },
        "id": "MbZjAAkIAfMx",
        "outputId": "d99f3a24-ad00-49e2-fc0d-94bc907d39cc"
      },
      "execution_count": 9,
      "outputs": [
        {
          "output_type": "execute_result",
          "data": {
            "text/plain": [
              "<matplotlib.axes._subplots.AxesSubplot at 0x7f1b30c53bd0>"
            ]
          },
          "metadata": {},
          "execution_count": 9
        },
        {
          "output_type": "display_data",
          "data": {
            "image/png": "[encoded data removed]",
            "text/plain": [
              "<Figure size 432x288 with 1 Axes>"
            ]
          },
          "metadata": {
            "needs_background": "light"
          }
        }
      ]
    },
    {
      "cell_type": "code",
      "source": [
        "from scipy.stats import norm\n",
        "# Параметри нормального розподілу: середнє значення та середньоквадратичне відхилення\n",
        "mu, sigma  =scipy.stats.distributions.norm.fit(dt)\n",
        "mu, sigma"
      ],
      "metadata": {
        "colab": {
          "base_uri": "https://localhost:8080/"
        },
        "id": "fueguY-pCS1I",
        "outputId": "9040df2d-d73c-4d8d-acf4-8aade61d610a"
      },
      "execution_count": 72,
      "outputs": [
        {
          "output_type": "execute_result",
          "data": {
            "text/plain": [
              "(160.0, 98.2344135219425)"
            ]
          },
          "metadata": {},
          "execution_count": 72
        }
      ]
    },
    {
      "cell_type": "code",
      "source": [
        "# Будуємо гістограму і щільність теоретичного розподілу для нормального розподілу\n",
        "ix = np.linspace(0,1,10)\n",
        "N_fitted_dt = scipy.stats.distributions.norm.pdf(ix, mu, sigma)\n",
        "plt.hist(dt, density=True)\n",
        "plt.plot(ix,N_fitted_dt)"
      ],
      "metadata": {
        "colab": {
          "base_uri": "https://localhost:8080/",
          "height": 282
        },
        "id": "YTJmuR7nN6fa",
        "outputId": "51bdad4b-cb10-4400-bcea-85b56b522942"
      },
      "execution_count": 60,
      "outputs": [
        {
          "output_type": "execute_result",
          "data": {
            "text/plain": [
              "[<matplotlib.lines.Line2D at 0x7f1b2bd15910>]"
            ]
          },
          "metadata": {},
          "execution_count": 60
        },
        {
          "output_type": "display_data",
          "data": {
            "image/png": "[encoded data removed]",
            "text/plain": [
              "<Figure size 432x288 with 1 Axes>"
            ]
          },
          "metadata": {
            "needs_background": "light"
          }
        }
      ]
    },
    {
      "cell_type": "code",
      "source": [
        "from scipy.stats import t\n",
        "# Параметри для розподілу Стьюдента: кількість ступенів свободи, середнє значення, середньоквадратичне відхилення\n",
        "x, loc, scale  =scipy.stats.distributions.t.fit(dt)\n",
        "x, loc, scale"
      ],
      "metadata": {
        "colab": {
          "base_uri": "https://localhost:8080/"
        },
        "id": "n1v9Pu2uEdaA",
        "outputId": "769e7be5-c8c2-4ec4-938a-4afd59ac0535"
      },
      "execution_count": 73,
      "outputs": [
        {
          "output_type": "execute_result",
          "data": {
            "text/plain": [
              "(109212.47082460571, 159.99971258561095, 98.23395188534136)"
            ]
          },
          "metadata": {},
          "execution_count": 73
        }
      ]
    },
    {
      "cell_type": "code",
      "source": [
        "# Будуємо гістограму та щільність геометричного розподілу\n",
        "Ox = np.linspace(0,1,20)\n",
        "t_fitted_dt = scipy.stats.distributions.t.pdf(Ox, x, loc, scale)\n",
        "plt.hist(dt, density=True)\n",
        "plt.plot(Ox, t_fitted_dt)"
      ],
      "metadata": {
        "colab": {
          "base_uri": "https://localhost:8080/",
          "height": 282
        },
        "id": "WfJg_cAmMBsi",
        "outputId": "1596f57a-02cf-4e69-faa8-31e82ad4b3af"
      },
      "execution_count": 61,
      "outputs": [
        {
          "output_type": "execute_result",
          "data": {
            "text/plain": [
              "[<matplotlib.lines.Line2D at 0x7f1b2bc9a190>]"
            ]
          },
          "metadata": {},
          "execution_count": 61
        },
        {
          "output_type": "display_data",
          "data": {
            "image/png": "[encoded data removed]",
            "text/plain": [
              "<Figure size 432x288 with 1 Axes>"
            ]
          },
          "metadata": {
            "needs_background": "light"
          }
        }
      ]
    },
    {
      "cell_type": "markdown",
      "source": [
        "Задача 2"
      ],
      "metadata": {
        "id": "17E_ZGKIeLre"
      }
    },
    {
      "cell_type": "code",
      "source": [
        "from scipy.stats import gamma\n",
        "# Знайти методом максимальної правдоподібності оцінку параметра бета\n",
        "dt=pd.Series([50, 75, 125, 250, 300])\n",
        "alpha=1.12\n",
        "beta=np.mean(dt)/alpha\n",
        "beta"
      ],
      "metadata": {
        "colab": {
          "base_uri": "https://localhost:8080/"
        },
        "id": "N4-RZY60eNN5",
        "outputId": "0706757f-70d1-4836-9d8a-aad098355b48"
      },
      "execution_count": 74,
      "outputs": [
        {
          "output_type": "execute_result",
          "data": {
            "text/plain": [
              "142.85714285714283"
            ]
          },
          "metadata": {},
          "execution_count": 74
        }
      ]
    },
    {
      "cell_type": "markdown",
      "source": [
        "Задача 3"
      ],
      "metadata": {
        "id": "9XGvQ4mhfEE2"
      }
    },
    {
      "cell_type": "code",
      "source": [
        "# Оцінка параметрів альфа і бета методом моментів\n",
        "mean = np.mean(dt)\n",
        "std = np.std(dt)\n",
        "alpha = (mean/std)**2\n",
        "beta = (std**2)/mean\n",
        "alpha, beta"
      ],
      "metadata": {
        "colab": {
          "base_uri": "https://localhost:8080/"
        },
        "id": "28sgzOQgfFq2",
        "outputId": "404054c8-b2aa-46f4-bf3d-b0893d7fc634"
      },
      "execution_count": 75,
      "outputs": [
        {
          "output_type": "execute_result",
          "data": {
            "text/plain": [
              "(2.6528497409326426, 60.3125)"
            ]
          },
          "metadata": {},
          "execution_count": 75
        }
      ]
    }
  ]
}