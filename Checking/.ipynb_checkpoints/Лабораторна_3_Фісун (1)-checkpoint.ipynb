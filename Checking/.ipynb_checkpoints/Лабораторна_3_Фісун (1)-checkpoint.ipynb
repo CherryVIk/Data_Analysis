{
 "cells": [
  {
   "cell_type": "code",
   "execution_count": null,
   "metadata": {
    "id": "kUb9kYqQEQvw"
   },
   "outputs": [],
   "source": [
    "#Завантажити Pandas\n",
    "import pandas as pd\n",
    "import numpy as np\n"
   ]
  },
  {
   "cell_type": "code",
   "execution_count": null,
   "metadata": {
    "id": "yznl8n3xEqfK"
   },
   "outputs": [],
   "source": [
    "#завантажимо додаткові бібліотеки для графічного виведення і scipy.stats\n",
    "import matplotlib.pyplot as plot\n",
    "import numpy as np\n",
    "import scipy.stats\n",
    "from scipy import stats\n",
    "from scipy.stats import norm\n",
    "from scipy.stats import t\n",
    "import matplotlib.pyplot as plt"
   ]
  },
  {
   "cell_type": "code",
   "execution_count": null,
   "metadata": {
    "colab": {
     "base_uri": "https://localhost:8080/",
     "height": 206
    },
    "id": "C_2OoDGSlNMu",
    "outputId": "2277e829-299f-4b73-8c41-3c6f38fbbb0d"
   },
   "outputs": [
    {
     "data": {
      "text/html": [
       "\n",
       "  <div id=\"df-699611c9-c4e8-4f46-92fa-9b0dd95b036b\">\n",
       "    <div class=\"colab-df-container\">\n",
       "      <div>\n",
       "<style scoped>\n",
       "    .dataframe tbody tr th:only-of-type {\n",
       "        vertical-align: middle;\n",
       "    }\n",
       "\n",
       "    .dataframe tbody tr th {\n",
       "        vertical-align: top;\n",
       "    }\n",
       "\n",
       "    .dataframe thead th {\n",
       "        text-align: right;\n",
       "    }\n",
       "</style>\n",
       "<table border=\"1\" class=\"dataframe\">\n",
       "  <thead>\n",
       "    <tr style=\"text-align: right;\">\n",
       "      <th></th>\n",
       "      <th>var1</th>\n",
       "      <th>var2</th>\n",
       "      <th>var3</th>\n",
       "      <th>var4</th>\n",
       "      <th>var5</th>\n",
       "      <th>var6</th>\n",
       "      <th>var7</th>\n",
       "      <th>var8</th>\n",
       "      <th>var9</th>\n",
       "      <th>var10</th>\n",
       "      <th>var11</th>\n",
       "      <th>var12</th>\n",
       "    </tr>\n",
       "  </thead>\n",
       "  <tbody>\n",
       "    <tr>\n",
       "      <th>0</th>\n",
       "      <td>0.175</td>\n",
       "      <td>0.662</td>\n",
       "      <td>6.133</td>\n",
       "      <td>0.505</td>\n",
       "      <td>0.566</td>\n",
       "      <td>-3.795</td>\n",
       "      <td>0.675</td>\n",
       "      <td>-10.000</td>\n",
       "      <td>4.990</td>\n",
       "      <td>0.064</td>\n",
       "      <td>-1.569</td>\n",
       "      <td>4.736</td>\n",
       "    </tr>\n",
       "    <tr>\n",
       "      <th>1</th>\n",
       "      <td>0.609</td>\n",
       "      <td>0.468</td>\n",
       "      <td>7.459</td>\n",
       "      <td>0.318</td>\n",
       "      <td>0.753</td>\n",
       "      <td>1.349</td>\n",
       "      <td>0.386</td>\n",
       "      <td>16.967</td>\n",
       "      <td>5.919</td>\n",
       "      <td>0.240</td>\n",
       "      <td>-3.235</td>\n",
       "      <td>-0.127</td>\n",
       "    </tr>\n",
       "    <tr>\n",
       "      <th>2</th>\n",
       "      <td>0.330</td>\n",
       "      <td>0.430</td>\n",
       "      <td>1.887</td>\n",
       "      <td>0.623</td>\n",
       "      <td>0.731</td>\n",
       "      <td>3.216</td>\n",
       "      <td>0.513</td>\n",
       "      <td>-2.405</td>\n",
       "      <td>2.818</td>\n",
       "      <td>0.292</td>\n",
       "      <td>2.869</td>\n",
       "      <td>5.775</td>\n",
       "    </tr>\n",
       "    <tr>\n",
       "      <th>3</th>\n",
       "      <td>0.275</td>\n",
       "      <td>0.296</td>\n",
       "      <td>5.260</td>\n",
       "      <td>0.204</td>\n",
       "      <td>0.805</td>\n",
       "      <td>-0.871</td>\n",
       "      <td>0.214</td>\n",
       "      <td>2.132</td>\n",
       "      <td>3.820</td>\n",
       "      <td>0.233</td>\n",
       "      <td>7.578</td>\n",
       "      <td>3.599</td>\n",
       "    </tr>\n",
       "    <tr>\n",
       "      <th>4</th>\n",
       "      <td>0.441</td>\n",
       "      <td>0.597</td>\n",
       "      <td>6.442</td>\n",
       "      <td>0.302</td>\n",
       "      <td>0.757</td>\n",
       "      <td>2.180</td>\n",
       "      <td>0.671</td>\n",
       "      <td>-2.154</td>\n",
       "      <td>6.524</td>\n",
       "      <td>0.352</td>\n",
       "      <td>5.000</td>\n",
       "      <td>10.965</td>\n",
       "    </tr>\n",
       "  </tbody>\n",
       "</table>\n",
       "</div>\n",
       "      <button class=\"colab-df-convert\" onclick=\"convertToInteractive('df-699611c9-c4e8-4f46-92fa-9b0dd95b036b')\"\n",
       "              title=\"Convert this dataframe to an interactive table.\"\n",
       "              style=\"display:none;\">\n",
       "        \n",
       "  <svg xmlns=\"http://www.w3.org/2000/svg\" height=\"24px\"viewBox=\"0 0 24 24\"\n",
       "       width=\"24px\">\n",
       "    <path d=\"M0 0h24v24H0V0z\" fill=\"none\"/>\n",
       "    <path d=\"M18.56 5.44l.94 2.06.94-2.06 2.06-.94-2.06-.94-.94-2.06-.94 2.06-2.06.94zm-11 1L8.5 8.5l.94-2.06 2.06-.94-2.06-.94L8.5 2.5l-.94 2.06-2.06.94zm10 10l.94 2.06.94-2.06 2.06-.94-2.06-.94-.94-2.06-.94 2.06-2.06.94z\"/><path d=\"M17.41 7.96l-1.37-1.37c-.4-.4-.92-.59-1.43-.59-.52 0-1.04.2-1.43.59L10.3 9.45l-7.72 7.72c-.78.78-.78 2.05 0 2.83L4 21.41c.39.39.9.59 1.41.59.51 0 1.02-.2 1.41-.59l7.78-7.78 2.81-2.81c.8-.78.8-2.07 0-2.86zM5.41 20L4 18.59l7.72-7.72 1.47 1.35L5.41 20z\"/>\n",
       "  </svg>\n",
       "      </button>\n",
       "      \n",
       "  <style>\n",
       "    .colab-df-container {\n",
       "      display:flex;\n",
       "      flex-wrap:wrap;\n",
       "      gap: 12px;\n",
       "    }\n",
       "\n",
       "    .colab-df-convert {\n",
       "      background-color: #E8F0FE;\n",
       "      border: none;\n",
       "      border-radius: 50%;\n",
       "      cursor: pointer;\n",
       "      display: none;\n",
       "      fill: #1967D2;\n",
       "      height: 32px;\n",
       "      padding: 0 0 0 0;\n",
       "      width: 32px;\n",
       "    }\n",
       "\n",
       "    .colab-df-convert:hover {\n",
       "      background-color: #E2EBFA;\n",
       "      box-shadow: 0px 1px 2px rgba(60, 64, 67, 0.3), 0px 1px 3px 1px rgba(60, 64, 67, 0.15);\n",
       "      fill: #174EA6;\n",
       "    }\n",
       "\n",
       "    [theme=dark] .colab-df-convert {\n",
       "      background-color: #3B4455;\n",
       "      fill: #D2E3FC;\n",
       "    }\n",
       "\n",
       "    [theme=dark] .colab-df-convert:hover {\n",
       "      background-color: #434B5C;\n",
       "      box-shadow: 0px 1px 3px 1px rgba(0, 0, 0, 0.15);\n",
       "      filter: drop-shadow(0px 1px 2px rgba(0, 0, 0, 0.3));\n",
       "      fill: #FFFFFF;\n",
       "    }\n",
       "  </style>\n",
       "\n",
       "      <script>\n",
       "        const buttonEl =\n",
       "          document.querySelector('#df-699611c9-c4e8-4f46-92fa-9b0dd95b036b button.colab-df-convert');\n",
       "        buttonEl.style.display =\n",
       "          google.colab.kernel.accessAllowed ? 'block' : 'none';\n",
       "\n",
       "        async function convertToInteractive(key) {\n",
       "          const element = document.querySelector('#df-699611c9-c4e8-4f46-92fa-9b0dd95b036b');\n",
       "          const dataTable =\n",
       "            await google.colab.kernel.invokeFunction('convertToInteractive',\n",
       "                                                     [key], {});\n",
       "          if (!dataTable) return;\n",
       "\n",
       "          const docLinkHtml = 'Like what you see? Visit the ' +\n",
       "            '<a target=\"_blank\" href=https://colab.research.google.com/notebooks/data_table.ipynb>data table notebook</a>'\n",
       "            + ' to learn more about interactive tables.';\n",
       "          element.innerHTML = '';\n",
       "          dataTable['output_type'] = 'display_data';\n",
       "          await google.colab.output.renderOutput(dataTable, element);\n",
       "          const docLink = document.createElement('div');\n",
       "          docLink.innerHTML = docLinkHtml;\n",
       "          element.appendChild(docLink);\n",
       "        }\n",
       "      </script>\n",
       "    </div>\n",
       "  </div>\n",
       "  "
      ],
      "text/plain": [
       "    var1   var2   var3   var4   var5  ...    var8   var9  var10  var11   var12\n",
       "0  0.175  0.662  6.133  0.505  0.566  ... -10.000  4.990  0.064 -1.569   4.736\n",
       "1  0.609  0.468  7.459  0.318  0.753  ...  16.967  5.919  0.240 -3.235  -0.127\n",
       "2  0.330  0.430  1.887  0.623  0.731  ...  -2.405  2.818  0.292  2.869   5.775\n",
       "3  0.275  0.296  5.260  0.204  0.805  ...   2.132  3.820  0.233  7.578   3.599\n",
       "4  0.441  0.597  6.442  0.302  0.757  ...  -2.154  6.524  0.352  5.000  10.965\n",
       "\n",
       "[5 rows x 12 columns]"
      ]
     },
     "execution_count": 69,
     "metadata": {},
     "output_type": "execute_result"
    }
   ],
   "source": [
    "ts_df = pd.read_csv('Data1 (1).csv')\n",
    "ts_df.head()\n"
   ]
  },
  {
   "cell_type": "code",
   "execution_count": null,
   "metadata": {
    "colab": {
     "base_uri": "https://localhost:8080/"
    },
    "id": "g3dnMgZhrIoU",
    "outputId": "727e761f-4b73-4a2e-ff0a-0be660c8bf41"
   },
   "outputs": [
    {
     "data": {
      "text/plain": [
       "0      0.175\n",
       "1      0.609\n",
       "2      0.330\n",
       "3      0.275\n",
       "4      0.441\n",
       "       ...  \n",
       "105    0.315\n",
       "106    0.529\n",
       "107    0.210\n",
       "108    0.420\n",
       "109    0.157\n",
       "Name: var1, Length: 110, dtype: float64"
      ]
     },
     "execution_count": 70,
     "metadata": {},
     "output_type": "execute_result"
    }
   ],
   "source": [
    "x= ts_df['var1']\n",
    "x"
   ]
  },
  {
   "cell_type": "code",
   "execution_count": null,
   "metadata": {
    "colab": {
     "base_uri": "https://localhost:8080/",
     "height": 681
    },
    "id": "oE-X7tXO6qVq",
    "outputId": "2fa576c7-838d-4f39-dcfb-3b4611585218"
   },
   "outputs": [
    {
     "data": {
      "text/plain": [
       "(array([1.19303269, 1.43163923, 1.07372942, 2.38606538, 1.5509425 ,\n",
       "        1.07372942, 2.14745884, 1.31233596, 0.47721308, 0.47721308]),\n",
       " array([0.081 , 0.1572, 0.2334, 0.3096, 0.3858, 0.462 , 0.5382, 0.6144,\n",
       "        0.6906, 0.7668, 0.843 ]),\n",
       " <a list of 10 Patch objects>)"
      ]
     },
     "execution_count": 71,
     "metadata": {},
     "output_type": "execute_result"
    },
    {
     "data": {
      "image/png": "[encoded data removed]",
      "text/plain": [
       "<Figure size 720x720 with 1 Axes>"
      ]
     },
     "metadata": {
      "needs_background": "light"
     },
     "output_type": "display_data"
    }
   ],
   "source": [
    "plt.subplots(figsize=(10,10))\n",
    "plt.hist(x, density=True)"
   ]
  },
  {
   "cell_type": "markdown",
   "metadata": {
    "id": "pfWU3sT9G1h_"
   },
   "source": [
    "а) Припустити, що вибірка розподілена за нормальним законом і знайти параметри нормального розподілу методом моментів"
   ]
  },
  {
   "cell_type": "code",
   "execution_count": null,
   "metadata": {
    "colab": {
     "base_uri": "https://localhost:8080/"
    },
    "id": "rxoZ2va7EsG5",
    "outputId": "15239ec6-8fcc-48cc-e992-3e0065feb7ed"
   },
   "outputs": [
    {
     "data": {
      "text/plain": [
       "(0.42301818181818185, 0.1869163148586302)"
      ]
     },
     "execution_count": 72,
     "metadata": {},
     "output_type": "execute_result"
    }
   ],
   "source": [
    "# обчислюємо параметри для нормального розподілу\n",
    "a, sigma  =scipy.stats.distributions.norm.fit(x)\n",
    "a,sigma"
   ]
  },
  {
   "cell_type": "code",
   "execution_count": 98,
   "metadata": {
    "id": "cgBX3yjg77Z4"
   },
   "outputs": [],
   "source": [
    "# визначаємо значення на ОХ: від 0.08 до 0.8.\n",
    "ix = np.linspace(0.08,0.8)"
   ]
  },
  {
   "cell_type": "code",
   "execution_count": null,
   "metadata": {
    "colab": {
     "base_uri": "https://localhost:8080/"
    },
    "id": "uNyRssqG79Ai",
    "outputId": "58b1a0c7-4391-4852-9a7a-54498c3e4917"
   },
   "outputs": [
    {
     "data": {
      "text/plain": [
       "array([0.16484488, 0.20011022, 0.24107358, 0.28821498, 0.34195585,\n",
       "       0.40263369, 0.47047522, 0.54556935, 0.6278411 , 0.71702796,\n",
       "       0.81266025, 0.91404696, 1.02026872, 1.13017893, 1.24241422,\n",
       "       1.35541469, 1.46745414, 1.57667962, 1.68115959, 1.77893878,\n",
       "       1.8680979 , 1.94681566, 2.01343032, 2.06649779, 2.10484373,\n",
       "       2.12760666, 2.13427018, 2.1246824 , 2.09906176, 2.05798868,\n",
       "       2.00238378, 1.93347351, 1.85274524, 1.76189391, 1.66276309,\n",
       "       1.55728308, 1.44740919, 1.33506269, 1.22207698, 1.11015095,\n",
       "       1.00081102, 0.89538269, 0.79497209, 0.70045725, 0.61248854,\n",
       "       0.53149706, 0.45770993, 0.39117075, 0.33176379, 0.27924034])"
      ]
     },
     "execution_count": 82,
     "metadata": {},
     "output_type": "execute_result"
    }
   ],
   "source": [
    "# обчислюємо значення теоеретичної функції розподілу для підібраних пара\n",
    "N_fitted_proba=scipy.stats.distributions.norm.pdf(ix,a,sigma)\n",
    "N_fitted_proba"
   ]
  },
  {
   "cell_type": "code",
   "execution_count": 99,
   "metadata": {
    "colab": {
     "base_uri": "https://localhost:8080/",
     "height": 503
    },
    "id": "ha1ifF0u8EIA",
    "outputId": "2f1b769e-0a94-4975-a3f0-88ded73311ca"
   },
   "outputs": [
    {
     "data": {
      "text/plain": [
       "[<matplotlib.lines.Line2D at 0x7f508d0bc9d0>]"
      ]
     },
     "execution_count": 99,
     "metadata": {},
     "output_type": "execute_result"
    },
    {
     "data": {
      "image/png": "[encoded data removed]",
      "text/plain": [
       "<Figure size 720x576 with 1 Axes>"
      ]
     },
     "metadata": {
      "needs_background": "light"
     },
     "output_type": "display_data"
    }
   ],
   "source": [
    "# будуємо на одному графіку гістограму і щільність теоретичного розподіл\n",
    "plt.subplots(figsize=(10,8))\n",
    "plt.hist(x, density=True)\n",
    "plt.plot(ix,N_fitted_proba,'g')\n"
   ]
  },
  {
   "cell_type": "code",
   "execution_count": null,
   "metadata": {
    "colab": {
     "base_uri": "https://localhost:8080/",
     "height": 265
    },
    "id": "gqU8hUsaa4XL",
    "outputId": "3ba41324-60c2-4d0e-e230-2da1751c5ea6"
   },
   "outputs": [
    {
     "data": {
      "image/png": "[encoded data removed]",
      "text/plain": [
       "<Figure size 432x288 with 1 Axes>"
      ]
     },
     "metadata": {
      "needs_background": "light"
     },
     "output_type": "display_data"
    }
   ],
   "source": [
    "y = np.linspace(a - 3*sigma, a + 3*sigma, 100)\n",
    "plt.plot(y, stats.norm.pdf(y, a, sigma))\n",
    "plt.show()"
   ]
  },
  {
   "cell_type": "code",
   "execution_count": null,
   "metadata": {
    "id": "pZEqaYQPG7tU"
   },
   "outputs": [],
   "source": [
    "Параметри знайдені вручну відповідно до числових характеристик нормального розподілу"
   ]
  },
  {
   "cell_type": "code",
   "execution_count": null,
   "metadata": {
    "colab": {
     "base_uri": "https://localhost:8080/"
    },
    "id": "y6ZkMZapFMSy",
    "outputId": "e516e341-eeed-450a-8c4d-fee21dcdacf4"
   },
   "outputs": [
    {
     "data": {
      "text/plain": [
       "0.42301818181818185"
      ]
     },
     "execution_count": 44,
     "metadata": {},
     "output_type": "execute_result"
    }
   ],
   "source": [
    "a=sum(x)/len(x)\n",
    "a"
   ]
  },
  {
   "cell_type": "code",
   "execution_count": null,
   "metadata": {
    "colab": {
     "base_uri": "https://localhost:8080/"
    },
    "id": "qAbj7g18hIbp",
    "outputId": "05b596a4-e25a-4880-d609-ecb456f027b8"
   },
   "outputs": [
    {
     "data": {
      "text/plain": [
       "0.3270023901679577"
      ]
     },
     "execution_count": 54,
     "metadata": {},
     "output_type": "execute_result"
    }
   ],
   "source": [
    "sigma=np.std(x)\n",
    "sigma"
   ]
  },
  {
   "cell_type": "markdown",
   "metadata": {
    "id": "kAvUV2rvHNvC"
   },
   "source": [
    "C) Припустити, що вибірка має якийсь інший розподіл (Коші, Стьюдента, або інш)Засобами Python знайти параметри цього розподілу і побудувати криву цього розподілу."
   ]
  },
  {
   "cell_type": "code",
   "execution_count": null,
   "metadata": {
    "id": "UKAwXyOJQ9rT"
   },
   "outputs": [],
   "source": [
    "# завантажуємо t (Student)\n",
    "from scipy.stats import t\n"
   ]
  },
  {
   "cell_type": "code",
   "execution_count": null,
   "metadata": {
    "colab": {
     "base_uri": "https://localhost:8080/"
    },
    "id": "Y_FGCCu4REdT",
    "outputId": "2b1f9c78-da8b-49fc-9f71-5f0ef515cc18"
   },
   "outputs": [
    {
     "data": {
      "text/plain": [
       "(10418139.123878762, 0.42302180266736555, 0.18691657724918748)"
      ]
     },
     "execution_count": 74,
     "metadata": {},
     "output_type": "execute_result"
    }
   ],
   "source": [
    "# обчислюємо параметри для Стьюдент розподілу\n",
    "z, loc, scale  =scipy.stats.distributions.t.fit(x)\n",
    "z,loc,scale"
   ]
  },
  {
   "cell_type": "code",
   "execution_count": null,
   "metadata": {
    "id": "1J6jV2ee5B_I"
   },
   "outputs": [],
   "source": [
    "# визначаємо значення на ОХ: від 0 до 0.8.\n",
    "Ox = np.linspace(0,0.8)\n"
   ]
  },
  {
   "cell_type": "code",
   "execution_count": null,
   "metadata": {
    "colab": {
     "base_uri": "https://localhost:8080/"
    },
    "id": "kS0LrL6dt4EA",
    "outputId": "59441834-05e0-4e2c-e835-6c8ab26e7e07"
   },
   "outputs": [
    {
     "data": {
      "text/plain": [
       "array([0.16483867, 0.20010289, 0.24106502, 0.28820507, 0.3419445 ,\n",
       "       0.40262081, 0.47046074, 0.54555324, 0.62782336, 0.71700864,\n",
       "       0.81263943, 0.91402478, 1.02024537, 1.13015465, 1.24238929,\n",
       "       1.35538946, 1.46742898, 1.57665494, 1.68113582, 1.77891636,\n",
       "       1.86807727, 1.94679724, 2.01341448, 2.06648489, 2.10483405,\n",
       "       2.12760041, 2.1342675 , 2.12468336, 2.09906632, 2.05799675,\n",
       "       2.00239517, 1.93348797, 1.85276244, 1.76191349, 1.66278465,\n",
       "       1.55730619, 1.44743342, 1.33508759, 1.22210214, 1.11017599,\n",
       "       1.00083559, 0.89540647, 0.79499482, 0.70047872, 0.61250859,\n",
       "       0.53151558, 0.45772686, 0.39118607, 0.33177751, 0.27925251])"
      ]
     },
     "execution_count": 85,
     "metadata": {},
     "output_type": "execute_result"
    }
   ],
   "source": [
    "t_fitted_proba = scipy.stats.distributions.t.pdf(Ox, z, loc, scale)\n",
    "t_fitted_proba"
   ]
  },
  {
   "cell_type": "code",
   "execution_count": 100,
   "metadata": {
    "colab": {
     "base_uri": "https://localhost:8080/",
     "height": 720
    },
    "id": "q13wkEymHn6S",
    "outputId": "31f3eead-a584-4def-d6f1-8541166699f0"
   },
   "outputs": [
    {
     "data": {
      "text/plain": [
       "[<matplotlib.lines.Line2D at 0x7f508cfeab50>]"
      ]
     },
     "execution_count": 100,
     "metadata": {},
     "output_type": "execute_result"
    },
    {
     "data": {
      "image/png": "[encoded data removed]",
      "text/plain": [
       "<Figure size 1080x864 with 1 Axes>"
      ]
     },
     "metadata": {
      "needs_background": "light"
     },
     "output_type": "display_data"
    }
   ],
   "source": [
    "# будуємо на одному графіку гістограму і щільність теоретичного розподіл\n",
    "plt.subplots(figsize=(15,12))\n",
    "plt.hist(x, density=True)\n",
    "plt.plot(Ox,t_fitted_proba,'r')\n",
    "plt.plot(ix,N_fitted_proba,'g')\n"
   ]
  },
  {
   "cell_type": "markdown",
   "metadata": {
    "id": "05UIXliehwN2"
   },
   "source": [
    "2. Знайти оцінку максимальної правдоподібності двовимірного параметра (a,b)   для рівномірного розподілу на відрізку [a,b].\n",
    "\n",
    "![image.png](data:image/png;base64,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)\n",
    "\n",
    "Для рівномірного розподілу функція максимальної правдоподібності має вигляд:\n",
    "![image.png](data:image/png;base64,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)\n",
    "\n",
    "Запишемо логарифмічну функцію правдоподібності \n",
    "![image.png](data:image/png;base64,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)\n",
    "\n",
    "Знайдемо такі значення a та b, що максимізують логарифмічну функцію правдо подібності, для цього потрібно знайти похідну по a та b відповідно."
   ]
  },
  {
   "cell_type": "code",
   "execution_count": null,
   "metadata": {
    "colab": {
     "base_uri": "https://localhost:8080/"
    },
    "id": "oFUJi1yjlvDG",
    "outputId": "ddabe2ec-60ef-45c9-8908-2d072723c9c3"
   },
   "outputs": [
    {
     "name": "stdout",
     "output_type": "stream",
     "text": [
      "Requirement already satisfied: sympy in /usr/local/lib/python3.7/dist-packages (1.7.1)\n",
      "Requirement already satisfied: mpmath>=0.19 in /usr/local/lib/python3.7/dist-packages (from sympy) (1.2.1)\n"
     ]
    }
   ],
   "source": [
    " pip install sympy"
   ]
  },
  {
   "cell_type": "code",
   "execution_count": null,
   "metadata": {
    "id": "URLHbYdtlwyC"
   },
   "outputs": [],
   "source": [
    "from sympy import *"
   ]
  },
  {
   "cell_type": "code",
   "execution_count": null,
   "metadata": {
    "id": "mce4meL4l0yh"
   },
   "outputs": [],
   "source": [
    "a, b,n = symbols('a b n')"
   ]
  },
  {
   "cell_type": "code",
   "execution_count": null,
   "metadata": {
    "colab": {
     "base_uri": "https://localhost:8080/"
    },
    "id": "VNHuqyMtl9h-",
    "outputId": "79a505fd-0edc-4322-875a-96820f2c974d"
   },
   "outputs": [
    {
     "name": "stdout",
     "output_type": "stream",
     "text": [
      "n/(-a + b)\n"
     ]
    }
   ],
   "source": [
    "print(diff(-n*log(b-a), a))\n"
   ]
  },
  {
   "cell_type": "code",
   "execution_count": null,
   "metadata": {
    "colab": {
     "base_uri": "https://localhost:8080/"
    },
    "id": "FxO3frc5mXg-",
    "outputId": "00ec1feb-be46-4f5c-ab35-1786b29f1244"
   },
   "outputs": [
    {
     "name": "stdout",
     "output_type": "stream",
     "text": [
      "-n/(-a + b)\n"
     ]
    }
   ],
   "source": [
    "print(diff(-n*log(b-a), b))"
   ]
  },
  {
   "cell_type": "markdown",
   "metadata": {
    "id": "sv26GUFRmeYW"
   },
   "source": [
    "З отриманих результатів ми можемо зробити такі висновки.\n",
    "Похідна по a монотонно зростає, тому максимальне значення для a буде \n",
    "\n",
    "![image.png](data:image/png;base64,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)\n",
    "\n",
    "Похідна по b монотонно спадає, тому найменшим значенням для b буде\n",
    "\n",
    "![image.png](data:image/png;base64,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)"
   ]
  },
  {
   "cell_type": "markdown",
   "metadata": {
    "id": "NPo6uebVGAQb"
   },
   "source": [
    "Відповідь: a=3, b=21"
   ]
  },
  {
   "cell_type": "markdown",
   "metadata": {
    "id": "t4xGWV87uUjh"
   },
   "source": [
    "3. Знайти оцінку методом моментів двовимірного параметра (a,b)   для рівномірного розподілу на відрізку [a,b]. Застосувати знайдені формули для знаходження оцінок  невідомих   рівномірного розподілу, якщо отримана вибірка має вигляд\n",
    "\n",
    "![image.png](data:image/png;base64,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)"
   ]
  },
  {
   "cell_type": "code",
   "execution_count": null,
   "metadata": {
    "colab": {
     "base_uri": "https://localhost:8080/"
    },
    "id": "x8dQGmJpq5-P",
    "outputId": "554ea6da-0990-483d-81a9-606fffda1ca8"
   },
   "outputs": [
    {
     "data": {
      "text/plain": [
       "21     3\n",
       "16     5\n",
       "15     7\n",
       "26     9\n",
       "22    11\n",
       "14    13\n",
       "21    15\n",
       "22    17\n",
       "18    19\n",
       "25    21\n",
       "dtype: int64"
      ]
     },
     "execution_count": 21,
     "metadata": {},
     "output_type": "execute_result"
    }
   ],
   "source": [
    "\n",
    "data=pd.Series([3,5,7,9,11,13,15,17,19,21], [21,16,15,26,22,14,21,22,18,25])\n",
    "data\n"
   ]
  },
  {
   "cell_type": "markdown",
   "metadata": {
    "id": "1HLBRR-HuO_f"
   },
   "source": [
    "Суть методу: виразити числові параметри теоретичного розподілу через моменти розподілу, оцінені за вибіркою. Число моментів має відповідати числу невідомих параметрів розподілу (найчастіше використовують перші два моменти). Після обчислення прирівнюємо теоретичні та вибіркові моменти один до одного та виражаємо оцінки параметрів."
   ]
  },
  {
   "cell_type": "markdown",
   "metadata": {
    "id": "B1dLUjTuvUeh"
   },
   "source": [
    "Для рівномірного розподілу чилові характеристики (математичне сподівання та дисперсія) мають такий вигляд.\n",
    "\n",
    "![image.png](data:image/png;base64,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)\n",
    "\n",
    "![image.png](data:image/png;base64,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)\n",
    "\n",
    "Знайдемо моменти та запишемо систему.\n",
    "\n",
    "![image.png](data:image/png;base64,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)\n",
    "\n"
   ]
  },
  {
   "cell_type": "code",
   "execution_count": null,
   "metadata": {
    "colab": {
     "base_uri": "https://localhost:8080/"
    },
    "id": "_nJ5XKsFwLWJ",
    "outputId": "3d15a413-4e91-4b6d-c926-726cffd5cefb"
   },
   "outputs": [
    {
     "name": "stdout",
     "output_type": "stream",
     "text": [
      "2462\n"
     ]
    }
   ],
   "source": [
    "x=[3,5,7,9,11,13,15,17,19,21]\n",
    "n=[21,16,15,26,22,14,21,22,18,25]\n",
    "result=0\n",
    "for item1,item2 in zip(x, n):\n",
    "  result = result+item1 * item2\n",
    "print(result)"
   ]
  },
  {
   "cell_type": "code",
   "execution_count": null,
   "metadata": {
    "colab": {
     "base_uri": "https://localhost:8080/"
    },
    "id": "t0TCEgCo4Il1",
    "outputId": "a3b0ddbb-abb9-4e9b-a086-79e9d2b28e49"
   },
   "outputs": [
    {
     "name": "stdout",
     "output_type": "stream",
     "text": [
      "200\n"
     ]
    }
   ],
   "source": [
    "sum_n=0\n",
    "for item1 in n:\n",
    "  sum_n=sum_n+item1\n",
    "print(sum_n)"
   ]
  },
  {
   "cell_type": "code",
   "execution_count": null,
   "metadata": {
    "colab": {
     "base_uri": "https://localhost:8080/"
    },
    "id": "o14n1bdn4ZOm",
    "outputId": "aae4aa52-07b3-4b0e-9ed8-91c65e1d29af"
   },
   "outputs": [
    {
     "name": "stdout",
     "output_type": "stream",
     "text": [
      "12.31\n"
     ]
    }
   ],
   "source": [
    "first_moment=result/sum_n\n",
    "print(first_moment)"
   ]
  },
  {
   "cell_type": "code",
   "execution_count": null,
   "metadata": {
    "colab": {
     "base_uri": "https://localhost:8080/"
    },
    "id": "xex5wANK4nSo",
    "outputId": "2bf61531-e34a-43e5-cf71-b6f7e1f90001"
   },
   "outputs": [
    {
     "name": "stdout",
     "output_type": "stream",
     "text": [
      "37064\n"
     ]
    }
   ],
   "source": [
    "x=[3,5,7,9,11,13,15,17,19,21]\n",
    "n=[21,16,15,26,22,14,21,22,18,25]\n",
    "result2=0\n",
    "for item1,item2 in zip(x, n):\n",
    "  result2 = result2+(item1*item1 * item2)\n",
    "print(result2)"
   ]
  },
  {
   "cell_type": "code",
   "execution_count": null,
   "metadata": {
    "colab": {
     "base_uri": "https://localhost:8080/"
    },
    "id": "YWGa90FL5Eb9",
    "outputId": "b8050cf7-d86b-406f-cd40-a716d812b45a"
   },
   "outputs": [
    {
     "name": "stdout",
     "output_type": "stream",
     "text": [
      "33.78389999999999\n"
     ]
    }
   ],
   "source": [
    "second_moment=(result2/sum_n-first_moment*first_moment)\n",
    "print(second_moment)"
   ]
  },
  {
   "cell_type": "code",
   "execution_count": null,
   "metadata": {
    "id": "hflGqBNN5alV"
   },
   "outputs": [],
   "source": [
    "from sympy import symbols, Eq, solve"
   ]
  },
  {
   "cell_type": "code",
   "execution_count": null,
   "metadata": {
    "id": "NprrkSpC7eYE"
   },
   "outputs": [],
   "source": [
    "a, b = symbols('a b')"
   ]
  },
  {
   "cell_type": "code",
   "execution_count": null,
   "metadata": {
    "id": "uRmNdaWo7pl8"
   },
   "outputs": [],
   "source": [
    "eq1 = Eq(a + b - 2*first_moment,0)\n",
    "eq2 = Eq(b*b-2*a*b+a*a - 12*second_moment,0)"
   ]
  },
  {
   "cell_type": "code",
   "execution_count": null,
   "metadata": {
    "colab": {
     "base_uri": "https://localhost:8080/"
    },
    "id": "saK62HIg8NOy",
    "outputId": "74ce9aa6-6196-4cd1-b6d0-d5cd945cb0e2"
   },
   "outputs": [
    {
     "data": {
      "text/plain": [
       "[(2.24264185597830, 22.3773581440217), (22.3773581440217, 2.24264185597830)]"
      ]
     },
     "execution_count": 66,
     "metadata": {},
     "output_type": "execute_result"
    }
   ],
   "source": [
    "solve((eq1,eq2), (a, b))\n"
   ]
  },
  {
   "cell_type": "markdown",
   "metadata": {
    "id": "f2ocyXU7FiQ5"
   },
   "source": [
    "Отримані результати:\n",
    "a=2.243, b=22.377"
   ]
  },
  {
   "cell_type": "code",
   "execution_count": null,
   "metadata": {
    "id": "v5iOsxa2Fh3f"
   },
   "outputs": [],
   "source": []
  },
  {
   "cell_type": "code",
   "execution_count": null,
   "metadata": {
    "id": "JjS8uP7Svcj_"
   },
   "outputs": [],
   "source": []
  }
 ],
 "metadata": {
  "colab": {
   "collapsed_sections": [],
   "name": "Лабораторна 3 Фісун.ipynb",
   "provenance": []
  },
  "kernelspec": {
   "display_name": "Python 3",
   "language": "python",
   "name": "python3"
  },
  "language_info": {
   "codemirror_mode": {
    "name": "ipython",
    "version": 3
   },
   "file_extension": ".py",
   "mimetype": "text/x-python",
   "name": "python",
   "nbconvert_exporter": "python",
   "pygments_lexer": "ipython3",
   "version": "3.8.8"
  }
 },
 "nbformat": 4,
 "nbformat_minor": 1
}
