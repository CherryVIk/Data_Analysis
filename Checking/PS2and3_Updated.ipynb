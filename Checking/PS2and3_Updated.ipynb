{
  "nbformat": 4,
  "nbformat_minor": 0,
  "metadata": {
    "colab": {
      "name": "PS2and3_Updated.ipynb",
      "provenance": [],
      "collapsed_sections": []
    },
    "kernelspec": {
      "name": "python3",
      "display_name": "Python 3"
    },
    "language_info": {
      "name": "python"
    }
  },
  "cells": [
    {
      "cell_type": "code",
      "execution_count": 42,
      "metadata": {
        "id": "ThEMW5Gx3sS1"
      },
      "outputs": [],
      "source": [
        "import pandas as pd\n",
        "import numpy as np\n",
        "import math as math\n",
        "import matplotlib.pyplot as plt\n",
        "from scipy.stats import kurtosis, skew, sem\n",
        "import scipy.stats"
      ]
    },
    {
      "cell_type": "markdown",
      "source": [
        "Природа даних: було створено психологічний тест. Цей тест давали учням різних класів однієї школи. Були отримані результати: відсоток класу, що склав тест успішно."
      ],
      "metadata": {
        "id": "01LbWf9at-6k"
      }
    },
    {
      "cell_type": "code",
      "source": [
        "data = pd.read_excel(\"excel.xlsx\",header=None)"
      ],
      "metadata": {
        "id": "c_qH51ImG37l"
      },
      "execution_count": null,
      "outputs": []
    },
    {
      "cell_type": "code",
      "source": [
        "data"
      ],
      "metadata": {
        "colab": {
          "base_uri": "https://localhost:8080/",
          "height": 423
        },
        "id": "KlOwKdp3HGfF",
        "outputId": "4edb77bb-a804-42b2-8147-2fbc1b25c5b2"
      },
      "execution_count": null,
      "outputs": [
        {
          "output_type": "execute_result",
          "data": {
            "text/html": [
              "\n",
              "  <div id=\"df-98f6e115-4359-4489-a174-354d1cf765d1\">\n",
              "    <div class=\"colab-df-container\">\n",
              "      <div>\n",
              "<style scoped>\n",
              "    .dataframe tbody tr th:only-of-type {\n",
              "        vertical-align: middle;\n",
              "    }\n",
              "\n",
              "    .dataframe tbody tr th {\n",
              "        vertical-align: top;\n",
              "    }\n",
              "\n",
              "    .dataframe thead th {\n",
              "        text-align: right;\n",
              "    }\n",
              "</style>\n",
              "<table border=\"1\" class=\"dataframe\">\n",
              "  <thead>\n",
              "    <tr style=\"text-align: right;\">\n",
              "      <th></th>\n",
              "      <th>0</th>\n",
              "    </tr>\n",
              "  </thead>\n",
              "  <tbody>\n",
              "    <tr>\n",
              "      <th>0</th>\n",
              "      <td>0.675</td>\n",
              "    </tr>\n",
              "    <tr>\n",
              "      <th>1</th>\n",
              "      <td>0.386</td>\n",
              "    </tr>\n",
              "    <tr>\n",
              "      <th>2</th>\n",
              "      <td>0.513</td>\n",
              "    </tr>\n",
              "    <tr>\n",
              "      <th>3</th>\n",
              "      <td>0.214</td>\n",
              "    </tr>\n",
              "    <tr>\n",
              "      <th>4</th>\n",
              "      <td>0.671</td>\n",
              "    </tr>\n",
              "    <tr>\n",
              "      <th>...</th>\n",
              "      <td>...</td>\n",
              "    </tr>\n",
              "    <tr>\n",
              "      <th>105</th>\n",
              "      <td>0.873</td>\n",
              "    </tr>\n",
              "    <tr>\n",
              "      <th>106</th>\n",
              "      <td>0.318</td>\n",
              "    </tr>\n",
              "    <tr>\n",
              "      <th>107</th>\n",
              "      <td>0.499</td>\n",
              "    </tr>\n",
              "    <tr>\n",
              "      <th>108</th>\n",
              "      <td>0.474</td>\n",
              "    </tr>\n",
              "    <tr>\n",
              "      <th>109</th>\n",
              "      <td>0.592</td>\n",
              "    </tr>\n",
              "  </tbody>\n",
              "</table>\n",
              "<p>110 rows × 1 columns</p>\n",
              "</div>\n",
              "      <button class=\"colab-df-convert\" onclick=\"convertToInteractive('df-98f6e115-4359-4489-a174-354d1cf765d1')\"\n",
              "              title=\"Convert this dataframe to an interactive table.\"\n",
              "              style=\"display:none;\">\n",
              "        \n",
              "  <svg xmlns=\"http://www.w3.org/2000/svg\" height=\"24px\"viewBox=\"0 0 24 24\"\n",
              "       width=\"24px\">\n",
              "    <path d=\"M0 0h24v24H0V0z\" fill=\"none\"/>\n",
              "    <path d=\"M18.56 5.44l.94 2.06.94-2.06 2.06-.94-2.06-.94-.94-2.06-.94 2.06-2.06.94zm-11 1L8.5 8.5l.94-2.06 2.06-.94-2.06-.94L8.5 2.5l-.94 2.06-2.06.94zm10 10l.94 2.06.94-2.06 2.06-.94-2.06-.94-.94-2.06-.94 2.06-2.06.94z\"/><path d=\"M17.41 7.96l-1.37-1.37c-.4-.4-.92-.59-1.43-.59-.52 0-1.04.2-1.43.59L10.3 9.45l-7.72 7.72c-.78.78-.78 2.05 0 2.83L4 21.41c.39.39.9.59 1.41.59.51 0 1.02-.2 1.41-.59l7.78-7.78 2.81-2.81c.8-.78.8-2.07 0-2.86zM5.41 20L4 18.59l7.72-7.72 1.47 1.35L5.41 20z\"/>\n",
              "  </svg>\n",
              "      </button>\n",
              "      \n",
              "  <style>\n",
              "    .colab-df-container {\n",
              "      display:flex;\n",
              "      flex-wrap:wrap;\n",
              "      gap: 12px;\n",
              "    }\n",
              "\n",
              "    .colab-df-convert {\n",
              "      background-color: #E8F0FE;\n",
              "      border: none;\n",
              "      border-radius: 50%;\n",
              "      cursor: pointer;\n",
              "      display: none;\n",
              "      fill: #1967D2;\n",
              "      height: 32px;\n",
              "      padding: 0 0 0 0;\n",
              "      width: 32px;\n",
              "    }\n",
              "\n",
              "    .colab-df-convert:hover {\n",
              "      background-color: #E2EBFA;\n",
              "      box-shadow: 0px 1px 2px rgba(60, 64, 67, 0.3), 0px 1px 3px 1px rgba(60, 64, 67, 0.15);\n",
              "      fill: #174EA6;\n",
              "    }\n",
              "\n",
              "    [theme=dark] .colab-df-convert {\n",
              "      background-color: #3B4455;\n",
              "      fill: #D2E3FC;\n",
              "    }\n",
              "\n",
              "    [theme=dark] .colab-df-convert:hover {\n",
              "      background-color: #434B5C;\n",
              "      box-shadow: 0px 1px 3px 1px rgba(0, 0, 0, 0.15);\n",
              "      filter: drop-shadow(0px 1px 2px rgba(0, 0, 0, 0.3));\n",
              "      fill: #FFFFFF;\n",
              "    }\n",
              "  </style>\n",
              "\n",
              "      <script>\n",
              "        const buttonEl =\n",
              "          document.querySelector('#df-98f6e115-4359-4489-a174-354d1cf765d1 button.colab-df-convert');\n",
              "        buttonEl.style.display =\n",
              "          google.colab.kernel.accessAllowed ? 'block' : 'none';\n",
              "\n",
              "        async function convertToInteractive(key) {\n",
              "          const element = document.querySelector('#df-98f6e115-4359-4489-a174-354d1cf765d1');\n",
              "          const dataTable =\n",
              "            await google.colab.kernel.invokeFunction('convertToInteractive',\n",
              "                                                     [key], {});\n",
              "          if (!dataTable) return;\n",
              "\n",
              "          const docLinkHtml = 'Like what you see? Visit the ' +\n",
              "            '<a target=\"_blank\" href=https://colab.research.google.com/notebooks/data_table.ipynb>data table notebook</a>'\n",
              "            + ' to learn more about interactive tables.';\n",
              "          element.innerHTML = '';\n",
              "          dataTable['output_type'] = 'display_data';\n",
              "          await google.colab.output.renderOutput(dataTable, element);\n",
              "          const docLink = document.createElement('div');\n",
              "          docLink.innerHTML = docLinkHtml;\n",
              "          element.appendChild(docLink);\n",
              "        }\n",
              "      </script>\n",
              "    </div>\n",
              "  </div>\n",
              "  "
            ],
            "text/plain": [
              "         0\n",
              "0    0.675\n",
              "1    0.386\n",
              "2    0.513\n",
              "3    0.214\n",
              "4    0.671\n",
              "..     ...\n",
              "105  0.873\n",
              "106  0.318\n",
              "107  0.499\n",
              "108  0.474\n",
              "109  0.592\n",
              "\n",
              "[110 rows x 1 columns]"
            ]
          },
          "metadata": {},
          "execution_count": 8
        }
      ]
    },
    {
      "cell_type": "code",
      "source": [
        "data = [.675, .386, .513, .214, .671, .618, .627, .648, .445, .300, .460, \n",
        ".466, .779, .425, .322, .279, .584, .457, .305, .802, .433, .521, \n",
        ".529, .631, .594, .337, .228, .768, .302, .455, .555, .723, .444, \n",
        ".708, .681, .478, .798, .461, .435, .398, .833, .573, .522, .369, \n",
        ".631, .490, .319, .381, .366, .466, .654, .473, .536, .477, .364, \n",
        ".412, .834, .249, .537, .744, .368, .431, .635, .531, .430, .844, \n",
        ".884, .474, .593, .323, .652, .264, .450, .771, .673, .730, .461, \n",
        ".448, .594, .336, .252, .735, .389, .382, .778, .644, .714, .500,\n",
        ".450, .541, .469, .676, .359, .533, .315, .530, .839, .187, .287,\n",
        ".384, .530, .327, .335, .563, .630, .873, .318, .499, .474, .592]"
      ],
      "metadata": {
        "id": "I0KnCS2-34F6"
      },
      "execution_count": null,
      "outputs": []
    },
    {
      "cell_type": "markdown",
      "source": [
        "Сортуємо дані."
      ],
      "metadata": {
        "id": "jq34zOQFv5IP"
      }
    },
    {
      "cell_type": "code",
      "source": [
        "df = data.sort_values(by = 0, ignore_index=True, key=None)"
      ],
      "metadata": {
        "id": "I7smoC1F7AHm"
      },
      "execution_count": null,
      "outputs": []
    },
    {
      "cell_type": "code",
      "source": [
        "df"
      ],
      "metadata": {
        "colab": {
          "base_uri": "https://localhost:8080/",
          "height": 423
        },
        "id": "JNhXP5n27ikT",
        "outputId": "c8fd85b0-bc87-4047-e629-9f94f30ff42e"
      },
      "execution_count": null,
      "outputs": [
        {
          "output_type": "execute_result",
          "data": {
            "text/html": [
              "\n",
              "  <div id=\"df-274ef989-1485-44a8-9f34-94b1d1cfab4b\">\n",
              "    <div class=\"colab-df-container\">\n",
              "      <div>\n",
              "<style scoped>\n",
              "    .dataframe tbody tr th:only-of-type {\n",
              "        vertical-align: middle;\n",
              "    }\n",
              "\n",
              "    .dataframe tbody tr th {\n",
              "        vertical-align: top;\n",
              "    }\n",
              "\n",
              "    .dataframe thead th {\n",
              "        text-align: right;\n",
              "    }\n",
              "</style>\n",
              "<table border=\"1\" class=\"dataframe\">\n",
              "  <thead>\n",
              "    <tr style=\"text-align: right;\">\n",
              "      <th></th>\n",
              "      <th>0</th>\n",
              "    </tr>\n",
              "  </thead>\n",
              "  <tbody>\n",
              "    <tr>\n",
              "      <th>0</th>\n",
              "      <td>0.187</td>\n",
              "    </tr>\n",
              "    <tr>\n",
              "      <th>1</th>\n",
              "      <td>0.214</td>\n",
              "    </tr>\n",
              "    <tr>\n",
              "      <th>2</th>\n",
              "      <td>0.228</td>\n",
              "    </tr>\n",
              "    <tr>\n",
              "      <th>3</th>\n",
              "      <td>0.249</td>\n",
              "    </tr>\n",
              "    <tr>\n",
              "      <th>4</th>\n",
              "      <td>0.252</td>\n",
              "    </tr>\n",
              "    <tr>\n",
              "      <th>...</th>\n",
              "      <td>...</td>\n",
              "    </tr>\n",
              "    <tr>\n",
              "      <th>105</th>\n",
              "      <td>0.834</td>\n",
              "    </tr>\n",
              "    <tr>\n",
              "      <th>106</th>\n",
              "      <td>0.839</td>\n",
              "    </tr>\n",
              "    <tr>\n",
              "      <th>107</th>\n",
              "      <td>0.844</td>\n",
              "    </tr>\n",
              "    <tr>\n",
              "      <th>108</th>\n",
              "      <td>0.873</td>\n",
              "    </tr>\n",
              "    <tr>\n",
              "      <th>109</th>\n",
              "      <td>0.884</td>\n",
              "    </tr>\n",
              "  </tbody>\n",
              "</table>\n",
              "<p>110 rows × 1 columns</p>\n",
              "</div>\n",
              "      <button class=\"colab-df-convert\" onclick=\"convertToInteractive('df-274ef989-1485-44a8-9f34-94b1d1cfab4b')\"\n",
              "              title=\"Convert this dataframe to an interactive table.\"\n",
              "              style=\"display:none;\">\n",
              "        \n",
              "  <svg xmlns=\"http://www.w3.org/2000/svg\" height=\"24px\"viewBox=\"0 0 24 24\"\n",
              "       width=\"24px\">\n",
              "    <path d=\"M0 0h24v24H0V0z\" fill=\"none\"/>\n",
              "    <path d=\"M18.56 5.44l.94 2.06.94-2.06 2.06-.94-2.06-.94-.94-2.06-.94 2.06-2.06.94zm-11 1L8.5 8.5l.94-2.06 2.06-.94-2.06-.94L8.5 2.5l-.94 2.06-2.06.94zm10 10l.94 2.06.94-2.06 2.06-.94-2.06-.94-.94-2.06-.94 2.06-2.06.94z\"/><path d=\"M17.41 7.96l-1.37-1.37c-.4-.4-.92-.59-1.43-.59-.52 0-1.04.2-1.43.59L10.3 9.45l-7.72 7.72c-.78.78-.78 2.05 0 2.83L4 21.41c.39.39.9.59 1.41.59.51 0 1.02-.2 1.41-.59l7.78-7.78 2.81-2.81c.8-.78.8-2.07 0-2.86zM5.41 20L4 18.59l7.72-7.72 1.47 1.35L5.41 20z\"/>\n",
              "  </svg>\n",
              "      </button>\n",
              "      \n",
              "  <style>\n",
              "    .colab-df-container {\n",
              "      display:flex;\n",
              "      flex-wrap:wrap;\n",
              "      gap: 12px;\n",
              "    }\n",
              "\n",
              "    .colab-df-convert {\n",
              "      background-color: #E8F0FE;\n",
              "      border: none;\n",
              "      border-radius: 50%;\n",
              "      cursor: pointer;\n",
              "      display: none;\n",
              "      fill: #1967D2;\n",
              "      height: 32px;\n",
              "      padding: 0 0 0 0;\n",
              "      width: 32px;\n",
              "    }\n",
              "\n",
              "    .colab-df-convert:hover {\n",
              "      background-color: #E2EBFA;\n",
              "      box-shadow: 0px 1px 2px rgba(60, 64, 67, 0.3), 0px 1px 3px 1px rgba(60, 64, 67, 0.15);\n",
              "      fill: #174EA6;\n",
              "    }\n",
              "\n",
              "    [theme=dark] .colab-df-convert {\n",
              "      background-color: #3B4455;\n",
              "      fill: #D2E3FC;\n",
              "    }\n",
              "\n",
              "    [theme=dark] .colab-df-convert:hover {\n",
              "      background-color: #434B5C;\n",
              "      box-shadow: 0px 1px 3px 1px rgba(0, 0, 0, 0.15);\n",
              "      filter: drop-shadow(0px 1px 2px rgba(0, 0, 0, 0.3));\n",
              "      fill: #FFFFFF;\n",
              "    }\n",
              "  </style>\n",
              "\n",
              "      <script>\n",
              "        const buttonEl =\n",
              "          document.querySelector('#df-274ef989-1485-44a8-9f34-94b1d1cfab4b button.colab-df-convert');\n",
              "        buttonEl.style.display =\n",
              "          google.colab.kernel.accessAllowed ? 'block' : 'none';\n",
              "\n",
              "        async function convertToInteractive(key) {\n",
              "          const element = document.querySelector('#df-274ef989-1485-44a8-9f34-94b1d1cfab4b');\n",
              "          const dataTable =\n",
              "            await google.colab.kernel.invokeFunction('convertToInteractive',\n",
              "                                                     [key], {});\n",
              "          if (!dataTable) return;\n",
              "\n",
              "          const docLinkHtml = 'Like what you see? Visit the ' +\n",
              "            '<a target=\"_blank\" href=https://colab.research.google.com/notebooks/data_table.ipynb>data table notebook</a>'\n",
              "            + ' to learn more about interactive tables.';\n",
              "          element.innerHTML = '';\n",
              "          dataTable['output_type'] = 'display_data';\n",
              "          await google.colab.output.renderOutput(dataTable, element);\n",
              "          const docLink = document.createElement('div');\n",
              "          docLink.innerHTML = docLinkHtml;\n",
              "          element.appendChild(docLink);\n",
              "        }\n",
              "      </script>\n",
              "    </div>\n",
              "  </div>\n",
              "  "
            ],
            "text/plain": [
              "         0\n",
              "0    0.187\n",
              "1    0.214\n",
              "2    0.228\n",
              "3    0.249\n",
              "4    0.252\n",
              "..     ...\n",
              "105  0.834\n",
              "106  0.839\n",
              "107  0.844\n",
              "108  0.873\n",
              "109  0.884\n",
              "\n",
              "[110 rows x 1 columns]"
            ]
          },
          "metadata": {},
          "execution_count": 10
        }
      ]
    },
    {
      "cell_type": "markdown",
      "source": [
        "Перші 5 значень"
      ],
      "metadata": {
        "id": "XhEHDV-4uEsC"
      }
    },
    {
      "cell_type": "code",
      "source": [
        "df[:5]"
      ],
      "metadata": {
        "colab": {
          "base_uri": "https://localhost:8080/",
          "height": 206
        },
        "id": "imql_-efJZ8w",
        "outputId": "1431fea3-b43c-4808-b4ae-53aebacfa253"
      },
      "execution_count": null,
      "outputs": [
        {
          "output_type": "execute_result",
          "data": {
            "text/html": [
              "\n",
              "  <div id=\"df-d7c19e42-395c-4719-9bed-47ed4f2a0c96\">\n",
              "    <div class=\"colab-df-container\">\n",
              "      <div>\n",
              "<style scoped>\n",
              "    .dataframe tbody tr th:only-of-type {\n",
              "        vertical-align: middle;\n",
              "    }\n",
              "\n",
              "    .dataframe tbody tr th {\n",
              "        vertical-align: top;\n",
              "    }\n",
              "\n",
              "    .dataframe thead th {\n",
              "        text-align: right;\n",
              "    }\n",
              "</style>\n",
              "<table border=\"1\" class=\"dataframe\">\n",
              "  <thead>\n",
              "    <tr style=\"text-align: right;\">\n",
              "      <th></th>\n",
              "      <th>0</th>\n",
              "    </tr>\n",
              "  </thead>\n",
              "  <tbody>\n",
              "    <tr>\n",
              "      <th>0</th>\n",
              "      <td>0.187</td>\n",
              "    </tr>\n",
              "    <tr>\n",
              "      <th>1</th>\n",
              "      <td>0.214</td>\n",
              "    </tr>\n",
              "    <tr>\n",
              "      <th>2</th>\n",
              "      <td>0.228</td>\n",
              "    </tr>\n",
              "    <tr>\n",
              "      <th>3</th>\n",
              "      <td>0.249</td>\n",
              "    </tr>\n",
              "    <tr>\n",
              "      <th>4</th>\n",
              "      <td>0.252</td>\n",
              "    </tr>\n",
              "  </tbody>\n",
              "</table>\n",
              "</div>\n",
              "      <button class=\"colab-df-convert\" onclick=\"convertToInteractive('df-d7c19e42-395c-4719-9bed-47ed4f2a0c96')\"\n",
              "              title=\"Convert this dataframe to an interactive table.\"\n",
              "              style=\"display:none;\">\n",
              "        \n",
              "  <svg xmlns=\"http://www.w3.org/2000/svg\" height=\"24px\"viewBox=\"0 0 24 24\"\n",
              "       width=\"24px\">\n",
              "    <path d=\"M0 0h24v24H0V0z\" fill=\"none\"/>\n",
              "    <path d=\"M18.56 5.44l.94 2.06.94-2.06 2.06-.94-2.06-.94-.94-2.06-.94 2.06-2.06.94zm-11 1L8.5 8.5l.94-2.06 2.06-.94-2.06-.94L8.5 2.5l-.94 2.06-2.06.94zm10 10l.94 2.06.94-2.06 2.06-.94-2.06-.94-.94-2.06-.94 2.06-2.06.94z\"/><path d=\"M17.41 7.96l-1.37-1.37c-.4-.4-.92-.59-1.43-.59-.52 0-1.04.2-1.43.59L10.3 9.45l-7.72 7.72c-.78.78-.78 2.05 0 2.83L4 21.41c.39.39.9.59 1.41.59.51 0 1.02-.2 1.41-.59l7.78-7.78 2.81-2.81c.8-.78.8-2.07 0-2.86zM5.41 20L4 18.59l7.72-7.72 1.47 1.35L5.41 20z\"/>\n",
              "  </svg>\n",
              "      </button>\n",
              "      \n",
              "  <style>\n",
              "    .colab-df-container {\n",
              "      display:flex;\n",
              "      flex-wrap:wrap;\n",
              "      gap: 12px;\n",
              "    }\n",
              "\n",
              "    .colab-df-convert {\n",
              "      background-color: #E8F0FE;\n",
              "      border: none;\n",
              "      border-radius: 50%;\n",
              "      cursor: pointer;\n",
              "      display: none;\n",
              "      fill: #1967D2;\n",
              "      height: 32px;\n",
              "      padding: 0 0 0 0;\n",
              "      width: 32px;\n",
              "    }\n",
              "\n",
              "    .colab-df-convert:hover {\n",
              "      background-color: #E2EBFA;\n",
              "      box-shadow: 0px 1px 2px rgba(60, 64, 67, 0.3), 0px 1px 3px 1px rgba(60, 64, 67, 0.15);\n",
              "      fill: #174EA6;\n",
              "    }\n",
              "\n",
              "    [theme=dark] .colab-df-convert {\n",
              "      background-color: #3B4455;\n",
              "      fill: #D2E3FC;\n",
              "    }\n",
              "\n",
              "    [theme=dark] .colab-df-convert:hover {\n",
              "      background-color: #434B5C;\n",
              "      box-shadow: 0px 1px 3px 1px rgba(0, 0, 0, 0.15);\n",
              "      filter: drop-shadow(0px 1px 2px rgba(0, 0, 0, 0.3));\n",
              "      fill: #FFFFFF;\n",
              "    }\n",
              "  </style>\n",
              "\n",
              "      <script>\n",
              "        const buttonEl =\n",
              "          document.querySelector('#df-d7c19e42-395c-4719-9bed-47ed4f2a0c96 button.colab-df-convert');\n",
              "        buttonEl.style.display =\n",
              "          google.colab.kernel.accessAllowed ? 'block' : 'none';\n",
              "\n",
              "        async function convertToInteractive(key) {\n",
              "          const element = document.querySelector('#df-d7c19e42-395c-4719-9bed-47ed4f2a0c96');\n",
              "          const dataTable =\n",
              "            await google.colab.kernel.invokeFunction('convertToInteractive',\n",
              "                                                     [key], {});\n",
              "          if (!dataTable) return;\n",
              "\n",
              "          const docLinkHtml = 'Like what you see? Visit the ' +\n",
              "            '<a target=\"_blank\" href=https://colab.research.google.com/notebooks/data_table.ipynb>data table notebook</a>'\n",
              "            + ' to learn more about interactive tables.';\n",
              "          element.innerHTML = '';\n",
              "          dataTable['output_type'] = 'display_data';\n",
              "          await google.colab.output.renderOutput(dataTable, element);\n",
              "          const docLink = document.createElement('div');\n",
              "          docLink.innerHTML = docLinkHtml;\n",
              "          element.appendChild(docLink);\n",
              "        }\n",
              "      </script>\n",
              "    </div>\n",
              "  </div>\n",
              "  "
            ],
            "text/plain": [
              "       0\n",
              "0  0.187\n",
              "1  0.214\n",
              "2  0.228\n",
              "3  0.249\n",
              "4  0.252"
            ]
          },
          "metadata": {},
          "execution_count": 11
        }
      ]
    },
    {
      "cell_type": "markdown",
      "source": [
        "Останні 5 значень"
      ],
      "metadata": {
        "id": "o5Gac-UAuG2v"
      }
    },
    {
      "cell_type": "code",
      "source": [
        "df[-5:]"
      ],
      "metadata": {
        "colab": {
          "base_uri": "https://localhost:8080/",
          "height": 206
        },
        "id": "6qDhcJ-cJdIP",
        "outputId": "ae6b3bb0-4b86-4c95-81bf-2ffbf02a49c1"
      },
      "execution_count": null,
      "outputs": [
        {
          "output_type": "execute_result",
          "data": {
            "text/html": [
              "\n",
              "  <div id=\"df-088426d7-4d2d-4b25-a08f-c5e51fed2e47\">\n",
              "    <div class=\"colab-df-container\">\n",
              "      <div>\n",
              "<style scoped>\n",
              "    .dataframe tbody tr th:only-of-type {\n",
              "        vertical-align: middle;\n",
              "    }\n",
              "\n",
              "    .dataframe tbody tr th {\n",
              "        vertical-align: top;\n",
              "    }\n",
              "\n",
              "    .dataframe thead th {\n",
              "        text-align: right;\n",
              "    }\n",
              "</style>\n",
              "<table border=\"1\" class=\"dataframe\">\n",
              "  <thead>\n",
              "    <tr style=\"text-align: right;\">\n",
              "      <th></th>\n",
              "      <th>0</th>\n",
              "    </tr>\n",
              "  </thead>\n",
              "  <tbody>\n",
              "    <tr>\n",
              "      <th>105</th>\n",
              "      <td>0.834</td>\n",
              "    </tr>\n",
              "    <tr>\n",
              "      <th>106</th>\n",
              "      <td>0.839</td>\n",
              "    </tr>\n",
              "    <tr>\n",
              "      <th>107</th>\n",
              "      <td>0.844</td>\n",
              "    </tr>\n",
              "    <tr>\n",
              "      <th>108</th>\n",
              "      <td>0.873</td>\n",
              "    </tr>\n",
              "    <tr>\n",
              "      <th>109</th>\n",
              "      <td>0.884</td>\n",
              "    </tr>\n",
              "  </tbody>\n",
              "</table>\n",
              "</div>\n",
              "      <button class=\"colab-df-convert\" onclick=\"convertToInteractive('df-088426d7-4d2d-4b25-a08f-c5e51fed2e47')\"\n",
              "              title=\"Convert this dataframe to an interactive table.\"\n",
              "              style=\"display:none;\">\n",
              "        \n",
              "  <svg xmlns=\"http://www.w3.org/2000/svg\" height=\"24px\"viewBox=\"0 0 24 24\"\n",
              "       width=\"24px\">\n",
              "    <path d=\"M0 0h24v24H0V0z\" fill=\"none\"/>\n",
              "    <path d=\"M18.56 5.44l.94 2.06.94-2.06 2.06-.94-2.06-.94-.94-2.06-.94 2.06-2.06.94zm-11 1L8.5 8.5l.94-2.06 2.06-.94-2.06-.94L8.5 2.5l-.94 2.06-2.06.94zm10 10l.94 2.06.94-2.06 2.06-.94-2.06-.94-.94-2.06-.94 2.06-2.06.94z\"/><path d=\"M17.41 7.96l-1.37-1.37c-.4-.4-.92-.59-1.43-.59-.52 0-1.04.2-1.43.59L10.3 9.45l-7.72 7.72c-.78.78-.78 2.05 0 2.83L4 21.41c.39.39.9.59 1.41.59.51 0 1.02-.2 1.41-.59l7.78-7.78 2.81-2.81c.8-.78.8-2.07 0-2.86zM5.41 20L4 18.59l7.72-7.72 1.47 1.35L5.41 20z\"/>\n",
              "  </svg>\n",
              "      </button>\n",
              "      \n",
              "  <style>\n",
              "    .colab-df-container {\n",
              "      display:flex;\n",
              "      flex-wrap:wrap;\n",
              "      gap: 12px;\n",
              "    }\n",
              "\n",
              "    .colab-df-convert {\n",
              "      background-color: #E8F0FE;\n",
              "      border: none;\n",
              "      border-radius: 50%;\n",
              "      cursor: pointer;\n",
              "      display: none;\n",
              "      fill: #1967D2;\n",
              "      height: 32px;\n",
              "      padding: 0 0 0 0;\n",
              "      width: 32px;\n",
              "    }\n",
              "\n",
              "    .colab-df-convert:hover {\n",
              "      background-color: #E2EBFA;\n",
              "      box-shadow: 0px 1px 2px rgba(60, 64, 67, 0.3), 0px 1px 3px 1px rgba(60, 64, 67, 0.15);\n",
              "      fill: #174EA6;\n",
              "    }\n",
              "\n",
              "    [theme=dark] .colab-df-convert {\n",
              "      background-color: #3B4455;\n",
              "      fill: #D2E3FC;\n",
              "    }\n",
              "\n",
              "    [theme=dark] .colab-df-convert:hover {\n",
              "      background-color: #434B5C;\n",
              "      box-shadow: 0px 1px 3px 1px rgba(0, 0, 0, 0.15);\n",
              "      filter: drop-shadow(0px 1px 2px rgba(0, 0, 0, 0.3));\n",
              "      fill: #FFFFFF;\n",
              "    }\n",
              "  </style>\n",
              "\n",
              "      <script>\n",
              "        const buttonEl =\n",
              "          document.querySelector('#df-088426d7-4d2d-4b25-a08f-c5e51fed2e47 button.colab-df-convert');\n",
              "        buttonEl.style.display =\n",
              "          google.colab.kernel.accessAllowed ? 'block' : 'none';\n",
              "\n",
              "        async function convertToInteractive(key) {\n",
              "          const element = document.querySelector('#df-088426d7-4d2d-4b25-a08f-c5e51fed2e47');\n",
              "          const dataTable =\n",
              "            await google.colab.kernel.invokeFunction('convertToInteractive',\n",
              "                                                     [key], {});\n",
              "          if (!dataTable) return;\n",
              "\n",
              "          const docLinkHtml = 'Like what you see? Visit the ' +\n",
              "            '<a target=\"_blank\" href=https://colab.research.google.com/notebooks/data_table.ipynb>data table notebook</a>'\n",
              "            + ' to learn more about interactive tables.';\n",
              "          element.innerHTML = '';\n",
              "          dataTable['output_type'] = 'display_data';\n",
              "          await google.colab.output.renderOutput(dataTable, element);\n",
              "          const docLink = document.createElement('div');\n",
              "          docLink.innerHTML = docLinkHtml;\n",
              "          element.appendChild(docLink);\n",
              "        }\n",
              "      </script>\n",
              "    </div>\n",
              "  </div>\n",
              "  "
            ],
            "text/plain": [
              "         0\n",
              "105  0.834\n",
              "106  0.839\n",
              "107  0.844\n",
              "108  0.873\n",
              "109  0.884"
            ]
          },
          "metadata": {},
          "execution_count": 12
        }
      ]
    },
    {
      "cell_type": "code",
      "source": [
        "mean = df.mean()\n",
        "median = df.median()\n",
        "mode = df.mode()\n",
        "min = df.min()\n",
        "max = df.max()"
      ],
      "metadata": {
        "id": "zat-NLn7-GDr"
      },
      "execution_count": null,
      "outputs": []
    },
    {
      "cell_type": "markdown",
      "source": [
        "Середнє вибіркове дорівнює 0.515290909 (половина в середньому склала успішно)."
      ],
      "metadata": {
        "id": "41Q8wujsuTD2"
      }
    },
    {
      "cell_type": "code",
      "source": [
        "float(mean)"
      ],
      "metadata": {
        "colab": {
          "base_uri": "https://localhost:8080/"
        },
        "id": "qotI6_7T_9yt",
        "outputId": "d50ecf7e-257d-45fc-91e4-36c0366330da"
      },
      "execution_count": null,
      "outputs": [
        {
          "output_type": "execute_result",
          "data": {
            "text/plain": [
              "0.5152909090909091"
            ]
          },
          "metadata": {},
          "execution_count": 14
        }
      ]
    },
    {
      "cell_type": "markdown",
      "source": [
        "Медіана дорівнює 0.484 (половина вибірки вище цього значення, половина нижче)."
      ],
      "metadata": {
        "id": "jDaZX0KeuWCh"
      }
    },
    {
      "cell_type": "code",
      "source": [
        "float(median)"
      ],
      "metadata": {
        "colab": {
          "base_uri": "https://localhost:8080/"
        },
        "id": "D_D1kUTC__R_",
        "outputId": "f59099e1-92a3-4e95-9e0a-e88f663b2dae"
      },
      "execution_count": null,
      "outputs": [
        {
          "output_type": "execute_result",
          "data": {
            "text/plain": [
              "0.484"
            ]
          },
          "metadata": {},
          "execution_count": 15
        }
      ]
    },
    {
      "cell_type": "markdown",
      "source": [
        "Мода дорівнює 7 різним значеням, адже всі вони зустрічаються по максимальній кількості разів."
      ],
      "metadata": {
        "id": "GB5by5CiuspO"
      }
    },
    {
      "cell_type": "code",
      "source": [
        "mode"
      ],
      "metadata": {
        "colab": {
          "base_uri": "https://localhost:8080/",
          "height": 269
        },
        "id": "0w0F3_SSANBl",
        "outputId": "472dc88c-acda-4304-8526-45ed55f7f516"
      },
      "execution_count": null,
      "outputs": [
        {
          "output_type": "execute_result",
          "data": {
            "text/html": [
              "\n",
              "  <div id=\"df-3c8154ff-d175-49e5-8a6c-037c27f36537\">\n",
              "    <div class=\"colab-df-container\">\n",
              "      <div>\n",
              "<style scoped>\n",
              "    .dataframe tbody tr th:only-of-type {\n",
              "        vertical-align: middle;\n",
              "    }\n",
              "\n",
              "    .dataframe tbody tr th {\n",
              "        vertical-align: top;\n",
              "    }\n",
              "\n",
              "    .dataframe thead th {\n",
              "        text-align: right;\n",
              "    }\n",
              "</style>\n",
              "<table border=\"1\" class=\"dataframe\">\n",
              "  <thead>\n",
              "    <tr style=\"text-align: right;\">\n",
              "      <th></th>\n",
              "      <th>0</th>\n",
              "    </tr>\n",
              "  </thead>\n",
              "  <tbody>\n",
              "    <tr>\n",
              "      <th>0</th>\n",
              "      <td>0.450</td>\n",
              "    </tr>\n",
              "    <tr>\n",
              "      <th>1</th>\n",
              "      <td>0.461</td>\n",
              "    </tr>\n",
              "    <tr>\n",
              "      <th>2</th>\n",
              "      <td>0.466</td>\n",
              "    </tr>\n",
              "    <tr>\n",
              "      <th>3</th>\n",
              "      <td>0.474</td>\n",
              "    </tr>\n",
              "    <tr>\n",
              "      <th>4</th>\n",
              "      <td>0.530</td>\n",
              "    </tr>\n",
              "    <tr>\n",
              "      <th>5</th>\n",
              "      <td>0.594</td>\n",
              "    </tr>\n",
              "    <tr>\n",
              "      <th>6</th>\n",
              "      <td>0.631</td>\n",
              "    </tr>\n",
              "  </tbody>\n",
              "</table>\n",
              "</div>\n",
              "      <button class=\"colab-df-convert\" onclick=\"convertToInteractive('df-3c8154ff-d175-49e5-8a6c-037c27f36537')\"\n",
              "              title=\"Convert this dataframe to an interactive table.\"\n",
              "              style=\"display:none;\">\n",
              "        \n",
              "  <svg xmlns=\"http://www.w3.org/2000/svg\" height=\"24px\"viewBox=\"0 0 24 24\"\n",
              "       width=\"24px\">\n",
              "    <path d=\"M0 0h24v24H0V0z\" fill=\"none\"/>\n",
              "    <path d=\"M18.56 5.44l.94 2.06.94-2.06 2.06-.94-2.06-.94-.94-2.06-.94 2.06-2.06.94zm-11 1L8.5 8.5l.94-2.06 2.06-.94-2.06-.94L8.5 2.5l-.94 2.06-2.06.94zm10 10l.94 2.06.94-2.06 2.06-.94-2.06-.94-.94-2.06-.94 2.06-2.06.94z\"/><path d=\"M17.41 7.96l-1.37-1.37c-.4-.4-.92-.59-1.43-.59-.52 0-1.04.2-1.43.59L10.3 9.45l-7.72 7.72c-.78.78-.78 2.05 0 2.83L4 21.41c.39.39.9.59 1.41.59.51 0 1.02-.2 1.41-.59l7.78-7.78 2.81-2.81c.8-.78.8-2.07 0-2.86zM5.41 20L4 18.59l7.72-7.72 1.47 1.35L5.41 20z\"/>\n",
              "  </svg>\n",
              "      </button>\n",
              "      \n",
              "  <style>\n",
              "    .colab-df-container {\n",
              "      display:flex;\n",
              "      flex-wrap:wrap;\n",
              "      gap: 12px;\n",
              "    }\n",
              "\n",
              "    .colab-df-convert {\n",
              "      background-color: #E8F0FE;\n",
              "      border: none;\n",
              "      border-radius: 50%;\n",
              "      cursor: pointer;\n",
              "      display: none;\n",
              "      fill: #1967D2;\n",
              "      height: 32px;\n",
              "      padding: 0 0 0 0;\n",
              "      width: 32px;\n",
              "    }\n",
              "\n",
              "    .colab-df-convert:hover {\n",
              "      background-color: #E2EBFA;\n",
              "      box-shadow: 0px 1px 2px rgba(60, 64, 67, 0.3), 0px 1px 3px 1px rgba(60, 64, 67, 0.15);\n",
              "      fill: #174EA6;\n",
              "    }\n",
              "\n",
              "    [theme=dark] .colab-df-convert {\n",
              "      background-color: #3B4455;\n",
              "      fill: #D2E3FC;\n",
              "    }\n",
              "\n",
              "    [theme=dark] .colab-df-convert:hover {\n",
              "      background-color: #434B5C;\n",
              "      box-shadow: 0px 1px 3px 1px rgba(0, 0, 0, 0.15);\n",
              "      filter: drop-shadow(0px 1px 2px rgba(0, 0, 0, 0.3));\n",
              "      fill: #FFFFFF;\n",
              "    }\n",
              "  </style>\n",
              "\n",
              "      <script>\n",
              "        const buttonEl =\n",
              "          document.querySelector('#df-3c8154ff-d175-49e5-8a6c-037c27f36537 button.colab-df-convert');\n",
              "        buttonEl.style.display =\n",
              "          google.colab.kernel.accessAllowed ? 'block' : 'none';\n",
              "\n",
              "        async function convertToInteractive(key) {\n",
              "          const element = document.querySelector('#df-3c8154ff-d175-49e5-8a6c-037c27f36537');\n",
              "          const dataTable =\n",
              "            await google.colab.kernel.invokeFunction('convertToInteractive',\n",
              "                                                     [key], {});\n",
              "          if (!dataTable) return;\n",
              "\n",
              "          const docLinkHtml = 'Like what you see? Visit the ' +\n",
              "            '<a target=\"_blank\" href=https://colab.research.google.com/notebooks/data_table.ipynb>data table notebook</a>'\n",
              "            + ' to learn more about interactive tables.';\n",
              "          element.innerHTML = '';\n",
              "          dataTable['output_type'] = 'display_data';\n",
              "          await google.colab.output.renderOutput(dataTable, element);\n",
              "          const docLink = document.createElement('div');\n",
              "          docLink.innerHTML = docLinkHtml;\n",
              "          element.appendChild(docLink);\n",
              "        }\n",
              "      </script>\n",
              "    </div>\n",
              "  </div>\n",
              "  "
            ],
            "text/plain": [
              "       0\n",
              "0  0.450\n",
              "1  0.461\n",
              "2  0.466\n",
              "3  0.474\n",
              "4  0.530\n",
              "5  0.594\n",
              "6  0.631"
            ]
          },
          "metadata": {},
          "execution_count": 16
        }
      ]
    },
    {
      "cell_type": "markdown",
      "source": [
        "Мінімальне значення 0.187, максимальне 0.884."
      ],
      "metadata": {
        "id": "a36zPyWXuxxy"
      }
    },
    {
      "cell_type": "code",
      "source": [
        "float(min)"
      ],
      "metadata": {
        "colab": {
          "base_uri": "https://localhost:8080/"
        },
        "id": "_Lf7hDl-AtkC",
        "outputId": "62df39bc-c1d3-41c7-85a7-8f078892a2af"
      },
      "execution_count": null,
      "outputs": [
        {
          "output_type": "execute_result",
          "data": {
            "text/plain": [
              "0.187"
            ]
          },
          "metadata": {},
          "execution_count": 17
        }
      ]
    },
    {
      "cell_type": "code",
      "source": [
        "float(max)"
      ],
      "metadata": {
        "colab": {
          "base_uri": "https://localhost:8080/"
        },
        "id": "vyDm6tczA2A4",
        "outputId": "507d9f40-2abb-4fb0-d7a6-bb6c6038dcf2"
      },
      "execution_count": null,
      "outputs": [
        {
          "output_type": "execute_result",
          "data": {
            "text/plain": [
              "0.884"
            ]
          },
          "metadata": {},
          "execution_count": 18
        }
      ]
    },
    {
      "cell_type": "markdown",
      "source": [
        "Описова статистика"
      ],
      "metadata": {
        "id": "LQfsT-gtu2pB"
      }
    },
    {
      "cell_type": "code",
      "source": [
        "df.describe()"
      ],
      "metadata": {
        "colab": {
          "base_uri": "https://localhost:8080/",
          "height": 300
        },
        "id": "RAwm6BelCDBX",
        "outputId": "9c254c2b-239c-4122-bdbe-f15a907a6ae5"
      },
      "execution_count": null,
      "outputs": [
        {
          "output_type": "execute_result",
          "data": {
            "text/html": [
              "\n",
              "  <div id=\"df-39db3c64-d296-4f13-bd00-1a839396e766\">\n",
              "    <div class=\"colab-df-container\">\n",
              "      <div>\n",
              "<style scoped>\n",
              "    .dataframe tbody tr th:only-of-type {\n",
              "        vertical-align: middle;\n",
              "    }\n",
              "\n",
              "    .dataframe tbody tr th {\n",
              "        vertical-align: top;\n",
              "    }\n",
              "\n",
              "    .dataframe thead th {\n",
              "        text-align: right;\n",
              "    }\n",
              "</style>\n",
              "<table border=\"1\" class=\"dataframe\">\n",
              "  <thead>\n",
              "    <tr style=\"text-align: right;\">\n",
              "      <th></th>\n",
              "      <th>0</th>\n",
              "    </tr>\n",
              "  </thead>\n",
              "  <tbody>\n",
              "    <tr>\n",
              "      <th>count</th>\n",
              "      <td>110.000000</td>\n",
              "    </tr>\n",
              "    <tr>\n",
              "      <th>mean</th>\n",
              "      <td>0.515291</td>\n",
              "    </tr>\n",
              "    <tr>\n",
              "      <th>std</th>\n",
              "      <td>0.167499</td>\n",
              "    </tr>\n",
              "    <tr>\n",
              "      <th>min</th>\n",
              "      <td>0.187000</td>\n",
              "    </tr>\n",
              "    <tr>\n",
              "      <th>25%</th>\n",
              "      <td>0.384500</td>\n",
              "    </tr>\n",
              "    <tr>\n",
              "      <th>50%</th>\n",
              "      <td>0.484000</td>\n",
              "    </tr>\n",
              "    <tr>\n",
              "      <th>75%</th>\n",
              "      <td>0.634000</td>\n",
              "    </tr>\n",
              "    <tr>\n",
              "      <th>max</th>\n",
              "      <td>0.884000</td>\n",
              "    </tr>\n",
              "  </tbody>\n",
              "</table>\n",
              "</div>\n",
              "      <button class=\"colab-df-convert\" onclick=\"convertToInteractive('df-39db3c64-d296-4f13-bd00-1a839396e766')\"\n",
              "              title=\"Convert this dataframe to an interactive table.\"\n",
              "              style=\"display:none;\">\n",
              "        \n",
              "  <svg xmlns=\"http://www.w3.org/2000/svg\" height=\"24px\"viewBox=\"0 0 24 24\"\n",
              "       width=\"24px\">\n",
              "    <path d=\"M0 0h24v24H0V0z\" fill=\"none\"/>\n",
              "    <path d=\"M18.56 5.44l.94 2.06.94-2.06 2.06-.94-2.06-.94-.94-2.06-.94 2.06-2.06.94zm-11 1L8.5 8.5l.94-2.06 2.06-.94-2.06-.94L8.5 2.5l-.94 2.06-2.06.94zm10 10l.94 2.06.94-2.06 2.06-.94-2.06-.94-.94-2.06-.94 2.06-2.06.94z\"/><path d=\"M17.41 7.96l-1.37-1.37c-.4-.4-.92-.59-1.43-.59-.52 0-1.04.2-1.43.59L10.3 9.45l-7.72 7.72c-.78.78-.78 2.05 0 2.83L4 21.41c.39.39.9.59 1.41.59.51 0 1.02-.2 1.41-.59l7.78-7.78 2.81-2.81c.8-.78.8-2.07 0-2.86zM5.41 20L4 18.59l7.72-7.72 1.47 1.35L5.41 20z\"/>\n",
              "  </svg>\n",
              "      </button>\n",
              "      \n",
              "  <style>\n",
              "    .colab-df-container {\n",
              "      display:flex;\n",
              "      flex-wrap:wrap;\n",
              "      gap: 12px;\n",
              "    }\n",
              "\n",
              "    .colab-df-convert {\n",
              "      background-color: #E8F0FE;\n",
              "      border: none;\n",
              "      border-radius: 50%;\n",
              "      cursor: pointer;\n",
              "      display: none;\n",
              "      fill: #1967D2;\n",
              "      height: 32px;\n",
              "      padding: 0 0 0 0;\n",
              "      width: 32px;\n",
              "    }\n",
              "\n",
              "    .colab-df-convert:hover {\n",
              "      background-color: #E2EBFA;\n",
              "      box-shadow: 0px 1px 2px rgba(60, 64, 67, 0.3), 0px 1px 3px 1px rgba(60, 64, 67, 0.15);\n",
              "      fill: #174EA6;\n",
              "    }\n",
              "\n",
              "    [theme=dark] .colab-df-convert {\n",
              "      background-color: #3B4455;\n",
              "      fill: #D2E3FC;\n",
              "    }\n",
              "\n",
              "    [theme=dark] .colab-df-convert:hover {\n",
              "      background-color: #434B5C;\n",
              "      box-shadow: 0px 1px 3px 1px rgba(0, 0, 0, 0.15);\n",
              "      filter: drop-shadow(0px 1px 2px rgba(0, 0, 0, 0.3));\n",
              "      fill: #FFFFFF;\n",
              "    }\n",
              "  </style>\n",
              "\n",
              "      <script>\n",
              "        const buttonEl =\n",
              "          document.querySelector('#df-39db3c64-d296-4f13-bd00-1a839396e766 button.colab-df-convert');\n",
              "        buttonEl.style.display =\n",
              "          google.colab.kernel.accessAllowed ? 'block' : 'none';\n",
              "\n",
              "        async function convertToInteractive(key) {\n",
              "          const element = document.querySelector('#df-39db3c64-d296-4f13-bd00-1a839396e766');\n",
              "          const dataTable =\n",
              "            await google.colab.kernel.invokeFunction('convertToInteractive',\n",
              "                                                     [key], {});\n",
              "          if (!dataTable) return;\n",
              "\n",
              "          const docLinkHtml = 'Like what you see? Visit the ' +\n",
              "            '<a target=\"_blank\" href=https://colab.research.google.com/notebooks/data_table.ipynb>data table notebook</a>'\n",
              "            + ' to learn more about interactive tables.';\n",
              "          element.innerHTML = '';\n",
              "          dataTable['output_type'] = 'display_data';\n",
              "          await google.colab.output.renderOutput(dataTable, element);\n",
              "          const docLink = document.createElement('div');\n",
              "          docLink.innerHTML = docLinkHtml;\n",
              "          element.appendChild(docLink);\n",
              "        }\n",
              "      </script>\n",
              "    </div>\n",
              "  </div>\n",
              "  "
            ],
            "text/plain": [
              "                0\n",
              "count  110.000000\n",
              "mean     0.515291\n",
              "std      0.167499\n",
              "min      0.187000\n",
              "25%      0.384500\n",
              "50%      0.484000\n",
              "75%      0.634000\n",
              "max      0.884000"
            ]
          },
          "metadata": {},
          "execution_count": 19
        }
      ]
    },
    {
      "cell_type": "code",
      "source": [
        "kurtosis = kurtosis(df)\n",
        "skew = skew(df)\n",
        "\n",
        "delta=0.05\n",
        "sem = sem(df)"
      ],
      "metadata": {
        "id": "OjRy3kDkBMC4"
      },
      "execution_count": null,
      "outputs": []
    },
    {
      "cell_type": "markdown",
      "source": [
        "Коефіцієнт ексцесу дорівнює -0.69609978; оскільки він менше 3, то це сідчить про те, що графік розподілу не настыльки гострый як нормальний, і він є плосковершинним."
      ],
      "metadata": {
        "id": "9y17XvyotJQj"
      }
    },
    {
      "cell_type": "code",
      "source": [
        "kurtosis"
      ],
      "metadata": {
        "colab": {
          "base_uri": "https://localhost:8080/"
        },
        "id": "KQpiVbz-CPXQ",
        "outputId": "9deb37f6-9d02-4009-dac6-fbeec02c44fc"
      },
      "execution_count": null,
      "outputs": [
        {
          "output_type": "execute_result",
          "data": {
            "text/plain": [
              "array([-0.69609978])"
            ]
          },
          "metadata": {},
          "execution_count": 21
        }
      ]
    },
    {
      "cell_type": "markdown",
      "source": [
        "Коефіцієнт асиметрії дорівнює 0.29640508;  графік розподілу має довігий правий хвіст, медіана більше за моду."
      ],
      "metadata": {
        "id": "XSv0SvHMtSU_"
      }
    },
    {
      "cell_type": "code",
      "source": [
        "skew"
      ],
      "metadata": {
        "colab": {
          "base_uri": "https://localhost:8080/"
        },
        "id": "Wa6ax8YPCQqx",
        "outputId": "ca5d4d1c-4e05-4fe5-8fc8-97ff870c9a3b"
      },
      "execution_count": null,
      "outputs": [
        {
          "output_type": "execute_result",
          "data": {
            "text/plain": [
              "array([0.29640508])"
            ]
          },
          "metadata": {},
          "execution_count": 22
        }
      ]
    },
    {
      "cell_type": "markdown",
      "source": [
        "Середньоквадратичне відхилення."
      ],
      "metadata": {
        "id": "uonCJs03veWq"
      }
    },
    {
      "cell_type": "code",
      "source": [
        "sem"
      ],
      "metadata": {
        "colab": {
          "base_uri": "https://localhost:8080/"
        },
        "id": "tXH4D6ShCRax",
        "outputId": "c4c3feb9-0176-4d29-9609-f5549347bebf"
      },
      "execution_count": null,
      "outputs": [
        {
          "output_type": "execute_result",
          "data": {
            "text/plain": [
              "array([0.01597043])"
            ]
          },
          "metadata": {},
          "execution_count": 23
        }
      ]
    },
    {
      "cell_type": "markdown",
      "source": [
        "Дисперсія дорівнює 0.0002550547698839943. Оскільки вона досить мала, то відхилення від центра розподілу теж малі."
      ],
      "metadata": {
        "id": "i0s3-mJhwLFs"
      }
    },
    {
      "cell_type": "code",
      "source": [
        "d = sem[0] * sem[0]\n",
        "d"
      ],
      "metadata": {
        "colab": {
          "base_uri": "https://localhost:8080/"
        },
        "id": "nsauHDL3vjQz",
        "outputId": "c92396c0-f6da-4094-f5e2-2c9d13958c44"
      },
      "execution_count": null,
      "outputs": [
        {
          "output_type": "execute_result",
          "data": {
            "text/plain": [
              "0.0002550547698839943"
            ]
          },
          "metadata": {},
          "execution_count": 24
        }
      ]
    },
    {
      "cell_type": "markdown",
      "source": [
        "Розмір вибірки для оцінювання середнього"
      ],
      "metadata": {
        "id": "NxptiMydxTkW"
      }
    },
    {
      "cell_type": "code",
      "source": [
        "n = ((0.1 * math.sqrt(len(df)))/df.std() + df.std())**2/0.1"
      ],
      "metadata": {
        "id": "S9qrNMLbC5HC"
      },
      "execution_count": null,
      "outputs": []
    },
    {
      "cell_type": "code",
      "source": [
        "n"
      ],
      "metadata": {
        "colab": {
          "base_uri": "https://localhost:8080/"
        },
        "id": "JSyEPBNLC8fu",
        "outputId": "8398c066-29f4-4be0-e255-93480d954f57"
      },
      "execution_count": null,
      "outputs": [
        {
          "output_type": "execute_result",
          "data": {
            "text/plain": [
              "0    413.329389\n",
              "dtype: float64"
            ]
          },
          "metadata": {},
          "execution_count": 149
        }
      ]
    },
    {
      "cell_type": "markdown",
      "source": [
        "Гістограми для 3, 5 та 7 інтервалів."
      ],
      "metadata": {
        "id": "mK0V-oHww2eb"
      }
    },
    {
      "cell_type": "code",
      "source": [
        "df.hist(color = '#DC143C', bins=3)\n",
        "df.hist(color = '#FDDA0D', bins=5)\n",
        "df.hist(color = '#0000FF', bins=7)"
      ],
      "metadata": {
        "colab": {
          "base_uri": "https://localhost:8080/",
          "height": 844
        },
        "id": "SI7cMdOYCdLR",
        "outputId": "b815d1c8-544d-4c14-db9e-fa7f2b95de65"
      },
      "execution_count": null,
      "outputs": [
        {
          "output_type": "execute_result",
          "data": {
            "text/plain": [
              "array([[<matplotlib.axes._subplots.AxesSubplot object at 0x7f374f6b8ed0>]],\n",
              "      dtype=object)"
            ]
          },
          "metadata": {},
          "execution_count": 145
        },
        {
          "output_type": "display_data",
          "data": {
            "image/png": "[encoded data removed]",
            "text/plain": [
              "<Figure size 432x288 with 1 Axes>"
            ]
          },
          "metadata": {
            "needs_background": "light"
          }
        },
        {
          "output_type": "display_data",
          "data": {
            "image/png": "[encoded data removed]",
            "text/plain": [
              "<Figure size 432x288 with 1 Axes>"
            ]
          },
          "metadata": {
            "needs_background": "light"
          }
        },
        {
          "output_type": "display_data",
          "data": {
            "image/png": "[encoded data removed]",
            "text/plain": [
              "<Figure size 432x288 with 1 Axes>"
            ]
          },
          "metadata": {
            "needs_background": "light"
          }
        }
      ]
    },
    {
      "cell_type": "markdown",
      "source": [
        "Емпіричні ф-ії розподілу для 3, 5 та 7 інтервалів."
      ],
      "metadata": {
        "id": "cgAIMP7Bw5Pv"
      }
    },
    {
      "cell_type": "code",
      "source": [
        "df.hist(color = '#DC143C', bins=3, cumulative=True)\n",
        "df.hist(color = '#FDDA0D', bins=5, cumulative=True)\n",
        "df.hist(color = '#0000FF', bins=7, cumulative=True)"
      ],
      "metadata": {
        "colab": {
          "base_uri": "https://localhost:8080/",
          "height": 844
        },
        "id": "KT9nS940Cil4",
        "outputId": "e60b133a-7063-4665-d264-91794337dcc9"
      },
      "execution_count": null,
      "outputs": [
        {
          "output_type": "execute_result",
          "data": {
            "text/plain": [
              "array([[<matplotlib.axes._subplots.AxesSubplot object at 0x7f374f52ce10>]],\n",
              "      dtype=object)"
            ]
          },
          "metadata": {},
          "execution_count": 146
        },
        {
          "output_type": "display_data",
          "data": {
            "image/png": "[encoded data removed]",
            "text/plain": [
              "<Figure size 432x288 with 1 Axes>"
            ]
          },
          "metadata": {
            "needs_background": "light"
          }
        },
        {
          "output_type": "display_data",
          "data": {
            "image/png": "[encoded data removed]",
            "text/plain": [
              "<Figure size 432x288 with 1 Axes>"
            ]
          },
          "metadata": {
            "needs_background": "light"
          }
        },
        {
          "output_type": "display_data",
          "data": {
            "image/png": "[encoded data removed]",
            "text/plain": [
              "<Figure size 432x288 with 1 Axes>"
            ]
          },
          "metadata": {
            "needs_background": "light"
          }
        }
      ]
    },
    {
      "cell_type": "markdown",
      "source": [
        "Коробка з вусами\n",
        "![image.png](data:image/png;base64,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)"
      ],
      "metadata": {
        "id": "yzINvZptwnMU"
      }
    },
    {
      "cell_type": "code",
      "source": [
        "pd.DataFrame(df).boxplot()"
      ],
      "metadata": {
        "colab": {
          "base_uri": "https://localhost:8080/",
          "height": 282
        },
        "id": "bYYP1-3yCq-9",
        "outputId": "a54c7396-84c3-4d06-d69b-7f9a1a842ab1"
      },
      "execution_count": null,
      "outputs": [
        {
          "output_type": "execute_result",
          "data": {
            "text/plain": [
              "<matplotlib.axes._subplots.AxesSubplot at 0x7f374f4c75d0>"
            ]
          },
          "metadata": {},
          "execution_count": 147
        },
        {
          "output_type": "display_data",
          "data": {
            "image/png": "[encoded data removed]",
            "text/plain": [
              "<Figure size 432x288 with 1 Axes>"
            ]
          },
          "metadata": {
            "needs_background": "light"
          }
        }
      ]
    },
    {
      "cell_type": "markdown",
      "source": [
        "Природа даних: було створено психологічний тест. Цей тест давали учням різних класів однієї школи. Вихіздні дані - відсоток класу, що склав тест успішно. Середнє вибіркове дорівнює 0.515290909 (половина в середньому склала успішно). Мінімальне значення 0.187, максимальне 0.884. Медіана дорівнює 0.484 (половина вибірки вище цього значення, половина нижче). Мода дорівнює 7 різним значеням, адже всі вони зустрічаються по максимальній кількості разів. Дисперсія дорівнює 0.0002550547698839943. Оскільки вона досить мала, то відхилення від центра розподілу теж малі. Середньоквадратичне відхилення дорівнює 0.01597043. Коефіцієнт ексцесу дорівнює -0.69609978; оскільки він менше 3, то це сідчить про те, що графік розподілу не настыльки гострый як нормальний, і він є плосковершинним. Коефіцієнт асиметрії дорівнює 0.29640508;  графік розподілу має довігий правий хвіст, медіана більше за моду.\n"
      ],
      "metadata": {
        "id": "ZZRQ5o9yKgAo"
      }
    },
    {
      "cell_type": "markdown",
      "source": [
        "Лабораторна 3"
      ],
      "metadata": {
        "id": "YoAkvlTbbg3O"
      }
    },
    {
      "cell_type": "markdown",
      "source": [
        "1. За даною вибіркою (з інд. Завдання №1-2) побудувати гістограму і графік реалізації емпіричної функції розподілу."
      ],
      "metadata": {
        "id": "qgFlHoxsfEYt"
      }
    },
    {
      "cell_type": "code",
      "source": [
        "data = pd.read_excel(\"excel.xlsx\",header=None)"
      ],
      "metadata": {
        "id": "SgLvs4JweZD2"
      },
      "execution_count": 43,
      "outputs": []
    },
    {
      "cell_type": "code",
      "source": [
        "sorted = data.sort_values(by = 0, ignore_index=True, key=None)"
      ],
      "metadata": {
        "id": "K_Qvmynveuis"
      },
      "execution_count": 44,
      "outputs": []
    },
    {
      "cell_type": "code",
      "source": [
        "sorted"
      ],
      "metadata": {
        "colab": {
          "base_uri": "https://localhost:8080/",
          "height": 423
        },
        "id": "yKZN7lpWf3gJ",
        "outputId": "b40d136c-7f80-4e0c-f0f4-0fa65ddd4a02"
      },
      "execution_count": 45,
      "outputs": [
        {
          "output_type": "execute_result",
          "data": {
            "text/html": [
              "\n",
              "  <div id=\"df-a2bc2859-aee7-4d5d-9ae0-44acc91eb006\">\n",
              "    <div class=\"colab-df-container\">\n",
              "      <div>\n",
              "<style scoped>\n",
              "    .dataframe tbody tr th:only-of-type {\n",
              "        vertical-align: middle;\n",
              "    }\n",
              "\n",
              "    .dataframe tbody tr th {\n",
              "        vertical-align: top;\n",
              "    }\n",
              "\n",
              "    .dataframe thead th {\n",
              "        text-align: right;\n",
              "    }\n",
              "</style>\n",
              "<table border=\"1\" class=\"dataframe\">\n",
              "  <thead>\n",
              "    <tr style=\"text-align: right;\">\n",
              "      <th></th>\n",
              "      <th>0</th>\n",
              "    </tr>\n",
              "  </thead>\n",
              "  <tbody>\n",
              "    <tr>\n",
              "      <th>0</th>\n",
              "      <td>0.187</td>\n",
              "    </tr>\n",
              "    <tr>\n",
              "      <th>1</th>\n",
              "      <td>0.214</td>\n",
              "    </tr>\n",
              "    <tr>\n",
              "      <th>2</th>\n",
              "      <td>0.228</td>\n",
              "    </tr>\n",
              "    <tr>\n",
              "      <th>3</th>\n",
              "      <td>0.249</td>\n",
              "    </tr>\n",
              "    <tr>\n",
              "      <th>4</th>\n",
              "      <td>0.252</td>\n",
              "    </tr>\n",
              "    <tr>\n",
              "      <th>...</th>\n",
              "      <td>...</td>\n",
              "    </tr>\n",
              "    <tr>\n",
              "      <th>105</th>\n",
              "      <td>0.834</td>\n",
              "    </tr>\n",
              "    <tr>\n",
              "      <th>106</th>\n",
              "      <td>0.839</td>\n",
              "    </tr>\n",
              "    <tr>\n",
              "      <th>107</th>\n",
              "      <td>0.844</td>\n",
              "    </tr>\n",
              "    <tr>\n",
              "      <th>108</th>\n",
              "      <td>0.873</td>\n",
              "    </tr>\n",
              "    <tr>\n",
              "      <th>109</th>\n",
              "      <td>0.884</td>\n",
              "    </tr>\n",
              "  </tbody>\n",
              "</table>\n",
              "<p>110 rows × 1 columns</p>\n",
              "</div>\n",
              "      <button class=\"colab-df-convert\" onclick=\"convertToInteractive('df-a2bc2859-aee7-4d5d-9ae0-44acc91eb006')\"\n",
              "              title=\"Convert this dataframe to an interactive table.\"\n",
              "              style=\"display:none;\">\n",
              "        \n",
              "  <svg xmlns=\"http://www.w3.org/2000/svg\" height=\"24px\"viewBox=\"0 0 24 24\"\n",
              "       width=\"24px\">\n",
              "    <path d=\"M0 0h24v24H0V0z\" fill=\"none\"/>\n",
              "    <path d=\"M18.56 5.44l.94 2.06.94-2.06 2.06-.94-2.06-.94-.94-2.06-.94 2.06-2.06.94zm-11 1L8.5 8.5l.94-2.06 2.06-.94-2.06-.94L8.5 2.5l-.94 2.06-2.06.94zm10 10l.94 2.06.94-2.06 2.06-.94-2.06-.94-.94-2.06-.94 2.06-2.06.94z\"/><path d=\"M17.41 7.96l-1.37-1.37c-.4-.4-.92-.59-1.43-.59-.52 0-1.04.2-1.43.59L10.3 9.45l-7.72 7.72c-.78.78-.78 2.05 0 2.83L4 21.41c.39.39.9.59 1.41.59.51 0 1.02-.2 1.41-.59l7.78-7.78 2.81-2.81c.8-.78.8-2.07 0-2.86zM5.41 20L4 18.59l7.72-7.72 1.47 1.35L5.41 20z\"/>\n",
              "  </svg>\n",
              "      </button>\n",
              "      \n",
              "  <style>\n",
              "    .colab-df-container {\n",
              "      display:flex;\n",
              "      flex-wrap:wrap;\n",
              "      gap: 12px;\n",
              "    }\n",
              "\n",
              "    .colab-df-convert {\n",
              "      background-color: #E8F0FE;\n",
              "      border: none;\n",
              "      border-radius: 50%;\n",
              "      cursor: pointer;\n",
              "      display: none;\n",
              "      fill: #1967D2;\n",
              "      height: 32px;\n",
              "      padding: 0 0 0 0;\n",
              "      width: 32px;\n",
              "    }\n",
              "\n",
              "    .colab-df-convert:hover {\n",
              "      background-color: #E2EBFA;\n",
              "      box-shadow: 0px 1px 2px rgba(60, 64, 67, 0.3), 0px 1px 3px 1px rgba(60, 64, 67, 0.15);\n",
              "      fill: #174EA6;\n",
              "    }\n",
              "\n",
              "    [theme=dark] .colab-df-convert {\n",
              "      background-color: #3B4455;\n",
              "      fill: #D2E3FC;\n",
              "    }\n",
              "\n",
              "    [theme=dark] .colab-df-convert:hover {\n",
              "      background-color: #434B5C;\n",
              "      box-shadow: 0px 1px 3px 1px rgba(0, 0, 0, 0.15);\n",
              "      filter: drop-shadow(0px 1px 2px rgba(0, 0, 0, 0.3));\n",
              "      fill: #FFFFFF;\n",
              "    }\n",
              "  </style>\n",
              "\n",
              "      <script>\n",
              "        const buttonEl =\n",
              "          document.querySelector('#df-a2bc2859-aee7-4d5d-9ae0-44acc91eb006 button.colab-df-convert');\n",
              "        buttonEl.style.display =\n",
              "          google.colab.kernel.accessAllowed ? 'block' : 'none';\n",
              "\n",
              "        async function convertToInteractive(key) {\n",
              "          const element = document.querySelector('#df-a2bc2859-aee7-4d5d-9ae0-44acc91eb006');\n",
              "          const dataTable =\n",
              "            await google.colab.kernel.invokeFunction('convertToInteractive',\n",
              "                                                     [key], {});\n",
              "          if (!dataTable) return;\n",
              "\n",
              "          const docLinkHtml = 'Like what you see? Visit the ' +\n",
              "            '<a target=\"_blank\" href=https://colab.research.google.com/notebooks/data_table.ipynb>data table notebook</a>'\n",
              "            + ' to learn more about interactive tables.';\n",
              "          element.innerHTML = '';\n",
              "          dataTable['output_type'] = 'display_data';\n",
              "          await google.colab.output.renderOutput(dataTable, element);\n",
              "          const docLink = document.createElement('div');\n",
              "          docLink.innerHTML = docLinkHtml;\n",
              "          element.appendChild(docLink);\n",
              "        }\n",
              "      </script>\n",
              "    </div>\n",
              "  </div>\n",
              "  "
            ],
            "text/plain": [
              "         0\n",
              "0    0.187\n",
              "1    0.214\n",
              "2    0.228\n",
              "3    0.249\n",
              "4    0.252\n",
              "..     ...\n",
              "105  0.834\n",
              "106  0.839\n",
              "107  0.844\n",
              "108  0.873\n",
              "109  0.884\n",
              "\n",
              "[110 rows x 1 columns]"
            ]
          },
          "metadata": {},
          "execution_count": 45
        }
      ]
    },
    {
      "cell_type": "code",
      "source": [
        "plt.hist(sorted.values, color = '#DC143C', bins=7)"
      ],
      "metadata": {
        "colab": {
          "base_uri": "https://localhost:8080/",
          "height": 334
        },
        "id": "TyqzGIe0fkem",
        "outputId": "d1102ac2-8b99-4de8-9beb-e6f0dacf212c"
      },
      "execution_count": 86,
      "outputs": [
        {
          "output_type": "execute_result",
          "data": {
            "text/plain": [
              "(array([ 7., 22., 26., 18., 19., 10.,  8.]),\n",
              " array([0.187     , 0.28657143, 0.38614286, 0.48571429, 0.58528571,\n",
              "        0.68485714, 0.78442857, 0.884     ]),\n",
              " <a list of 7 Patch objects>)"
            ]
          },
          "metadata": {},
          "execution_count": 86
        },
        {
          "output_type": "display_data",
          "data": {
            "image/png": "[encoded data removed]",
            "text/plain": [
              "<Figure size 432x288 with 1 Axes>"
            ]
          },
          "metadata": {
            "needs_background": "light"
          }
        }
      ]
    },
    {
      "cell_type": "code",
      "source": [
        "plt.hist(sorted.values, color = '#FDDA0D', bins=7, density = True, cumulative=True)"
      ],
      "metadata": {
        "colab": {
          "base_uri": "https://localhost:8080/",
          "height": 352
        },
        "id": "6kewEUkDf1Bt",
        "outputId": "53092c1a-dcec-42b2-eab6-a46553e18e6b"
      },
      "execution_count": 85,
      "outputs": [
        {
          "output_type": "execute_result",
          "data": {
            "text/plain": [
              "(array([0.06363636, 0.26363636, 0.5       , 0.66363636, 0.83636364,\n",
              "        0.92727273, 1.        ]),\n",
              " array([0.187     , 0.28657143, 0.38614286, 0.48571429, 0.58528571,\n",
              "        0.68485714, 0.78442857, 0.884     ]),\n",
              " <a list of 7 Patch objects>)"
            ]
          },
          "metadata": {},
          "execution_count": 85
        },
        {
          "output_type": "display_data",
          "data": {
            "image/png": "[encoded data removed]",
            "text/plain": [
              "<Figure size 432x288 with 1 Axes>"
            ]
          },
          "metadata": {
            "needs_background": "light"
          }
        }
      ]
    },
    {
      "cell_type": "markdown",
      "source": [
        "а) Припустити, що вибірка розподілена за нормальним законом і знайти параметри нормального розподілу методом моментів."
      ],
      "metadata": {
        "id": "1_NqoImeb6ft"
      }
    },
    {
      "cell_type": "code",
      "source": [
        "mean = sorted.mean()\n",
        "sigma = sorted.std()"
      ],
      "metadata": {
        "id": "fAg-xYb3gz_N"
      },
      "execution_count": 48,
      "outputs": []
    },
    {
      "cell_type": "markdown",
      "source": [
        "mu = mean"
      ],
      "metadata": {
        "id": "0TXtIIdWhUs1"
      }
    },
    {
      "cell_type": "code",
      "source": [
        "mean"
      ],
      "metadata": {
        "colab": {
          "base_uri": "https://localhost:8080/"
        },
        "id": "HJtdpMZIhE8A",
        "outputId": "8d151e93-a8a1-476e-eaf9-fe7ff25ff3ba"
      },
      "execution_count": 49,
      "outputs": [
        {
          "output_type": "execute_result",
          "data": {
            "text/plain": [
              "0    0.515291\n",
              "dtype: float64"
            ]
          },
          "metadata": {},
          "execution_count": 49
        }
      ]
    },
    {
      "cell_type": "code",
      "source": [
        "sigma"
      ],
      "metadata": {
        "colab": {
          "base_uri": "https://localhost:8080/"
        },
        "id": "cTUzlFzVhF39",
        "outputId": "3cbea3b6-e9c6-497f-a1ae-c1a5ef27ebbb"
      },
      "execution_count": 50,
      "outputs": [
        {
          "output_type": "execute_result",
          "data": {
            "text/plain": [
              "0    0.167499\n",
              "dtype: float64"
            ]
          },
          "metadata": {},
          "execution_count": 50
        }
      ]
    },
    {
      "cell_type": "markdown",
      "source": [
        "б) Знайти  параматри нормального розподілу і побудувати криву нормального розподілу засобами Python."
      ],
      "metadata": {
        "id": "qLelBsiJcAck"
      }
    },
    {
      "cell_type": "code",
      "source": [
        "mu_python, sigma_python = scipy.stats.distributions.norm.fit(sorted)"
      ],
      "metadata": {
        "id": "DvaI8p32hi0F"
      },
      "execution_count": 80,
      "outputs": []
    },
    {
      "cell_type": "code",
      "source": [
        "mu_python"
      ],
      "metadata": {
        "colab": {
          "base_uri": "https://localhost:8080/"
        },
        "id": "OQYJij8Chrxm",
        "outputId": "d95dad76-4531-4aba-a27a-4da0d2824d29"
      },
      "execution_count": 81,
      "outputs": [
        {
          "output_type": "execute_result",
          "data": {
            "text/plain": [
              "0.5152909090909091"
            ]
          },
          "metadata": {},
          "execution_count": 81
        }
      ]
    },
    {
      "cell_type": "code",
      "source": [
        "sigma_python"
      ],
      "metadata": {
        "colab": {
          "base_uri": "https://localhost:8080/"
        },
        "id": "bfwpCzQHiEQg",
        "outputId": "84abf4f7-a1c2-44d0-a943-686febcb1457"
      },
      "execution_count": 82,
      "outputs": [
        {
          "output_type": "execute_result",
          "data": {
            "text/plain": [
              "0.16673622856882475"
            ]
          },
          "metadata": {},
          "execution_count": 82
        }
      ]
    },
    {
      "cell_type": "code",
      "source": [
        "lin = np.linspace(0,1,30)\n",
        "normal = scipy.stats.distributions.norm.pdf(lin, mu_python, sigma_python)\n",
        "plt.hist(sorted.values, density=True)\n",
        "plt.plot(lin,normal,'r')"
      ],
      "metadata": {
        "colab": {
          "base_uri": "https://localhost:8080/",
          "height": 282
        },
        "id": "bjoNP8hKiXqP",
        "outputId": "0e0b6545-c292-4d24-a0ab-0fba148c55ac"
      },
      "execution_count": 83,
      "outputs": [
        {
          "output_type": "execute_result",
          "data": {
            "text/plain": [
              "[<matplotlib.lines.Line2D at 0x7f8ad9721890>]"
            ]
          },
          "metadata": {},
          "execution_count": 83
        },
        {
          "output_type": "display_data",
          "data": {
            "image/png": "[encoded data removed]",
            "text/plain": [
              "<Figure size 432x288 with 1 Axes>"
            ]
          },
          "metadata": {
            "needs_background": "light"
          }
        }
      ]
    },
    {
      "cell_type": "markdown",
      "source": [
        "C) Припустити, що вибірка має якийсь інший розподіл (Коші, Стьюдента, або інш).  Засобами Python знайти параметри цього розподілу і побудувати криву цього розподілу."
      ],
      "metadata": {
        "id": "7iTxS4_ucDNV"
      }
    },
    {
      "cell_type": "code",
      "source": [
        "x, loc, scale = scipy.stats.distributions.t.fit(sorted.values)"
      ],
      "metadata": {
        "id": "fLz-u5Uej8Jb"
      },
      "execution_count": 73,
      "outputs": []
    },
    {
      "cell_type": "code",
      "source": [
        "x"
      ],
      "metadata": {
        "colab": {
          "base_uri": "https://localhost:8080/"
        },
        "id": "Epq7NOHfkEUt",
        "outputId": "863525a5-ea8d-4a1e-d27a-084b5be321f3"
      },
      "execution_count": 74,
      "outputs": [
        {
          "output_type": "execute_result",
          "data": {
            "text/plain": [
              "8737428.985809227"
            ]
          },
          "metadata": {},
          "execution_count": 74
        }
      ]
    },
    {
      "cell_type": "code",
      "source": [
        "loc"
      ],
      "metadata": {
        "colab": {
          "base_uri": "https://localhost:8080/"
        },
        "id": "Fow1MYwfkF3-",
        "outputId": "af79cdab-bf32-44ca-fa37-1c0bae092893"
      },
      "execution_count": 75,
      "outputs": [
        {
          "output_type": "execute_result",
          "data": {
            "text/plain": [
              "0.5152817631581761"
            ]
          },
          "metadata": {},
          "execution_count": 75
        }
      ]
    },
    {
      "cell_type": "code",
      "source": [
        "scale"
      ],
      "metadata": {
        "colab": {
          "base_uri": "https://localhost:8080/"
        },
        "id": "wRIDnj_TkHvt",
        "outputId": "b1bd5dae-57a4-4d0e-f0e8-8d630595888f"
      },
      "execution_count": 76,
      "outputs": [
        {
          "output_type": "execute_result",
          "data": {
            "text/plain": [
              "0.16673482535196554"
            ]
          },
          "metadata": {},
          "execution_count": 76
        }
      ]
    },
    {
      "cell_type": "code",
      "source": [
        "lin = np.linspace(0,1,30)\n",
        "t = scipy.stats.distributions.t.pdf(lin, x, loc, scale)\n",
        "plt.hist(sorted.values, density=True)\n",
        "plt.plot(lin,t,'r')"
      ],
      "metadata": {
        "colab": {
          "base_uri": "https://localhost:8080/",
          "height": 282
        },
        "id": "B6Tt2JRwkKRg",
        "outputId": "7f9c25a4-e8c8-4da1-8da4-9ec2281287c2"
      },
      "execution_count": 77,
      "outputs": [
        {
          "output_type": "execute_result",
          "data": {
            "text/plain": [
              "[<matplotlib.lines.Line2D at 0x7f8ad9779c50>]"
            ]
          },
          "metadata": {},
          "execution_count": 77
        },
        {
          "output_type": "display_data",
          "data": {
            "image/png": "[encoded data removed]",
            "text/plain": [
              "<Figure size 432x288 with 1 Axes>"
            ]
          },
          "metadata": {
            "needs_background": "light"
          }
        }
      ]
    },
    {
      "cell_type": "code",
      "source": [
        "loc, scale = scipy.stats.distributions.cauchy.fit(sorted.values)"
      ],
      "metadata": {
        "id": "c4zeDxBJj_Jb"
      },
      "execution_count": 68,
      "outputs": []
    },
    {
      "cell_type": "code",
      "source": [
        "loc"
      ],
      "metadata": {
        "colab": {
          "base_uri": "https://localhost:8080/"
        },
        "id": "tjm1uT1cmlo7",
        "outputId": "368b2d57-d5f3-4688-ff85-d6d6e7015c6b"
      },
      "execution_count": 69,
      "outputs": [
        {
          "output_type": "execute_result",
          "data": {
            "text/plain": [
              "0.4877156527720392"
            ]
          },
          "metadata": {},
          "execution_count": 69
        }
      ]
    },
    {
      "cell_type": "code",
      "source": [
        "scale"
      ],
      "metadata": {
        "colab": {
          "base_uri": "https://localhost:8080/"
        },
        "id": "FEuEs6kEmm7k",
        "outputId": "7e4b825e-4b77-4f28-ce04-a4aa6c7be8c6"
      },
      "execution_count": 70,
      "outputs": [
        {
          "output_type": "execute_result",
          "data": {
            "text/plain": [
              "0.10532997887099621"
            ]
          },
          "metadata": {},
          "execution_count": 70
        }
      ]
    },
    {
      "cell_type": "code",
      "source": [
        "lin = np.linspace(0,1,30)\n",
        "cauchy = scipy.stats.distributions.cauchy.pdf(lin, loc, scale)\n",
        "plt.hist(sorted.values, density=True)\n",
        "plt.plot(lin,cauchy,'r')"
      ],
      "metadata": {
        "colab": {
          "base_uri": "https://localhost:8080/",
          "height": 282
        },
        "id": "93nUUkC1mjVo",
        "outputId": "cc978a17-c53a-45ac-96d6-7114d18faf7b"
      },
      "execution_count": 71,
      "outputs": [
        {
          "output_type": "execute_result",
          "data": {
            "text/plain": [
              "[<matplotlib.lines.Line2D at 0x7f8ad999c810>]"
            ]
          },
          "metadata": {},
          "execution_count": 71
        },
        {
          "output_type": "display_data",
          "data": {
            "image/png": "[encoded data removed]",
            "text/plain": [
              "<Figure size 432x288 with 1 Axes>"
            ]
          },
          "metadata": {
            "needs_background": "light"
          }
        }
      ]
    }
  ]
}