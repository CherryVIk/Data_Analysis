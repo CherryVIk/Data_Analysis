{
 "cells": [
  {
   "cell_type": "markdown",
   "id": "480f637e",
   "metadata": {},
   "source": [
    "## 1. За даною вибіркою (з інд. Завдання №1-2) побудувати гістограму і графік реалізації емпіричної функції розподілу  $F^*_{n}(y)$"
   ]
  },
  {
   "cell_type": "markdown",
   "id": "b979f300",
   "metadata": {},
   "source": [
    "*Завантаження необхідних бібліотек*\n",
    "\n",
    "\n",
    "**pandas** - для роботи з даними з таблиці \n",
    "\n",
    "**numpy** - для математичних обчислень \n",
    "\n",
    "**seaborn** - для кращого вигляду графіків \n",
    "\n",
    "**matplotlib.pyplot** - для роботи з графіками "
   ]
  },
  {
   "cell_type": "code",
   "execution_count": 1,
   "id": "d4f6dcac",
   "metadata": {},
   "outputs": [],
   "source": [
    "#Завантаження необхідних бібліотек\n",
    "\n",
    "import pandas as pd\n",
    "import numpy as np\n",
    "import seaborn as sns\n",
    "sns.set() # для кращого вигляду графіків\n",
    "\n",
    "#завантажимо додаткові бібліотеки для гістограми і коробки з вусами\n",
    "import matplotlib.pyplot as plt\n",
    "\n",
    "import scipy.stats as st "
   ]
  },
  {
   "cell_type": "markdown",
   "id": "95588848",
   "metadata": {},
   "source": [
    "### Завантаження таблиці через Pandas\n",
    "\n",
    "Вибираємо дані варіанту №1 (usecols=\"A\"). Оскільки файл не містив заголовків, тому було обрано *header=None* та дано назву першій колонці *Var1*"
   ]
  },
  {
   "cell_type": "code",
   "execution_count": 2,
   "id": "07b6d32f",
   "metadata": {},
   "outputs": [],
   "source": [
    "# Завантаження таблиці-excel через Pandas, вибираючи дані варіанту №1\n",
    "df = pd.read_excel(\"Data1.xlsx\", header=None, usecols=\"A\", names=[\"Var1\"])\n",
    "data = df[\"Var1\"]"
   ]
  },
  {
   "cell_type": "code",
   "execution_count": 3,
   "id": "166a2e5c",
   "metadata": {},
   "outputs": [
    {
     "data": {
      "image/png": "[encoded data removed]",
      "text/plain": [
       "<Figure size 432x288 with 1 Axes>"
      ]
     },
     "metadata": {},
     "output_type": "display_data"
    }
   ],
   "source": [
    "# побудова гістограми\n",
    "plt.hist(data, density = True, fc=(0.3, 0.2,0.1,0.5))\n",
    "plt.show()"
   ]
  },
  {
   "cell_type": "code",
   "execution_count": 4,
   "id": "c443825e",
   "metadata": {},
   "outputs": [
    {
     "data": {
      "image/png": "[encoded data removed]",
      "text/plain": [
       "<Figure size 432x288 with 1 Axes>"
      ]
     },
     "metadata": {},
     "output_type": "display_data"
    }
   ],
   "source": [
    "# побудова емпіричної функції розподілу\n",
    "plt.hist(data,density = True, cumulative=True, fc=(0.3, 0.2,0.1,0.5))\n",
    "plt.show()"
   ]
  },
  {
   "cell_type": "markdown",
   "id": "9592f80d",
   "metadata": {},
   "source": [
    "### а) Припустити, що вибірка розподілена за нормальним законом і знайти параметри нормального розподілу методом моментів.\n"
   ]
  },
  {
   "cell_type": "markdown",
   "id": "3743e2f3",
   "metadata": {},
   "source": [
    "Шукаємо стільки моментів, скільки параметрів.\n",
    "\n",
    "Ми знаємо, що для нормального розподілу\n",
    "\n",
    "$E(X_i) = \\mu = \\frac{1}{N}\\sum_{i=1}^N{x_i} $\n",
    "\n",
    "$E(X_i^2) = \\sigma^2 + \\mu^2 = \\frac{1}{N}\\sum_{i=1}^N{x_i^2}$\n",
    "\n",
    "$\\sigma^2 = \\frac{1}{N}\\sum_{i=1}^N{x_i^2} - \\mu^2 $\n",
    "\n",
    "$\\sigma^2 = \\frac{1}{N}\\sum_{i=1}^N{x_i^2} - (\\bar{x})^2 $\n",
    "\n",
    "$\\sigma^2 = \\frac{1}{N}\\sum_{i=1}^N{(x_i-\\bar{x})^2} $\n",
    "\n",
    "Тож далі ми прирівнюємо обраховані значення до цих теоретичних"
   ]
  },
  {
   "cell_type": "code",
   "execution_count": 17,
   "id": "3733ad1d",
   "metadata": {},
   "outputs": [
    {
     "name": "stdout",
     "output_type": "stream",
     "text": [
      "0.42301818181818196 0.21388209090909097\n",
      "mu = mean = 0.42301818181818196\n",
      "stdMM= 0.1869163148586302   std_function= 0.1877717715699001\n"
     ]
    }
   ],
   "source": [
    "# Шукаємо стільки моментів, скільки параметрів\n",
    "\n",
    "mu_2 = lambda values: (sum([v**2 for v in values])  / len(values))\n",
    "\n",
    "# mu = mean\n",
    "data_mu = data.mean()\n",
    "data_mu_2 = mu_2(data)\n",
    "\n",
    "print(data_mu, data_mu_2)\n",
    "\n",
    "sigma2 = lambda values, mean: (sum([(v-mean)**2 for v in values])  / len(values))\n",
    "sigma_sq = sigma2(data, data_mu)\n",
    "\n",
    "print(f'mu = mean = {data_mu}')\n",
    "print(f'stdMM= {np.sqrt(sigma_sq)}   std_function= {data.std()}')"
   ]
  },
  {
   "cell_type": "markdown",
   "id": "f23e3b4d",
   "metadata": {},
   "source": [
    "### б) Знайти  параматри нормального розподілу і побудувати криву нормального розподілу засобами Python. \n"
   ]
  },
  {
   "cell_type": "code",
   "execution_count": 18,
   "id": "12b87df7",
   "metadata": {},
   "outputs": [],
   "source": [
    "# обчислюємо параметри для нормального розподілу, припустивши що вибірка розподілена за нормальним законом\n",
    "# a = mean\n",
    "# sigma = standard deviation\n",
    "a, sigma = st.distributions.norm.fit(data)"
   ]
  },
  {
   "cell_type": "code",
   "execution_count": 19,
   "id": "5ac5a93d",
   "metadata": {},
   "outputs": [
    {
     "data": {
      "text/plain": [
       "(0.42301818181818185, 0.1869163148586302)"
      ]
     },
     "execution_count": 19,
     "metadata": {},
     "output_type": "execute_result"
    }
   ],
   "source": [
    "a, sigma"
   ]
  },
  {
   "cell_type": "markdown",
   "id": "b359e2d6",
   "metadata": {},
   "source": [
    "Порівнюючи знайдені параметри методом моментів та за допомогою функцій Python переконуємося в достовірності значень"
   ]
  },
  {
   "cell_type": "code",
   "execution_count": 20,
   "id": "20e07441",
   "metadata": {},
   "outputs": [],
   "source": [
    "# задаємо лінійний простір на проміжку значень вхідних даних [-0.5,1.5]\n",
    "# 150 - кількість заданих точок\n",
    "ix = np.linspace(-0.5,1.5,100)"
   ]
  },
  {
   "cell_type": "code",
   "execution_count": 21,
   "id": "68503e48",
   "metadata": {},
   "outputs": [],
   "source": [
    "# Отримуємо функцію щільності нормального розподілу при заданих середньому та середньоквадратичному\n",
    "n_fitted_data = st.distributions.norm.pdf(ix, a, sigma)"
   ]
  },
  {
   "cell_type": "code",
   "execution_count": 22,
   "id": "9f2e1825",
   "metadata": {},
   "outputs": [
    {
     "data": {
      "image/png": "[encoded data removed]",
      "text/plain": [
       "<Figure size 432x288 with 1 Axes>"
      ]
     },
     "metadata": {},
     "output_type": "display_data"
    }
   ],
   "source": [
    "plt.plot(ix,n_fitted_data,'r-')\n",
    "plt.show()"
   ]
  },
  {
   "cell_type": "code",
   "execution_count": 23,
   "id": "e4d60dc4",
   "metadata": {},
   "outputs": [
    {
     "data": {
      "image/png": "[encoded data removed]",
      "text/plain": [
       "<Figure size 432x288 with 1 Axes>"
      ]
     },
     "metadata": {},
     "output_type": "display_data"
    }
   ],
   "source": [
    "# Малюємо два графіки разом\n",
    "plt.hist(data, density = True, cumulative = False, fc=(0.3, 0.2,0.1,0.5))\n",
    "plt.plot(ix,n_fitted_data,'r-')\n",
    "plt.show()"
   ]
  },
  {
   "cell_type": "markdown",
   "id": "9eef0b51",
   "metadata": {},
   "source": [
    "### в) Припустити, що вибірка має якийсь інший розподіл (Коші, Стьюдента, або інш).  Засобами Python знайти параметри цього розподілу і побудувати криву цього розподілу."
   ]
  },
  {
   "cell_type": "code",
   "execution_count": 24,
   "id": "b0579cbb",
   "metadata": {},
   "outputs": [],
   "source": [
    "# визначаємо значення на ОХ [-0.25,1.25].\n",
    "Ox = np.linspace(-0.25,1.25,10)\n",
    "ix = np.linspace(-0.25,1.25,20)"
   ]
  },
  {
   "cell_type": "code",
   "execution_count": 25,
   "id": "00b503de",
   "metadata": {},
   "outputs": [
    {
     "data": {
      "text/plain": [
       "(10418139.123878762, 0.42302180266736555, 0.18691657724918748)"
      ]
     },
     "execution_count": 25,
     "metadata": {},
     "output_type": "execute_result"
    }
   ],
   "source": [
    "# обчислюємо параметри для Стьюдент розподілу\n",
    "# loc = зсув\n",
    "# scale = масштаб\n",
    "# y = (x - loc) / scale\n",
    "x, loc, scale = st.distributions.t.fit(data)\n",
    "x, loc, scale "
   ]
  },
  {
   "cell_type": "code",
   "execution_count": 26,
   "id": "daa23fa0",
   "metadata": {},
   "outputs": [],
   "source": [
    "# обчислюємо значення теоеретичної функції Student та \n",
    "# нормального розподілів для підібраних параметрів\n",
    "# Ox для розподілу Стьюдента, оскільки на значеннях >18 він стає як нормальний\n",
    "t_fitted_data = st.distributions.t.pdf(Ox, x, loc, scale)\n",
    "n_fitted_data = st.distributions.norm.pdf(ix, a, sigma)\n"
   ]
  },
  {
   "cell_type": "code",
   "execution_count": 27,
   "id": "00cd2532",
   "metadata": {},
   "outputs": [
    {
     "data": {
      "text/plain": [
       "(0.081, 0.34201818181818183)"
      ]
     },
     "execution_count": 27,
     "metadata": {},
     "output_type": "execute_result"
    }
   ],
   "source": [
    "# обчислюємо параметри для еспоненційного розподілу та \n",
    "# значення теоеретичної функції розподілу для підібраних параметрів\n",
    "loc_e, scale_e = st.distributions.expon.fit(data)\n",
    "e_fitted_data = st.distributions.expon.pdf(ix, loc_e, scale_e)\n",
    "loc_e, scale_e"
   ]
  },
  {
   "cell_type": "code",
   "execution_count": 28,
   "id": "e413f367",
   "metadata": {},
   "outputs": [
    {
     "data": {
      "text/plain": [
       "(8.732580111002978, -0.1446725057532664, 0.06499034058266745)"
      ]
     },
     "execution_count": 28,
     "metadata": {},
     "output_type": "execute_result"
    }
   ],
   "source": [
    "# обчислюємо параметри для Гамма розподілу та \n",
    "# значення теоеретичної функції розподілу для підібраних параметрів\n",
    "alpha_g, loc_g, beta_g = st.distributions.gamma.fit(data)\n",
    "g_fitted_data = st.distributions.gamma.pdf(ix, alpha_g, loc_g, beta_g)\n",
    "alpha_g, loc_g, beta_g"
   ]
  },
  {
   "cell_type": "code",
   "execution_count": 29,
   "id": "2385a9c2",
   "metadata": {},
   "outputs": [
    {
     "data": {
      "text/plain": [
       "(0.4018876802883461, 0.13346856792717432)"
      ]
     },
     "execution_count": 29,
     "metadata": {},
     "output_type": "execute_result"
    }
   ],
   "source": [
    "# обчислюємо параметри для розподілу Коші та \n",
    "# значення теоеретичної функції розподілу для підібраних параметрів\n",
    "loc_c, scale_c = st.distributions.cauchy.fit(data)\n",
    "c_fitted_data = st.distributions.cauchy.pdf(ix, loc_c, scale_c)\n",
    "loc_c, scale_c"
   ]
  },
  {
   "cell_type": "code",
   "execution_count": 30,
   "id": "c2f6cafb",
   "metadata": {
    "scrolled": true
   },
   "outputs": [
    {
     "data": {
      "image/png": "[encoded data removed]",
      "text/plain": [
       "<Figure size 432x288 with 1 Axes>"
      ]
     },
     "metadata": {},
     "output_type": "display_data"
    }
   ],
   "source": [
    "# будуємо на одному графіку гістограму і щільність теоретичних розподілів\n",
    "plt.hist(data, density = True, cumulative = False, fc=(0.3, 0.2,0.1,0.5))\n",
    "plt.plot(Ox,t_fitted_data,'g-')\n",
    "plt.plot(ix,n_fitted_data,'r-')\n",
    "plt.plot(ix,e_fitted_data,'b-')\n",
    "plt.plot(ix,g_fitted_data,'y-')\n",
    "plt.plot(ix,c_fitted_data,'m-')\n",
    "plt.show()"
   ]
  },
  {
   "cell_type": "markdown",
   "id": "8088c818",
   "metadata": {},
   "source": [
    "- За візуальним спостереженням найближче відображає дані частот щільність Гамма-розподілу, що виділений жовтим кольором. \n",
    "- Хоча Коші розподіл дає найближче значення до найбільшої частоти, але не більшість значень стовпчиків гістограми. \n",
    "- Не дуже коректно себе поводить експоненційний розподіл"
   ]
  },
  {
   "cell_type": "code",
   "execution_count": 31,
   "id": "00fc96a0",
   "metadata": {},
   "outputs": [
    {
     "data": {
      "image/png": "[encoded data removed]",
      "text/plain": [
       "<Figure size 432x288 with 1 Axes>"
      ]
     },
     "metadata": {},
     "output_type": "display_data"
    }
   ],
   "source": [
    "# Генерування розподілу за даної гістограми методами python\n",
    "hist = np.histogram(data, bins=20)\n",
    "hist_dist = st.rv_histogram(hist)\n",
    "\n",
    "X = np.linspace(-0.5, 1.5, 20)\n",
    "plt.title(\"Python-method distribution\")\n",
    "plt.hist(data, density=True, bins=10)\n",
    "plt.plot(X, hist_dist.pdf(X), label='PDF')\n",
    "# plt.plot(X, hist_dist.cdf(X), label='CDF')\n",
    "plt.show()"
   ]
  },
  {
   "cell_type": "markdown",
   "id": "94170255",
   "metadata": {},
   "source": [
    "## 2. Знайти оцінку максимальної правдоподібності двовимірного параметра (a,b) для рівномірного розподілу на відрізку [a,b] . Див. Табл."
   ]
  },
  {
   "cell_type": "markdown",
   "id": "6a5809e8",
   "metadata": {},
   "source": [
    "Функція правдоподібності -- добуток n-ї кількості функції щільності для кожного значення з вибірки (від вибірки розміру n, що має незалежно розподілені величини)\n",
    "\n",
    "Далі беремо похідну від функції правдоподібності.\n",
    "\n",
    "Прирівнюємо знайдене до нуля, щоб знайти де функція набуває найбільше значення (похідна змінює знак з \"-\" на \"+\")."
   ]
  },
  {
   "cell_type": "markdown",
   "id": "ecd7f8c9",
   "metadata": {},
   "source": [
    "Функція щільності для рівномірного розподілу $f(x) = \\frac{1}{(b-a)}\\quad \\text{для}\\; a\\leq x \\leq b $.\n",
    "\n",
    "Беремо n точок з цього проміжку та виходить, що функція правдоподібності буде:\n",
    "\n",
    "$Z(a,b) = (\\frac{1}{(b-a)}) ^n$\n",
    "\n",
    "$\\log{Z} = -n\\log{(b-a)} $\n",
    "\n",
    "\n",
    "\n",
    "Оцінка максимізує функцію правдоподібності:\n",
    "\n",
    "$\\frac{\\partial \\log{Z}}{\\partial\\theta_k} = 0 \\quad \\rightarrow$\n",
    "\n",
    "\n",
    "$\\frac {\\partial\\log{Z}}{\\partial a} = \\frac{n}{(b-a)} \\; - \\;$ похідна монотонно зростає. Тому оцінкою максимальної правдоподібності буде найбільш можливе а: $\\min{x_1, \\ldots, x_n}$\n",
    "\n",
    "$\\frac {\\partial\\log{Z}}{\\partial b} = -\\frac{n}{(b-a)} \\; - \\;$ похідна монотонно спадає. Тому оцінкою максимальної правдоподібності буде найменш можливе b: $\\max{x_1, \\ldots, x_n}$\n",
    "\n"
   ]
  },
  {
   "cell_type": "markdown",
   "id": "01387946",
   "metadata": {},
   "source": [
    "\t3\t 5\t 7\t 9\t 11\t13\t15\t17\t19\t21\n",
    "    21\t16\t15\t26\t22\t14\t21\t22\t18\t25\n",
    "\n"
   ]
  },
  {
   "cell_type": "code",
   "execution_count": 32,
   "id": "74c24d15",
   "metadata": {},
   "outputs": [
    {
     "data": {
      "text/html": [
       "<div>\n",
       "<style scoped>\n",
       "    .dataframe tbody tr th:only-of-type {\n",
       "        vertical-align: middle;\n",
       "    }\n",
       "\n",
       "    .dataframe tbody tr th {\n",
       "        vertical-align: top;\n",
       "    }\n",
       "\n",
       "    .dataframe thead th {\n",
       "        text-align: right;\n",
       "    }\n",
       "</style>\n",
       "<table border=\"1\" class=\"dataframe\">\n",
       "  <thead>\n",
       "    <tr style=\"text-align: right;\">\n",
       "      <th></th>\n",
       "      <th>x_i</th>\n",
       "      <th>n_i</th>\n",
       "    </tr>\n",
       "  </thead>\n",
       "  <tbody>\n",
       "    <tr>\n",
       "      <th>0</th>\n",
       "      <td>3</td>\n",
       "      <td>21</td>\n",
       "    </tr>\n",
       "    <tr>\n",
       "      <th>1</th>\n",
       "      <td>5</td>\n",
       "      <td>16</td>\n",
       "    </tr>\n",
       "    <tr>\n",
       "      <th>2</th>\n",
       "      <td>7</td>\n",
       "      <td>15</td>\n",
       "    </tr>\n",
       "    <tr>\n",
       "      <th>3</th>\n",
       "      <td>9</td>\n",
       "      <td>26</td>\n",
       "    </tr>\n",
       "    <tr>\n",
       "      <th>4</th>\n",
       "      <td>11</td>\n",
       "      <td>22</td>\n",
       "    </tr>\n",
       "    <tr>\n",
       "      <th>5</th>\n",
       "      <td>13</td>\n",
       "      <td>14</td>\n",
       "    </tr>\n",
       "    <tr>\n",
       "      <th>6</th>\n",
       "      <td>15</td>\n",
       "      <td>21</td>\n",
       "    </tr>\n",
       "    <tr>\n",
       "      <th>7</th>\n",
       "      <td>17</td>\n",
       "      <td>22</td>\n",
       "    </tr>\n",
       "    <tr>\n",
       "      <th>8</th>\n",
       "      <td>19</td>\n",
       "      <td>18</td>\n",
       "    </tr>\n",
       "    <tr>\n",
       "      <th>9</th>\n",
       "      <td>21</td>\n",
       "      <td>25</td>\n",
       "    </tr>\n",
       "  </tbody>\n",
       "</table>\n",
       "</div>"
      ],
      "text/plain": [
       "   x_i  n_i\n",
       "0    3   21\n",
       "1    5   16\n",
       "2    7   15\n",
       "3    9   26\n",
       "4   11   22\n",
       "5   13   14\n",
       "6   15   21\n",
       "7   17   22\n",
       "8   19   18\n",
       "9   21   25"
      ]
     },
     "execution_count": 32,
     "metadata": {},
     "output_type": "execute_result"
    }
   ],
   "source": [
    "df = pd.DataFrame({\"x_i\": [3, 5, 7, 9, 11, 13, 15, 17, 19, 21],\n",
    "                 \"n_i\": [21, 16, 15, 26, 22, 14, 21, 22, 18, 25]\n",
    "                  })\n",
    "df"
   ]
  },
  {
   "cell_type": "markdown",
   "id": "5c88f90d",
   "metadata": {},
   "source": [
    "Тоді за таблицею \n",
    "\n",
    "$a = \\min{x_1, \\ldots, x_n} = 3$\n",
    "\n",
    "$b = \\max{x_1, \\ldots, x_n} = 21$"
   ]
  },
  {
   "cell_type": "code",
   "execution_count": 33,
   "id": "43ad7f7f",
   "metadata": {},
   "outputs": [
    {
     "data": {
      "text/plain": [
       "(3, 21)"
      ]
     },
     "execution_count": 33,
     "metadata": {},
     "output_type": "execute_result"
    }
   ],
   "source": [
    "a = min(df.x_i)\n",
    "b = max(df.x_i)\n",
    "a,b"
   ]
  },
  {
   "cell_type": "markdown",
   "id": "3063bd04",
   "metadata": {},
   "source": [
    "## 3. Знайти оцінку методом моментів двовимірного параметра (a,b) для рівномірного розподілу на відрізку [a,b] . Застосувати знайдені формули для знаходження оцінок  невідомих (a,b) рівномірного розподілу, якщо отримана вибірка має вигляд"
   ]
  },
  {
   "cell_type": "markdown",
   "id": "4f76c9a5",
   "metadata": {},
   "source": [
    "\t3\t 5\t 7\t 9\t 11\t13\t15\t17\t19\t21\n",
    "    21\t16\t15\t26\t22\t14\t21\t22\t18\t25\n",
    "\n"
   ]
  },
  {
   "cell_type": "markdown",
   "id": "3f95cb53",
   "metadata": {},
   "source": [
    "### Знайти оцінку (a,b) для рівномірного розподілу \n",
    "\n",
    "PDF: $f(x) = \\frac{1}{(b-a)} \\quad for \\; x\\in[a,b]$  \n",
    "\n",
    "Mean (1-st moment): $\\bar{x} = \\int_a^b {xf(x)dx} = \\frac{(a+b)}{2} $\n",
    "\n",
    "2-nd moment: $\\bar{x}_2 = \\int_a^b {x^2f(x)dx} = \\frac{(a^2+b^2 + ab)}{3}$\n",
    "\n",
    "https://math.stackexchange.com/questions/1839454/finding-the-method-of-moments-estimator-for-the-uniform-distribution\n",
    "\n",
    "Прирівняємо теоретичні та емпіричні моменти:\n",
    "\n",
    "$\\bar{x} = \\frac{x_1 + \\dots + x_n}{n} = \\frac{(a+b)}{2}$\n",
    "\n",
    "$\\bar{x}_2 = \\frac{x_1^2 + \\dots + x_n^2}{n} = \\frac{(a^2+b^2 + ab)}{3}$\n",
    "\n",
    "Виражаємо $a = 2\\bar{x}-b \\;$ і підставляємо далі: \n",
    "\n",
    "$(2\\bar{x}-b)^2 + b^2 + (2\\bar{x}-b)b = 3\\bar{x}_2 $\n",
    "\n",
    "$b^2 -4\\bar{x}b+4\\bar{x}^2+b^2+2\\bar{x}b-b^2 = 3\\bar{x}_2 $\n",
    "\n",
    "Отримуємо квадратичне рівняння з невідомим b:\n",
    "\n",
    "$b^2 -2\\bar{x}b+4\\bar{x}^2 - 3\\bar{x}_2 = 0 $\n",
    "\n",
    "$ \\hat{b} = \\frac{-(-2\\bar{x}) \\pm \\sqrt{(4\\bar{x}^2 - 4(4\\bar{x}^2 - 3\\bar{x}_2)}}{2} $\n",
    "\n",
    "Оскільки b > a, то b має бути додатнім:\n",
    "\n",
    "$ \\hat{b} = \\bar{x} + \\frac12\\sqrt{12\\bar{x}_2 -12\\bar{x}^2} $\n",
    "\n",
    "$ \\hat{b} = \\bar{x} + \\sqrt{3(\\bar{x}_2 -\\bar{x}^2)} $\n",
    "\n",
    "$\\hat{a} =2\\bar{x} - \\bar{x} - \\sqrt{3(\\bar{x}_2 - \\bar{x}^2)}= \\bar{x} - \\sqrt{3(\\bar{x}_2 - \\bar{x}^2)} $\n",
    "\n",
    "### *Формули оцінок невідомих (a,b)*\n",
    "\n",
    "$\\hat{a} = \\bar{x} - \\sqrt{3(\\bar{x}_2 - \\bar{x}^2)} = \\bar{x} - \\sqrt{3 \\sigma^2}$\n",
    "\n",
    "$\\hat{b} = \\bar{x} + \\sqrt{3(\\bar{x}_2 - \\bar{x}^2)} = \\bar{x} + \\sqrt{3 \\sigma^2}$\n",
    "\n",
    "Тобто (a,b) виражаються через лінійну комбінацію середнього та середньоквадратичного вибірки."
   ]
  },
  {
   "cell_type": "code",
   "execution_count": 34,
   "id": "4fea544c",
   "metadata": {},
   "outputs": [
    {
     "data": {
      "text/html": [
       "<div>\n",
       "<style scoped>\n",
       "    .dataframe tbody tr th:only-of-type {\n",
       "        vertical-align: middle;\n",
       "    }\n",
       "\n",
       "    .dataframe tbody tr th {\n",
       "        vertical-align: top;\n",
       "    }\n",
       "\n",
       "    .dataframe thead th {\n",
       "        text-align: right;\n",
       "    }\n",
       "</style>\n",
       "<table border=\"1\" class=\"dataframe\">\n",
       "  <thead>\n",
       "    <tr style=\"text-align: right;\">\n",
       "      <th></th>\n",
       "      <th>x_i</th>\n",
       "      <th>n_i</th>\n",
       "    </tr>\n",
       "  </thead>\n",
       "  <tbody>\n",
       "    <tr>\n",
       "      <th>0</th>\n",
       "      <td>3</td>\n",
       "      <td>21</td>\n",
       "    </tr>\n",
       "    <tr>\n",
       "      <th>1</th>\n",
       "      <td>5</td>\n",
       "      <td>16</td>\n",
       "    </tr>\n",
       "    <tr>\n",
       "      <th>2</th>\n",
       "      <td>7</td>\n",
       "      <td>15</td>\n",
       "    </tr>\n",
       "    <tr>\n",
       "      <th>3</th>\n",
       "      <td>9</td>\n",
       "      <td>26</td>\n",
       "    </tr>\n",
       "    <tr>\n",
       "      <th>4</th>\n",
       "      <td>11</td>\n",
       "      <td>22</td>\n",
       "    </tr>\n",
       "    <tr>\n",
       "      <th>5</th>\n",
       "      <td>13</td>\n",
       "      <td>14</td>\n",
       "    </tr>\n",
       "    <tr>\n",
       "      <th>6</th>\n",
       "      <td>15</td>\n",
       "      <td>21</td>\n",
       "    </tr>\n",
       "    <tr>\n",
       "      <th>7</th>\n",
       "      <td>17</td>\n",
       "      <td>22</td>\n",
       "    </tr>\n",
       "    <tr>\n",
       "      <th>8</th>\n",
       "      <td>19</td>\n",
       "      <td>18</td>\n",
       "    </tr>\n",
       "    <tr>\n",
       "      <th>9</th>\n",
       "      <td>21</td>\n",
       "      <td>25</td>\n",
       "    </tr>\n",
       "  </tbody>\n",
       "</table>\n",
       "</div>"
      ],
      "text/plain": [
       "   x_i  n_i\n",
       "0    3   21\n",
       "1    5   16\n",
       "2    7   15\n",
       "3    9   26\n",
       "4   11   22\n",
       "5   13   14\n",
       "6   15   21\n",
       "7   17   22\n",
       "8   19   18\n",
       "9   21   25"
      ]
     },
     "execution_count": 34,
     "metadata": {},
     "output_type": "execute_result"
    }
   ],
   "source": [
    "df = pd.DataFrame({\"x_i\": [3, 5, 7, 9, 11, 13, 15, 17, 19, 21],\n",
    "                 \"n_i\": [21, 16, 15, 26, 22, 14, 21, 22, 18, 25]\n",
    "                  })\n",
    "df"
   ]
  },
  {
   "cell_type": "code",
   "execution_count": 35,
   "id": "a729150c",
   "metadata": {},
   "outputs": [
    {
     "data": {
      "text/plain": [
       "12.31"
      ]
     },
     "execution_count": 35,
     "metadata": {},
     "output_type": "execute_result"
    }
   ],
   "source": [
    "# Пошук першого моменту\n",
    "x_bar = 0\n",
    "n = len(df)\n",
    "\n",
    "for i in range(n):\n",
    "    x_bar += df.x_i[i]* df.n_i[i]\n",
    "    \n",
    "x_bar = x_bar/sum(df.n_i)\n",
    "x_bar"
   ]
  },
  {
   "cell_type": "code",
   "execution_count": 36,
   "id": "57dc1331",
   "metadata": {},
   "outputs": [
    {
     "data": {
      "text/plain": [
       "185.32"
      ]
     },
     "execution_count": 36,
     "metadata": {},
     "output_type": "execute_result"
    }
   ],
   "source": [
    "# Пошук другого моменту\n",
    "x_bar_2 = 0\n",
    "n = len(df)\n",
    "\n",
    "for i in range(n):\n",
    "    x_bar_2 += df.x_i[i]**2 * df.n_i[i]\n",
    "    \n",
    "x_bar_2 = x_bar_2/sum(df.n_i)\n",
    "x_bar_2"
   ]
  },
  {
   "cell_type": "code",
   "execution_count": 37,
   "id": "c011a757",
   "metadata": {},
   "outputs": [
    {
     "data": {
      "text/plain": [
       "5.812391934479297"
      ]
     },
     "execution_count": 37,
     "metadata": {},
     "output_type": "execute_result"
    }
   ],
   "source": [
    "# Обрахунок sigma = std = середньо квадратичне відхилення\n",
    "sigma = np.sqrt(x_bar_2 - x_bar**2)\n",
    "sigma"
   ]
  },
  {
   "cell_type": "markdown",
   "id": "2e81d968",
   "metadata": {},
   "source": [
    "Тобто в межах ~6 йде розкид чисел"
   ]
  },
  {
   "cell_type": "code",
   "execution_count": 38,
   "id": "8cab9ff2",
   "metadata": {},
   "outputs": [
    {
     "data": {
      "text/plain": [
       "(2.242641855978306, 22.377358144021695)"
      ]
     },
     "execution_count": 38,
     "metadata": {},
     "output_type": "execute_result"
    }
   ],
   "source": [
    "a = x_bar - np.sqrt(3) * sigma\n",
    "b = x_bar + np.sqrt(3) * sigma\n",
    "a,b"
   ]
  },
  {
   "cell_type": "markdown",
   "id": "fbc813bc",
   "metadata": {},
   "source": [
    "За знайденими оцінками шукаємо найближчі значення з наших вибірок - відповідно 3 та 21"
   ]
  },
  {
   "cell_type": "code",
   "execution_count": null,
   "id": "cc949b26",
   "metadata": {},
   "outputs": [],
   "source": []
  },
  {
   "cell_type": "code",
   "execution_count": null,
   "id": "eb40670e",
   "metadata": {},
   "outputs": [],
   "source": []
  }
 ],
 "metadata": {
  "kernelspec": {
   "display_name": "Python 3",
   "language": "python",
   "name": "python3"
  },
  "language_info": {
   "codemirror_mode": {
    "name": "ipython",
    "version": 3
   },
   "file_extension": ".py",
   "mimetype": "text/x-python",
   "name": "python",
   "nbconvert_exporter": "python",
   "pygments_lexer": "ipython3",
   "version": "3.8.8"
  }
 },
 "nbformat": 4,
 "nbformat_minor": 5
}
