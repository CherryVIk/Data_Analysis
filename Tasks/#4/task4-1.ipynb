{
 "cells": [
  {
   "cell_type": "markdown",
   "metadata": {},
   "source": [
    "# 4.1. Перевірка гіпотези про середнє\n",
    "\n",
    "+ Для даних із завдання практичної роботи No1 сформулювати задачу у предметній області, що вимагає перевірити відповідність середнього вибірки деякому числу. \n",
    "+ Зробити формулювання нульової та альтернативної гіпотези. \n",
    "- Визначити статистику і критерій для перевірки гіпотези. \n",
    "- Перевірити гіпотезу із застосуванням Пайтон. \n",
    "- Порівняти із довірчим інтервалом. \n",
    "- Дати інтерпретацію результатів.\n"
   ]
  },
  {
   "cell_type": "markdown",
   "metadata": {},
   "source": [
    "### 1) Сформулювати задачу в предметній області, що вимагає перевірити відповідність середнього вибірки деякому числу. \n",
    "\n",
    "**Проблема (в предметній області)**\n",
    "Данi варiанту №1 в межах вiд 0 до 1, невiд’ємнi, то можемо це вважати нарахування у відсотковому варіанті - можна припустити, що це система нарахування новорiчної премiї до заробiтньої платнi в державній організації \"Київтрансгаз\". \n",
    "\n",
    "Вибіркове дослідження обсягом 110 у державній організації \"Київтрансгаз\" виявило, що середнє нарахування новорiчної премiї до заробiтньої платнi є 42,3%. \n",
    "\n",
    "Вважається, що в головної організації \"УкрТрансГаз\" середня новорічна премія є 50% від заробітньої платні. Це є хорошим показником ставлення компанії щодо фінансової мотивації своїх працівників. Можна перевірити чи менше нараховують премію в цьому наборі даних для дочірньої компанії \"Київтрансгаз\" .\n",
    "\n",
    "### 2) Зробити формулювання нульової та альтернативної гіпотези. \n",
    "\n",
    "H0: середнє нарахування новорічної премії = 50%\n",
    "\n",
    "H1: середнє нарахування новорічної премії < 50%\n",
    "\n"
   ]
  },
  {
   "cell_type": "markdown",
   "metadata": {},
   "source": [
    "Рівень значущості візьмемо $\\alpha = 0.05$"
   ]
  },
  {
   "cell_type": "code",
   "execution_count": 1,
   "id": "d4f6dcac",
   "metadata": {},
   "outputs": [],
   "source": [
    "#Завантаження необхідних бібліотек\n",
    "\n",
    "import pandas as pd\n",
    "import numpy as np\n",
    "import seaborn as sns\n",
    "sns.set() # для кращого вигляду графіків\n",
    "\n",
    "#завантажимо додаткові бібліотеки для гістограми і коробки з вусами\n",
    "import matplotlib.pyplot as plt\n",
    "\n",
    "import scipy.stats as st "
   ]
  },
  {
   "cell_type": "code",
   "execution_count": 4,
   "id": "07b6d32f",
   "metadata": {},
   "outputs": [
    {
     "data": {
      "text/plain": [
       "0      0.175\n",
       "1      0.609\n",
       "2      0.330\n",
       "3      0.275\n",
       "4      0.441\n",
       "       ...  \n",
       "105    0.315\n",
       "106    0.529\n",
       "107    0.210\n",
       "108    0.420\n",
       "109    0.157\n",
       "Name: Var1, Length: 110, dtype: float64"
      ]
     },
     "execution_count": 4,
     "metadata": {},
     "output_type": "execute_result"
    }
   ],
   "source": [
    "# Завантаження таблиці-excel через Pandas, вибираючи дані варіанту №1\n",
    "df = pd.read_excel(\"Data1.xlsx\", header=None, usecols=\"A\", names=[\"Var1\"])\n",
    "data = df[\"Var1\"]\n",
    "data"
   ]
  },
  {
   "cell_type": "code",
   "execution_count": 5,
   "metadata": {},
   "outputs": [
    {
     "data": {
      "text/plain": [
       "count    110.000000\n",
       "mean       0.423018\n",
       "std        0.187772\n",
       "min        0.081000\n",
       "25%        0.279000\n",
       "50%        0.397500\n",
       "75%        0.575750\n",
       "max        0.843000\n",
       "Name: Var1, dtype: float64"
      ]
     },
     "execution_count": 5,
     "metadata": {},
     "output_type": "execute_result"
    }
   ],
   "source": [
    "data.describe()"
   ]
  },
  {
   "cell_type": "code",
   "execution_count": 7,
   "metadata": {},
   "outputs": [
    {
     "data": {
      "text/plain": [
       "(0.42301818181818185, 0.1869163148586302)"
      ]
     },
     "execution_count": 7,
     "metadata": {},
     "output_type": "execute_result"
    }
   ],
   "source": [
    "mean, var = st.distributions.norm.fit(data)\n",
    "mean, var"
   ]
  },
  {
   "cell_type": "markdown",
   "metadata": {},
   "source": [
    "### 3) Визначити статистику і критерій для перевірки гіпотези.\n"
   ]
  },
  {
   "cell_type": "markdown",
   "metadata": {},
   "source": [
    "Візьмемо за t-статистику відхилення середнього нашої вибірки від середнього вибірки по головній компанії по середньоквадратичному відхиленні.\n",
    "\n",
    "$ t_{\\text{стат}} = \\frac{\\bar{X} - \\mu_0}{\\sqrt{s^2/n}} $"
   ]
  },
  {
   "cell_type": "code",
   "execution_count": null,
   "metadata": {},
   "outputs": [],
   "source": [
    "# завантажуємо norm та t (нормальний та Student)\n",
    "from scipy.stats import norm\n",
    "from scipy.stats import t"
   ]
  },
  {
   "cell_type": "code",
   "execution_count": null,
   "metadata": {},
   "outputs": [],
   "source": [
    "# обчислюємо параметри для нормального розподілу\n",
    "mean, var = norm.fit(data)\n",
    "\n",
    "# обчислюємо параметри для Стьюдент розподілу\n",
    "\n",
    "x, loc, scale  = t.fit(data)\n",
    "\n",
    "print(f'mean = {mean}, var = {var}')\n",
    "print(f'x = {x}, loc = {loc}, scale = {scale}')"
   ]
  },
  {
   "cell_type": "code",
   "execution_count": null,
   "metadata": {
    "colab": {
     "base_uri": "https://localhost:8080/"
    },
    "executionInfo": {
     "elapsed": 597,
     "status": "ok",
     "timestamp": 1614001819625,
     "user": {
      "displayName": "Nataly Shchestyuk",
      "photoUrl": "https://lh3.googleusercontent.com/a-/AOh14GiGmm2Y--BlVwfBp_CuWxsigZApSqWhzi1zdDp9Pw=s64",
      "userId": "01922572432703813034"
     },
     "user_tz": -120
    },
    "id": "-g1xFdUy96Xw",
    "outputId": "113daa23-75d5-4e37-ff44-0e70def22360"
   },
   "outputs": [
    {
     "name": "stdout",
     "output_type": "stream",
     "text": [
      "-2.6842925244073372 0.008402989981888459\n"
     ]
    }
   ],
   "source": [
    "n= len(data)\n",
    "sm = data.mean()\n",
    "m = 50\n",
    "sv= data.var()\n",
    "tt = (sm-m)/np.sqrt(sv/float(n))  # t-statistic for mean\n",
    "pval = stats.t.sf(np.abs(tt), n-1)*2  # two-sided pvalue = Prob(abs(t)>tt)\n",
    "print (tt, pval)\n"
   ]
  },
  {
   "cell_type": "markdown",
   "metadata": {},
   "source": [
    "Далі застосуємо Тест Пірсона Хі-квадрат. Статистика... .\n",
    "\n",
    "- Спочатку застосуємо цей тест без використання статистичних вбудованих функцій. Для нього побудуємо табл. для порівняння теоретичних і емпіричних частот як у файлі 4_2.\n",
    "    \n",
    "Тепер застосуємо вбудований тест Пірсона Хі квадрат."
   ]
  },
  {
   "cell_type": "code",
   "execution_count": null,
   "metadata": {
    "colab": {
     "base_uri": "https://localhost:8080/"
    },
    "executionInfo": {
     "elapsed": 1091,
     "status": "ok",
     "timestamp": 1613936069511,
     "user": {
      "displayName": "Nataly Shchestyuk",
      "photoUrl": "https://lh3.googleusercontent.com/a-/AOh14GiGmm2Y--BlVwfBp_CuWxsigZApSqWhzi1zdDp9Pw=s64",
      "userId": "01922572432703813034"
     },
     "user_tz": -120
    },
    "id": "oJx6tFhfEU1S",
    "outputId": "3b950037-9d21-455c-b7f1-c2483b95c970"
   },
   "outputs": [
    {
     "name": "stdout",
     "output_type": "stream",
     "text": [
      "stat Xi_2=125.274, p=0.000\n",
      "The null hypothesis can be rejected. Probably not Gaussian\n"
     ]
    }
   ],
   "source": [
    "#chisquare Pearson Test\n",
    "from scipy.stats import chisquare\n",
    "Statistics_Xi_2, p=chisquare(proba)\n",
    "alpha = 0.05\n",
    "print('stat Xi_2=%.3f, p=%.3f' % (Statistics_Xi_2, p))\n",
    "if p < alpha:  # null hypothesis: x comes from a normal distribution\n",
    "     print(\"The null hypothesis can be rejected. Probably not Gaussian\")\n",
    "else:\n",
    "     print(\"The null hypothesis cannot be rejected. Probably Gaussian\")"
   ]
  },
  {
   "cell_type": "markdown",
   "metadata": {},
   "source": [
    "### 4) Перевірити гіпотезу із застосуванням Пайтон. \n"
   ]
  },
  {
   "cell_type": "markdown",
   "metadata": {},
   "source": [
    "### 5) Порівняти із довірчим інтервалом. \n"
   ]
  },
  {
   "cell_type": "markdown",
   "metadata": {},
   "source": [
    "### 6) Дати інтерпретацію результатів."
   ]
  },
  {
   "cell_type": "markdown",
   "metadata": {},
   "source": []
  }
 ],
 "metadata": {
  "interpreter": {
   "hash": "6aeb3db7f206cdb2f424a4a314ffd92e673031d39a950de50feb53b6f9ef9ed1"
  },
  "kernelspec": {
   "display_name": "Python 3.8.8 ('base')",
   "language": "python",
   "name": "python3"
  },
  "language_info": {
   "codemirror_mode": {
    "name": "ipython",
    "version": 3
   },
   "file_extension": ".py",
   "mimetype": "text/x-python",
   "name": "python",
   "nbconvert_exporter": "python",
   "pygments_lexer": "ipython3",
   "version": "3.8.8"
  },
  "orig_nbformat": 4
 },
 "nbformat": 4,
 "nbformat_minor": 2
}
